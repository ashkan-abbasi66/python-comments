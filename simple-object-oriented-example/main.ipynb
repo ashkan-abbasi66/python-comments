{
 "cells": [
  {
   "cell_type": "markdown",
   "metadata": {
    "collapsed": true
   },
   "source": [
    "# import a class & create an object\n",
    "from folder.file import a class ==> obj=class(...)\n",
    "<br>\n",
    "or import class ==> obj=filename.class(...)"
   ]
  },
  {
   "cell_type": "code",
   "execution_count": 4,
   "metadata": {},
   "outputs": [
    {
     "name": "stdout",
     "output_type": "stream",
     "text": [
      "Creating Staff object\n"
     ]
    }
   ],
   "source": [
    "from staff import Staff\n",
    "officeStaff1 = Staff('Basic', 'Ali', 0) # We do not need to pass 'self'"
   ]
  },
  {
   "cell_type": "markdown",
   "metadata": {},
   "source": [
    "1. Change an instance variable's value.\n",
    "2. Call instance methods."
   ]
  },
  {
   "cell_type": "code",
   "execution_count": 5,
   "metadata": {},
   "outputs": [
    {
     "name": "stdout",
     "output_type": "stream",
     "text": [
      "\n",
      "Enter # of hours worked for Ali: 10\n",
      "Enter the hourly rate for Ali: 100\n",
      "1000\n",
      "Position=Manager, Name=Ali, Pay=1000\n"
     ]
    }
   ],
   "source": [
    "officeStaff1.position = 'Manager'\n",
    "print(officeStaff1.calculatePay())\n",
    "print(officeStaff1) # Python will call the __str__ method"
   ]
  },
  {
   "cell_type": "markdown",
   "metadata": {},
   "source": [
    "# Properties\n",
    "We may accidentally change the property of an instance to an incorrect value. Let's change 'position' from an instance variable to a **property**."
   ]
  },
  {
   "cell_type": "code",
   "execution_count": 6,
   "metadata": {},
   "outputs": [
    {
     "name": "stdout",
     "output_type": "stream",
     "text": [
      "Creating Staff_2 object\n",
      "Position=Basic, Name=Mohammad, Pay=0\n",
      "Position is invalid. No changes made.\n",
      "Position=Basic, Name=Mohammad, Pay=0\n"
     ]
    }
   ],
   "source": [
    "from staff_2 import Staff_2\n",
    "officeStaff2=Staff_2(\"Manager\",\"Mohammad\",0)\n",
    "officeStaff2.position = 'Basic' # setter method\n",
    "print(officeStaff2)\n",
    "officeStaff2.position = 'WRONG VALUE'\n",
    "print(officeStaff2)"
   ]
  },
  {
   "cell_type": "markdown",
   "metadata": {},
   "source": [
    "Although we created properties, one can still modify '_position'"
   ]
  },
  {
   "cell_type": "code",
   "execution_count": 8,
   "metadata": {},
   "outputs": [
    {
     "name": "stdout",
     "output_type": "stream",
     "text": [
      "Position=WRONG VALUE, Name=Mohammad, Pay=0\n"
     ]
    }
   ],
   "source": [
    "officeStaff2._position='WRONG VALUE'\n",
    "print(officeStaff2)"
   ]
  },
  {
   "cell_type": "markdown",
   "metadata": {},
   "source": [
    "# Name mangling\n",
    "mangle variable's name to make it harder to access"
   ]
  },
  {
   "cell_type": "code",
   "execution_count": 9,
   "metadata": {},
   "outputs": [
    {
     "name": "stdout",
     "output_type": "stream",
     "text": [
      "Creating Staff_3 object\n",
      "Position=WRONG VALUE, Name=Ashkan, Pay=0\n"
     ]
    }
   ],
   "source": [
    "from staff_3 import Staff_3\n",
    "officeStaff3=Staff_3(\"Manager\",\"Ashkan\",0)\n",
    "officeStaff3._Staff_3__position='WRONG VALUE'\n",
    "print(officeStaff3)"
   ]
  },
  {
   "cell_type": "markdown",
   "metadata": {},
   "source": [
    "# what is 'self' keyword?\n",
    "self essentially represents an instance of the class."
   ]
  },
  {
   "cell_type": "code",
   "execution_count": 10,
   "metadata": {},
   "outputs": [
    {
     "name": "stdout",
     "output_type": "stream",
     "text": [
      "2500\n",
      "ProgrammingLab\n"
     ]
    }
   ],
   "source": [
    "from programmingStaff import ProgStaff\n",
    "peter = ProgStaff(2500)\n",
    "john = ProgStaff(2500)\n",
    "print(peter.salary)\n",
    "print(ProgStaff.companyName)"
   ]
  },
  {
   "cell_type": "markdown",
   "metadata": {},
   "source": [
    "Call an instance method:"
   ]
  },
  {
   "cell_type": "code",
   "execution_count": 13,
   "metadata": {},
   "outputs": [
    {
     "name": "stdout",
     "output_type": "stream",
     "text": [
      "Company name is ProgrammingLab\n",
      "Salary is 2500\n",
      "Company name is ProgrammingLab\n",
      "Salary is 2500\n"
     ]
    }
   ],
   "source": [
    "peter.printInfo()\n",
    "ProgStaff.printInfo(peter)"
   ]
  },
  {
   "cell_type": "markdown",
   "metadata": {},
   "source": [
    "There are two other method types which are used rarely: <br>\n",
    "1. **Class method**: A class method is a method that has a class object (instead of self) as the first parameter. 'cls' is commonly used to represent that class object.<br>\n",
    "2. **Static method**"
   ]
  },
  {
   "cell_type": "code",
   "execution_count": 16,
   "metadata": {},
   "outputs": [
    {
     "name": "stdout",
     "output_type": "stream",
     "text": [
      "This is a class method.\n",
      " we can usu. access to a class variable using 'cls'\n",
      "cls.companyName=ProgrammingLab\n",
      "This is a class method.\n",
      " we can usu. access to a class variable using 'cls'\n",
      "cls.companyName=ProgrammingLab\n",
      "This is an static method\n",
      "This is an static method\n"
     ]
    }
   ],
   "source": [
    "ProgStaff.classMeth()\n",
    "peter.classMeth()\n",
    "\n",
    "ProgStaff.staticMeth()\n",
    "john.staticMeth()"
   ]
  },
  {
   "cell_type": "markdown",
   "metadata": {
    "collapsed": true
   },
   "source": [
    "# Inheritance\n",
    "see the difinitions of each class in staffs.py"
   ]
  },
  {
   "cell_type": "code",
   "execution_count": 1,
   "metadata": {},
   "outputs": [
    {
     "name": "stdout",
     "output_type": "stream",
     "text": [
      "Creating Staff_2 object\n",
      "\n",
      "Enter # of hours worked for Arman: 10\n",
      "Enter the hourly rate for Arman: 10\n",
      "Position=Manager, Name=Arman, Pay=1100\n",
      "Creating Staff_2 object\n",
      "Position=Basic, Name=Afshin, Pay=0\n"
     ]
    }
   ],
   "source": [
    "from staffs import *\n",
    "arman=ManagementStaff('Arman',0,1000,0)\n",
    "arman.calculatePay()\n",
    "print(arman)\n",
    "\n",
    "afshin=BasicStaff('Afshin',0)\n",
    "print(afshin)"
   ]
  },
  {
   "cell_type": "markdown",
   "metadata": {},
   "source": [
    "# special functions\n",
    "`__init__, __str__`<br>\n",
    "`__add__, __sub__, __mul__` and `__div__` can be used for overloading operators (+,-,*,/)<br>\n",
    "Let's overload the + operator for the Staff_2 class:"
   ]
  },
  {
   "cell_type": "code",
   "execution_count": 2,
   "metadata": {},
   "outputs": [
    {
     "name": "stdout",
     "output_type": "stream",
     "text": [
      "1100\n"
     ]
    }
   ],
   "source": [
    "total=afshin+arman\n",
    "print(total)"
   ]
  },
  {
   "cell_type": "markdown",
   "metadata": {
    "collapsed": true
   },
   "source": [
    "# Python Built-in Functions for Objects\n",
    "We will discuss the following functions:\n",
    "isinstance<br>\n",
    "issubclass<br>\n",
    "hasattr: An attribute can refer to both data (variables) and methods.<br> "
   ]
  },
  {
   "cell_type": "code",
   "execution_count": 5,
   "metadata": {},
   "outputs": [
    {
     "name": "stdout",
     "output_type": "stream",
     "text": [
      "True\n",
      "True\n",
      "False\n",
      "True\n",
      "True\n"
     ]
    }
   ],
   "source": [
    "print(isinstance(afshin, Staff_2))\n",
    "print(isinstance(afshin,BasicStaff))\n",
    "print(isinstance(afshin,ManagementStaff))\n",
    "print(isinstance(afshin,(BasicStaff,ManagementStaff))) # You will get True as BasicStaff is one of the types in the tuple.\n",
    "print(isinstance(5, int))"
   ]
  },
  {
   "cell_type": "code",
   "execution_count": 6,
   "metadata": {},
   "outputs": [
    {
     "ename": "NameError",
     "evalue": "name 'WRONGCLASS' is not defined",
     "output_type": "error",
     "traceback": [
      "\u001b[1;31m---------------------------------------------------------------------------\u001b[0m",
      "\u001b[1;31mNameError\u001b[0m                                 Traceback (most recent call last)",
      "\u001b[1;32m<ipython-input-6-330eb9037264>\u001b[0m in \u001b[0;36m<module>\u001b[1;34m()\u001b[0m\n\u001b[1;32m----> 1\u001b[1;33m \u001b[0misinstance\u001b[0m\u001b[1;33m(\u001b[0m\u001b[0mafshin\u001b[0m\u001b[1;33m,\u001b[0m\u001b[0mWRONGCLASS\u001b[0m\u001b[1;33m)\u001b[0m\u001b[1;33m\u001b[0m\u001b[0m\n\u001b[0m",
      "\u001b[1;31mNameError\u001b[0m: name 'WRONGCLASS' is not defined"
     ]
    }
   ],
   "source": [
    "isinstance(afshin,WRONGCLASS)"
   ]
  },
  {
   "cell_type": "code",
   "execution_count": 7,
   "metadata": {},
   "outputs": [
    {
     "name": "stdout",
     "output_type": "stream",
     "text": [
      "No such class\n"
     ]
    }
   ],
   "source": [
    "try:\n",
    "    isinstance(afshin,WRONGCLASS)\n",
    "except NameError:\n",
    "    print(\"No such class\")"
   ]
  },
  {
   "cell_type": "code",
   "execution_count": 15,
   "metadata": {},
   "outputs": [
    {
     "name": "stdout",
     "output_type": "stream",
     "text": [
      "True\n",
      "False\n"
     ]
    }
   ],
   "source": [
    "print(issubclass(BasicStaff,Staff_2))\n",
    "print(issubclass(Staff_2,BasicStaff))"
   ]
  },
  {
   "cell_type": "code",
   "execution_count": 30,
   "metadata": {},
   "outputs": [
    {
     "name": "stdout",
     "output_type": "stream",
     "text": [
      "False\n",
      "False\n",
      "True\n",
      "True\n",
      "True\n"
     ]
    }
   ],
   "source": [
    "print(hasattr(Staff_2,'name')) # instance variable\n",
    "print(hasattr(Staff_2,'_position'))\n",
    "\n",
    "print(hasattr(BasicStaff,'position')) # property\n",
    "\n",
    "print(hasattr(Staff_2,'calculatePay'))# instance method\n",
    "\n",
    "from programmingStaff import ProgStaff\n",
    "print(hasattr(ProgStaff,'companyName')) # class variable"
   ]
  },
  {
   "cell_type": "markdown",
   "metadata": {},
   "source": [
    "# Other techniques"
   ]
  },
  {
   "cell_type": "markdown",
   "metadata": {},
   "source": [
    "## refer an instance variable to a function to call it"
   ]
  },
  {
   "cell_type": "code",
   "execution_count": 45,
   "metadata": {},
   "outputs": [
    {
     "name": "stdout",
     "output_type": "stream",
     "text": [
      "True\n",
      "True\n",
      "True\n",
      "False\n"
     ]
    }
   ],
   "source": [
    "def salam_method1(self):\n",
    "    print(\"\\nsalam1\")\n",
    "    \n",
    "def salam_method2(self,ProgStaff):\n",
    "    print(\"\\nsalam2\")\n",
    "    ProgStaff.printInfo()\n",
    "\n",
    "from programmingStaff import ProgStaff\n",
    "\n",
    "ProgStaff.salam1=salam_method1\n",
    "ProgStaff.salam2=salam_method2\n",
    "\n",
    "print(hasattr(ProgStaff,'salam1'))\n",
    "print(hasattr(ProgStaff,'salam2'))\n",
    "print(hasattr(ProgStaff,'printInfo'))\n",
    "print(hasattr(ProgStaff,'salam_method1')) # these functions are not class attributes!\n",
    "print(hasattr(ProgStaff,'salam_method2'))\n"
   ]
  },
  {
   "cell_type": "code",
   "execution_count": 46,
   "metadata": {},
   "outputs": [],
   "source": [
    "# instantiate objects\n",
    "obj=ProgStaff(10)\n",
    "obj2=ProgStaff(100)"
   ]
  },
  {
   "cell_type": "code",
   "execution_count": 47,
   "metadata": {},
   "outputs": [
    {
     "name": "stdout",
     "output_type": "stream",
     "text": [
      "\n",
      "salam1\n",
      "\n",
      "salam2\n",
      "Company name is ProgrammingLab\n",
      "Salary is 100\n"
     ]
    }
   ],
   "source": [
    "# call functions by instance variables that are reffered to them.\n",
    "obj.salam1()\n",
    "obj.salam2(obj2)\n"
   ]
  },
  {
   "cell_type": "code",
   "execution_count": null,
   "metadata": {},
   "outputs": [],
   "source": []
  }
 ],
 "metadata": {
  "kernelspec": {
   "display_name": "Python 3",
   "language": "python",
   "name": "python3"
  },
  "language_info": {
   "codemirror_mode": {
    "name": "ipython",
    "version": 3
   },
   "file_extension": ".py",
   "mimetype": "text/x-python",
   "name": "python",
   "nbconvert_exporter": "python",
   "pygments_lexer": "ipython3",
   "version": "3.6.5"
  }
 },
 "nbformat": 4,
 "nbformat_minor": 1
}
