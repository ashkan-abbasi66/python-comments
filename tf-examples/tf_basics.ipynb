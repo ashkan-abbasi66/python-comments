{
 "cells": [
  {
   "cell_type": "markdown",
   "metadata": {},
   "source": [
    "- Define a graph of computations in python => Tensorflow takes that graph and runs it using optimized C++ code.<br>\n",
    "- possiblity of breaking the graph into multiple chunks or distributed computing<br>\n",
    "- In addition to its main API, there are also some **simple APIs:**\n",
    "    - TF.Learn (tensorflow.contrib.learn) is compatible with Scikit-Learn.\n",
    "    - TF.slim (tensorflow.contrib.slim)\n",
    "    - Keras\n",
    "    - Pretty Tensor\n",
    "\n"
   ]
  },
  {
   "cell_type": "markdown",
   "metadata": {},
   "source": [
    "# Creating and running a graph\n",
    "A TF program is usu. split into 2 parts:\n",
    "- construction phase\n",
    "- execution phase"
   ]
  },
  {
   "cell_type": "code",
   "execution_count": 11,
   "metadata": {},
   "outputs": [
    {
     "name": "stdout",
     "output_type": "stream",
     "text": [
      "Tensor(\"add_5:0\", shape=(), dtype=int32)\n"
     ]
    }
   ],
   "source": [
    "import tensorflow as tf\n",
    "\n",
    "x = tf.Variable(3, name=\"x\")\n",
    "y = tf.Variable(4, name=\"y\")\n",
    "f = x*x*y + y + 2\n",
    "print(f)"
   ]
  },
  {
   "cell_type": "markdown",
   "metadata": {},
   "source": [
    "A TF session takes care of placing the operations onto devices such as CPUs and GPUs and running them, and it holds all the vars values."
   ]
  },
  {
   "cell_type": "code",
   "execution_count": 12,
   "metadata": {},
   "outputs": [
    {
     "name": "stdout",
     "output_type": "stream",
     "text": [
      "42\n"
     ]
    }
   ],
   "source": [
    "session_conf=tf.ConfigProto(device_count={'GPU': 0})\n",
    "sess=tf.Session(config=session_conf)\n",
    "\n",
    "sess.run(x.initializer)\n",
    "sess.run(y.initializer)\n",
    "\n",
    "result=sess.run(f)\n",
    "print(result)\n",
    "\n",
    "sess.close()"
   ]
  },
  {
   "cell_type": "markdown",
   "metadata": {},
   "source": [
    "Repeating `sess.run()` is sometimes cumbersome!<br>\n",
    "The `with` statement is used to wrap the execution of a block with *methods* defined by a context manager.<br>\n",
    "- The context manager handles the entry into, and the exit from, the desired runtime context for the execution of the block of code."
   ]
  },
  {
   "cell_type": "code",
   "execution_count": 13,
   "metadata": {},
   "outputs": [
    {
     "name": "stdout",
     "output_type": "stream",
     "text": [
      "42\n"
     ]
    }
   ],
   "source": [
    "session_conf=tf.ConfigProto(device_count={'GPU': 0})\n",
    "with tf.Session(config=session_conf) as sess: \n",
    "    x.initializer.run()\n",
    "    y.initializer.run()\n",
    "    \n",
    "    result=f.eval()\n",
    "    \n",
    "    # automatically close the session.\n",
    "\n",
    "print(result)"
   ]
  },
  {
   "cell_type": "markdown",
   "metadata": {},
   "source": [
    "Initilizing every single variable is combersome!. Use `tf.global_variables_initializer()`."
   ]
  },
  {
   "cell_type": "markdown",
   "metadata": {},
   "source": [
    "## Example 1: using `with`"
   ]
  },
  {
   "cell_type": "code",
   "execution_count": 12,
   "metadata": {},
   "outputs": [
    {
     "name": "stdout",
     "output_type": "stream",
     "text": [
      "42\n"
     ]
    }
   ],
   "source": [
    "import tensorflow as tf\n",
    "\n",
    "x = tf.Variable(3, name=\"x\")\n",
    "y = tf.Variable(4, name=\"y\")\n",
    "f = x*x*y + y + 2\n",
    "\n",
    "session_conf=tf.ConfigProto(device_count={'GPU': 0})\n",
    "init=tf.global_variables_initializer()\n",
    "with tf.Session(config=session_conf) as sess:\n",
    "    init.run()\n",
    "    \n",
    "    result=f.eval()\n",
    "    \n",
    "print(result)"
   ]
  },
  {
   "cell_type": "markdown",
   "metadata": {},
   "source": [
    "## Example 2:"
   ]
  },
  {
   "cell_type": "code",
   "execution_count": 11,
   "metadata": {},
   "outputs": [
    {
     "name": "stdout",
     "output_type": "stream",
     "text": [
      "42\n"
     ]
    }
   ],
   "source": [
    "import tensorflow as tf\n",
    "\n",
    "x = tf.Variable(3, name=\"x\")\n",
    "y = tf.Variable(4, name=\"y\")\n",
    "f = x*x*y + y + 2\n",
    "\n",
    "session_conf=tf.ConfigProto(device_count={'GPU': 0})\n",
    "sess=tf.Session(config=session_conf)\n",
    "\n",
    "init=tf.global_variables_initializer()\n",
    "\n",
    "sess.run(init)\n",
    "result=sess.run(f)\n",
    "print(result)\n",
    "\n",
    "sess.close()"
   ]
  },
  {
   "cell_type": "markdown",
   "metadata": {},
   "source": [
    "## Interactive session"
   ]
  },
  {
   "cell_type": "code",
   "execution_count": 17,
   "metadata": {},
   "outputs": [
    {
     "name": "stdout",
     "output_type": "stream",
     "text": [
      "42\n"
     ]
    },
    {
     "name": "stderr",
     "output_type": "stream",
     "text": [
      "c:\\users\\ashkan\\anaconda3\\envs\\tf-gpu\\lib\\site-packages\\tensorflow\\python\\client\\session.py:1711: UserWarning: An interactive session is already active. This can cause out-of-memory errors in some cases. You must explicitly call `InteractiveSession.close()` to release resources held by the other session(s).\n",
      "  warnings.warn('An interactive session is already active. This can '\n"
     ]
    }
   ],
   "source": [
    "import tensorflow as tf\n",
    "\n",
    "x = tf.Variable(3, name=\"x\")\n",
    "y = tf.Variable(4, name=\"y\")\n",
    "f = x*x*y + y + 2\n",
    "\n",
    "init = tf.global_variables_initializer()\n",
    "\n",
    "sess = tf.InteractiveSession()\n",
    "\n",
    "init.run()\n",
    "\n",
    "result = f.eval()\n",
    "\n",
    "sess.close()\n",
    "\n",
    "print(result)"
   ]
  },
  {
   "cell_type": "markdown",
   "metadata": {},
   "source": [
    "# Lifecycle of a node\n",
    "- A node is automatically added to the default graph.\n",
    "- **start**: initilizer is run; **end**: the session is closed.\n",
    "- TF does not reuse the result of the previous evaluations. In the following example, TF evaluates w & x twice."
   ]
  },
  {
   "cell_type": "code",
   "execution_count": 13,
   "metadata": {},
   "outputs": [
    {
     "name": "stdout",
     "output_type": "stream",
     "text": [
      "10\n",
      "15\n"
     ]
    }
   ],
   "source": [
    "import tensorflow as tf\n",
    "\n",
    "# Running the same commands multiple times may result in many duplicate nodes. restart the jupyter \n",
    "# kernel or use the following command:\n",
    "tf.reset_default_graph()\n",
    "\n",
    "w=tf.constant(3)\n",
    "x=w+2\n",
    "y=x+5\n",
    "z=x*3\n",
    "\n",
    "session_conf=tf.ConfigProto(device_count={'GPU': 0})\n",
    "with tf.Session(config=session_conf) as sess:\n",
    "    print(y.eval())\n",
    "    print(z.eval())"
   ]
  },
  {
   "cell_type": "markdown",
   "metadata": {},
   "source": [
    "# Feeding data to the training algorithm"
   ]
  },
  {
   "cell_type": "code",
   "execution_count": 14,
   "metadata": {},
   "outputs": [
    {
     "name": "stdout",
     "output_type": "stream",
     "text": [
      "[[ 9 10 11]\n",
      " [12 13 14]]\n"
     ]
    }
   ],
   "source": [
    "import tensorflow as tf\n",
    "\n",
    "tf.reset_default_graph()\n",
    "\n",
    "input_data=[[4, 5, 6],\n",
    "            [7, 8, 9]]\n",
    "\n",
    "A=tf.constant(input_data)\n",
    "\n",
    "B = A + 5\n",
    "\n",
    "session_conf=tf.ConfigProto(device_count={'GPU': 0})\n",
    "with tf.Session(config=session_conf) as sess:\n",
    "    result=B.eval()\n",
    "\n",
    "print(result)"
   ]
  },
  {
   "cell_type": "markdown",
   "metadata": {},
   "source": [
    "We need a way to replace new data at every iteration. **Place holder** nodes just output the data you tell them to output at runtime.<br>"
   ]
  },
  {
   "cell_type": "code",
   "execution_count": 15,
   "metadata": {},
   "outputs": [
    {
     "name": "stdout",
     "output_type": "stream",
     "text": [
      "[[ 9. 10. 11.]\n",
      " [12. 13. 14.]]\n",
      "[[6. 6. 6.]\n",
      " [7. 7. 7.]]\n"
     ]
    }
   ],
   "source": [
    "import tensorflow as tf\n",
    "\n",
    "tf.reset_default_graph()\n",
    "\n",
    "chunk=[]\n",
    "chunk.append([[4, 5, 6],\n",
    "                   [7, 8, 9]])\n",
    "chunk.append([[1, 1, 1],\n",
    "                   [2, 2, 2]])\n",
    "\n",
    "A = tf.placeholder(tf.float32, shape=(None, 3))\n",
    "B = A + 5\n",
    "\n",
    "result=[]\n",
    "session_conf=tf.ConfigProto(device_count={'GPU': 0})\n",
    "with tf.Session(config=session_conf) as sess:\n",
    "    for i in range(0,2):\n",
    "        result.append(B.eval(feed_dict={A: chunk[i]}))\n",
    "\n",
    "print(result[0])\n",
    "print(result[1])"
   ]
  },
  {
   "cell_type": "code",
   "execution_count": null,
   "metadata": {},
   "outputs": [],
   "source": []
  }
 ],
 "metadata": {
  "kernelspec": {
   "display_name": "Python 3",
   "language": "python",
   "name": "python3"
  },
  "language_info": {
   "codemirror_mode": {
    "name": "ipython",
    "version": 3
   },
   "file_extension": ".py",
   "mimetype": "text/x-python",
   "name": "python",
   "nbconvert_exporter": "python",
   "pygments_lexer": "ipython3",
   "version": "3.5.2"
  }
 },
 "nbformat": 4,
 "nbformat_minor": 2
}
