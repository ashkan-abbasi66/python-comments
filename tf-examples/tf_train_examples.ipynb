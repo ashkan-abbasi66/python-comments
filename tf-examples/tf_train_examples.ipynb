{
 "cells": [
  {
   "cell_type": "markdown",
   "metadata": {},
   "source": [
    "# ToDo\n",
    "- SGD \n",
    "- Mini Batch GD\n"
   ]
  },
  {
   "cell_type": "markdown",
   "metadata": {},
   "source": [
    "# Example: A two layer network using pure numpy.\n",
    "\"we can easily use numpy to fit a two-layer network to random data by *manually* implementing the forward and backward passes through the network using numpy operations\"\n",
    "[Ref](https://pytorch.org/tutorials/beginner/pytorch_with_examples.html#tensorflow-static-graphs)<br>\n",
    "Training Algorithm: Batch-gradient descent with a fixed learning schedule.<br>"
   ]
  },
  {
   "cell_type": "code",
   "execution_count": null,
   "metadata": {},
   "outputs": [],
   "source": [
    "import numpy as np\n",
    "\n",
    "# N is batch size; D_in is input dimension;\n",
    "# H is hidden dimension; D_out is output dimension.\n",
    "N, D_in, H, D_out = 64, 1000, 100, 10\n",
    "\n",
    "# Create random input and output data\n",
    "x = np.random.randn(N, D_in)\n",
    "y = np.random.randn(N, D_out)\n",
    "\n",
    "# Randomly initialize weights\n",
    "w1 = np.random.randn(D_in, H)\n",
    "w2 = np.random.randn(H, D_out)\n",
    "\n",
    "learning_rate = 1e-6\n",
    "for t in range(500+1):\n",
    "    # Forward pass: compute predicted y\n",
    "    h = x.dot(w1) # x: (64, 1000), w1: (1000, 100)\n",
    "    h_relu = np.maximum(h, 0)\n",
    "    y_pred = h_relu.dot(w2) # w2: (100, 10)\n",
    "\n",
    "    # Compute and print loss\n",
    "    loss = np.square(y_pred - y).sum()\n",
    "    if t % 100 == 0:\n",
    "        loss_=loss\n",
    "        print(\"Epoch\", t, \"loss =\", loss_)\n",
    "\n",
    "    # Backprop to compute gradients of w1 and w2 with respect to loss\n",
    "    grad_y_pred = 2.0 * (y_pred - y)\n",
    "    grad_w2 = h_relu.T.dot(grad_y_pred)\n",
    "    grad_h_relu = grad_y_pred.dot(w2.T)\n",
    "    grad_h = grad_h_relu.copy()\n",
    "    grad_h[h < 0] = 0\n",
    "    grad_w1 = x.T.dot(grad_h)\n",
    "\n",
    "    # Update weights\n",
    "    w1 -= learning_rate * grad_w1\n",
    "    w2 -= learning_rate * grad_w2"
   ]
  },
  {
   "cell_type": "markdown",
   "metadata": {},
   "source": [
    "## using tensorflow's Gradient Descent optimizer"
   ]
  },
  {
   "cell_type": "code",
   "execution_count": null,
   "metadata": {},
   "outputs": [],
   "source": [
    "import numpy as np\n",
    "import tensorflow as tf\n",
    "\n",
    "# N is batch size; D_in is input dimension;\n",
    "# H is hidden dimension; D_out is output dimension.\n",
    "N, D_in, H, D_out = 64, 1000, 100, 10\n",
    "\n",
    "n_epochs = 500 #500\n",
    "learning_rate = 1e-6\n",
    "\n",
    "# Create random input and output data\n",
    "inputs = np.random.randn(N, D_in)\n",
    "targets = np.random.randn(N, D_out)\n",
    "\n",
    "tf.reset_default_graph()\n",
    "\n",
    "X = tf.constant(inputs, name=\"X\")\n",
    "y = tf.constant(targets, name=\"y\")\n",
    "\n",
    "# Randomly initialize weights\n",
    "w1 = tf.Variable(np.random.randn(D_in, H),name=\"weight1\")\n",
    "w2 = tf.Variable(np.random.randn(H, D_out),name=\"weight2\")\n",
    "\n",
    "# Forward pass: compute predicted y\n",
    "h = tf.matmul(X, w1, name=\"layer1\")\n",
    "h_relu = tf.maximum(h, 0)\n",
    "y_pred = tf.matmul(h_relu, w2, name=\"layer2-predictions\")\n",
    "\n",
    "error = y_pred - y\n",
    "loss = tf.reduce_sum(tf.square(error),name=\"squared_error\")\n",
    "\n",
    "optimizer = tf.train.GradientDescentOptimizer(learning_rate=learning_rate)\n",
    "training_op = optimizer.minimize(loss) # optimizer.minimize(loss,var_list=[var for var in tf.trainable_variables()])\n",
    "\n",
    "# Execution phase\n",
    "session_conf=tf.ConfigProto(device_count={'GPU': 0})\n",
    "sess=tf.Session(config=session_conf)\n",
    "\n",
    "init = tf.global_variables_initializer()\n",
    "\n",
    "sess.run(init)\n",
    "for epoch in range(n_epochs+1):\n",
    "    if epoch % 100 == 0:\n",
    "        loss_=sess.run(loss)\n",
    "        print(\"Epoch\", epoch, \"loss =\", loss_)\n",
    "    sess.run(training_op)\n",
    "\n",
    "sess.close()"
   ]
  },
  {
   "cell_type": "code",
   "execution_count": null,
   "metadata": {},
   "outputs": [],
   "source": []
  }
 ],
 "metadata": {
  "kernelspec": {
   "display_name": "Python 3",
   "language": "python",
   "name": "python3"
  },
  "language_info": {
   "codemirror_mode": {
    "name": "ipython",
    "version": 3
   },
   "file_extension": ".py",
   "mimetype": "text/x-python",
   "name": "python",
   "nbconvert_exporter": "python",
   "pygments_lexer": "ipython3",
   "version": "3.5.2"
  }
 },
 "nbformat": 4,
 "nbformat_minor": 2
}
