{
 "cells": [
  {
   "cell_type": "markdown",
   "id": "b40a3a65",
   "metadata": {},
   "source": [
    "# Is it possible to compute set difference between dataframes?\n",
    "[reference](https://stackoverflow.com/questions/18180763/set-difference-for-pandas)"
   ]
  },
  {
   "cell_type": "code",
   "execution_count": 1,
   "id": "c6f8fc63",
   "metadata": {},
   "outputs": [],
   "source": [
    "import pandas as pd\n",
    "import numpy as np"
   ]
  },
  {
   "cell_type": "markdown",
   "id": "2acffb52",
   "metadata": {},
   "source": [
    "Test data:"
   ]
  },
  {
   "cell_type": "code",
   "execution_count": 2,
   "id": "6e6eb63b",
   "metadata": {
    "scrolled": false
   },
   "outputs": [],
   "source": [
    "# An example for which there are differences between dataframes\n",
    "df1 = pd.DataFrame({'col1':[10,2,3], \n",
    "                    'col2':[40,5,6]})\n",
    "\n",
    "df2 = pd.DataFrame({'col1':[1,2,30], \n",
    "                    'col2':[4,5,60]})\n",
    "\n",
    "# An example w/o any differences between rows, but, the rows' positions are different.\n",
    "# df1 = pd.DataFrame({'col1':[1,2,3], \n",
    "#                     'col2':[4,5,6]})\n",
    "# df2 = pd.DataFrame({'col1':[3,2,1], \n",
    "#                     'col2':[6,5,4]})"
   ]
  },
  {
   "cell_type": "code",
   "execution_count": 3,
   "id": "89100870",
   "metadata": {
    "scrolled": true
   },
   "outputs": [
    {
     "name": "stdout",
     "output_type": "stream",
     "text": [
      "   col1  col2\n",
      "0    10    40\n",
      "1     2     5\n",
      "2     3     6 \n",
      "\n",
      "   col1  col2\n",
      "0     1     4\n",
      "1     2     5\n",
      "2    30    60\n"
     ]
    }
   ],
   "source": [
    "print(df1,\"\\n\")\n",
    "print(df2)"
   ]
  },
  {
   "cell_type": "markdown",
   "id": "42f6cef5",
   "metadata": {},
   "source": [
    "## Using numpy"
   ]
  },
  {
   "cell_type": "markdown",
   "id": "9cac4b54",
   "metadata": {},
   "source": [
    "df1 - df2:"
   ]
  },
  {
   "cell_type": "code",
   "execution_count": 4,
   "id": "d194c6d0",
   "metadata": {},
   "outputs": [],
   "source": [
    "setdf = pd.DataFrame({\n",
    "    col: np.setdiff1d(getattr(df1, col).values, getattr(df2, col).values)\n",
    "    for col in df1.columns\n",
    "})"
   ]
  },
  {
   "cell_type": "code",
   "execution_count": 5,
   "id": "8d4f1ce3",
   "metadata": {
    "scrolled": true
   },
   "outputs": [
    {
     "name": "stdout",
     "output_type": "stream",
     "text": [
      "   col1  col2\n",
      "0     3     6\n",
      "1    10    40\n"
     ]
    }
   ],
   "source": [
    "print(setdf)"
   ]
  },
  {
   "cell_type": "markdown",
   "id": "cafaa52d",
   "metadata": {},
   "source": [
    "## Using Pandas MultiIndex objects\n",
    "\n",
    "Pandas MultiIndex objects have fast set operations implemented as methods, so you can convert the DataFrames to MultiIndexes, use the difference() method, then convert the result back to a DataFrame.\n",
    "\n",
    "The columns should be in the same order in both dataframes"
   ]
  },
  {
   "cell_type": "code",
   "execution_count": 6,
   "id": "d9efb079",
   "metadata": {},
   "outputs": [
    {
     "name": "stdout",
     "output_type": "stream",
     "text": [
      "   col1  col2\n",
      "0     3     6\n",
      "1    10    40\n"
     ]
    }
   ],
   "source": [
    "df1mi = pd.MultiIndex.from_frame(df1)\n",
    "df2mi = pd.MultiIndex.from_frame(df2)\n",
    "\n",
    "dfdiff = df1mi.difference(df2mi).to_frame().reset_index(drop=True)\n",
    "\n",
    "print(dfdiff)"
   ]
  },
  {
   "cell_type": "code",
   "execution_count": null,
   "id": "a37197a8",
   "metadata": {},
   "outputs": [],
   "source": []
  }
 ],
 "metadata": {
  "kernelspec": {
   "display_name": "Python 3 (ipykernel)",
   "language": "python",
   "name": "python3"
  },
  "language_info": {
   "codemirror_mode": {
    "name": "ipython",
    "version": 3
   },
   "file_extension": ".py",
   "mimetype": "text/x-python",
   "name": "python",
   "nbconvert_exporter": "python",
   "pygments_lexer": "ipython3",
   "version": "3.9.12"
  }
 },
 "nbformat": 4,
 "nbformat_minor": 5
}
