{
 "cells": [
  {
   "cell_type": "markdown",
   "id": "1d63bdb3",
   "metadata": {},
   "source": [
    "[9 Awesome Python Pandas Usages Every Data Scientists Should Know](https://betterprogramming.pub/9-awesome-python-pandas-usages-every-data-scientists-should-know-62911eed81e9)\n",
    "\n",
    "`lr_simple_life_satisfaction_1.ipynb`"
   ]
  },
  {
   "cell_type": "markdown",
   "id": "8a2f05fc",
   "metadata": {},
   "source": [
    "# Create a dataframe from a dictionary and display it"
   ]
  },
  {
   "cell_type": "code",
   "execution_count": 1,
   "id": "ec2f02c1",
   "metadata": {},
   "outputs": [],
   "source": [
    "import pandas as pd\n",
    "\n",
    "employees = {\n",
    "    'Name of Employee': ['Jon','Mark','Tina','Maria','Bill','Mark','Tina','Maria','Bill','Jon','Mark','Tina','Maria','Bill','Jon','Mark','Tina','Maria','Bill'],\n",
    "    'Sales': [1000,300,400,500,1000,500,700,50,60,1000,900,750,200,300,1000,900,250,750,50],\n",
    "    'Quarter': [1,1,1,1,1,2,2,2,2,3,3,3,3,3,4,4,4,4,4],\n",
    "    'Country': ['US','Japan','Brazil','UK','Brazil','Japan','Brazil','US','US','US','Japan','Brazil','UK','Brazil','Japan','Japan','Brazil','UK','US']\n",
    "    }\n",
    "\n",
    "df = pd.DataFrame(employees, columns= ['Name of Employee','Sales','Quarter','Country'])"
   ]
  },
  {
   "cell_type": "code",
   "execution_count": 2,
   "id": "3480c533",
   "metadata": {
    "scrolled": true
   },
   "outputs": [
    {
     "name": "stdout",
     "output_type": "stream",
     "text": [
      "  Name of Employee  Sales  Quarter Country\n",
      "0              Jon   1000        1      US\n",
      "1             Mark    300        1   Japan\n",
      "2             Tina    400        1  Brazil\n"
     ]
    }
   ],
   "source": [
    "print (df.head(3))"
   ]
  },
  {
   "cell_type": "code",
   "execution_count": 3,
   "id": "4b74c7da",
   "metadata": {
    "scrolled": true
   },
   "outputs": [
    {
     "data": {
      "text/html": [
       "<div>\n",
       "<style scoped>\n",
       "    .dataframe tbody tr th:only-of-type {\n",
       "        vertical-align: middle;\n",
       "    }\n",
       "\n",
       "    .dataframe tbody tr th {\n",
       "        vertical-align: top;\n",
       "    }\n",
       "\n",
       "    .dataframe thead th {\n",
       "        text-align: right;\n",
       "    }\n",
       "</style>\n",
       "<table border=\"1\" class=\"dataframe\">\n",
       "  <thead>\n",
       "    <tr style=\"text-align: right;\">\n",
       "      <th></th>\n",
       "      <th>Name of Employee</th>\n",
       "      <th>Sales</th>\n",
       "      <th>Quarter</th>\n",
       "      <th>Country</th>\n",
       "    </tr>\n",
       "  </thead>\n",
       "  <tbody>\n",
       "    <tr>\n",
       "      <th>0</th>\n",
       "      <td>Jon</td>\n",
       "      <td>1000</td>\n",
       "      <td>1</td>\n",
       "      <td>US</td>\n",
       "    </tr>\n",
       "    <tr>\n",
       "      <th>1</th>\n",
       "      <td>Mark</td>\n",
       "      <td>300</td>\n",
       "      <td>1</td>\n",
       "      <td>Japan</td>\n",
       "    </tr>\n",
       "    <tr>\n",
       "      <th>2</th>\n",
       "      <td>Tina</td>\n",
       "      <td>400</td>\n",
       "      <td>1</td>\n",
       "      <td>Brazil</td>\n",
       "    </tr>\n",
       "    <tr>\n",
       "      <th>3</th>\n",
       "      <td>Maria</td>\n",
       "      <td>500</td>\n",
       "      <td>1</td>\n",
       "      <td>UK</td>\n",
       "    </tr>\n",
       "    <tr>\n",
       "      <th>4</th>\n",
       "      <td>Bill</td>\n",
       "      <td>1000</td>\n",
       "      <td>1</td>\n",
       "      <td>Brazil</td>\n",
       "    </tr>\n",
       "    <tr>\n",
       "      <th>5</th>\n",
       "      <td>Mark</td>\n",
       "      <td>500</td>\n",
       "      <td>2</td>\n",
       "      <td>Japan</td>\n",
       "    </tr>\n",
       "    <tr>\n",
       "      <th>6</th>\n",
       "      <td>Tina</td>\n",
       "      <td>700</td>\n",
       "      <td>2</td>\n",
       "      <td>Brazil</td>\n",
       "    </tr>\n",
       "    <tr>\n",
       "      <th>7</th>\n",
       "      <td>Maria</td>\n",
       "      <td>50</td>\n",
       "      <td>2</td>\n",
       "      <td>US</td>\n",
       "    </tr>\n",
       "    <tr>\n",
       "      <th>8</th>\n",
       "      <td>Bill</td>\n",
       "      <td>60</td>\n",
       "      <td>2</td>\n",
       "      <td>US</td>\n",
       "    </tr>\n",
       "    <tr>\n",
       "      <th>9</th>\n",
       "      <td>Jon</td>\n",
       "      <td>1000</td>\n",
       "      <td>3</td>\n",
       "      <td>US</td>\n",
       "    </tr>\n",
       "    <tr>\n",
       "      <th>10</th>\n",
       "      <td>Mark</td>\n",
       "      <td>900</td>\n",
       "      <td>3</td>\n",
       "      <td>Japan</td>\n",
       "    </tr>\n",
       "    <tr>\n",
       "      <th>11</th>\n",
       "      <td>Tina</td>\n",
       "      <td>750</td>\n",
       "      <td>3</td>\n",
       "      <td>Brazil</td>\n",
       "    </tr>\n",
       "    <tr>\n",
       "      <th>12</th>\n",
       "      <td>Maria</td>\n",
       "      <td>200</td>\n",
       "      <td>3</td>\n",
       "      <td>UK</td>\n",
       "    </tr>\n",
       "    <tr>\n",
       "      <th>13</th>\n",
       "      <td>Bill</td>\n",
       "      <td>300</td>\n",
       "      <td>3</td>\n",
       "      <td>Brazil</td>\n",
       "    </tr>\n",
       "    <tr>\n",
       "      <th>14</th>\n",
       "      <td>Jon</td>\n",
       "      <td>1000</td>\n",
       "      <td>4</td>\n",
       "      <td>Japan</td>\n",
       "    </tr>\n",
       "    <tr>\n",
       "      <th>15</th>\n",
       "      <td>Mark</td>\n",
       "      <td>900</td>\n",
       "      <td>4</td>\n",
       "      <td>Japan</td>\n",
       "    </tr>\n",
       "    <tr>\n",
       "      <th>16</th>\n",
       "      <td>Tina</td>\n",
       "      <td>250</td>\n",
       "      <td>4</td>\n",
       "      <td>Brazil</td>\n",
       "    </tr>\n",
       "    <tr>\n",
       "      <th>17</th>\n",
       "      <td>Maria</td>\n",
       "      <td>750</td>\n",
       "      <td>4</td>\n",
       "      <td>UK</td>\n",
       "    </tr>\n",
       "    <tr>\n",
       "      <th>18</th>\n",
       "      <td>Bill</td>\n",
       "      <td>50</td>\n",
       "      <td>4</td>\n",
       "      <td>US</td>\n",
       "    </tr>\n",
       "  </tbody>\n",
       "</table>\n",
       "</div>"
      ],
      "text/plain": [
       "   Name of Employee  Sales  Quarter Country\n",
       "0               Jon   1000        1      US\n",
       "1              Mark    300        1   Japan\n",
       "2              Tina    400        1  Brazil\n",
       "3             Maria    500        1      UK\n",
       "4              Bill   1000        1  Brazil\n",
       "5              Mark    500        2   Japan\n",
       "6              Tina    700        2  Brazil\n",
       "7             Maria     50        2      US\n",
       "8              Bill     60        2      US\n",
       "9               Jon   1000        3      US\n",
       "10             Mark    900        3   Japan\n",
       "11             Tina    750        3  Brazil\n",
       "12            Maria    200        3      UK\n",
       "13             Bill    300        3  Brazil\n",
       "14              Jon   1000        4   Japan\n",
       "15             Mark    900        4   Japan\n",
       "16             Tina    250        4  Brazil\n",
       "17            Maria    750        4      UK\n",
       "18             Bill     50        4      US"
      ]
     },
     "execution_count": 3,
     "metadata": {},
     "output_type": "execute_result"
    }
   ],
   "source": [
    "df # w/o print(.) function"
   ]
  },
  {
   "cell_type": "markdown",
   "id": "4b7ee72f",
   "metadata": {},
   "source": [
    "## Convert a dataframe column to a numpy array or list"
   ]
  },
  {
   "cell_type": "code",
   "execution_count": 4,
   "id": "caa303e4",
   "metadata": {},
   "outputs": [
    {
     "name": "stdout",
     "output_type": "stream",
     "text": [
      "['Jon' 'Mark' 'Tina'] \n",
      "\n",
      "object \n",
      "\n",
      "<class 'numpy.ndarray'>\n"
     ]
    }
   ],
   "source": [
    "print(df[\"Name of Employee\"].values[:3],'\\n')\n",
    "\n",
    "print(df[\"Name of Employee\"].values.dtype,'\\n')\n",
    "\n",
    "print(type(df[\"Name of Employee\"].values))"
   ]
  },
  {
   "cell_type": "code",
   "execution_count": 5,
   "id": "863679b4",
   "metadata": {},
   "outputs": [
    {
     "data": {
      "text/plain": [
       "array([1000,  300,  400], dtype=int64)"
      ]
     },
     "execution_count": 5,
     "metadata": {},
     "output_type": "execute_result"
    }
   ],
   "source": [
    "df.Sales.values[:3]"
   ]
  },
  {
   "cell_type": "code",
   "execution_count": 6,
   "id": "f2e63199",
   "metadata": {},
   "outputs": [
    {
     "name": "stdout",
     "output_type": "stream",
     "text": [
      "[1000, 300, 400]\n"
     ]
    }
   ],
   "source": [
    "print(list(df.Sales.values[:3]))"
   ]
  },
  {
   "cell_type": "markdown",
   "id": "b75a8499",
   "metadata": {},
   "source": [
    "# Filter data"
   ]
  },
  {
   "cell_type": "code",
   "execution_count": 7,
   "id": "56b22b47",
   "metadata": {},
   "outputs": [
    {
     "data": {
      "text/html": [
       "<div>\n",
       "<style scoped>\n",
       "    .dataframe tbody tr th:only-of-type {\n",
       "        vertical-align: middle;\n",
       "    }\n",
       "\n",
       "    .dataframe tbody tr th {\n",
       "        vertical-align: top;\n",
       "    }\n",
       "\n",
       "    .dataframe thead th {\n",
       "        text-align: right;\n",
       "    }\n",
       "</style>\n",
       "<table border=\"1\" class=\"dataframe\">\n",
       "  <thead>\n",
       "    <tr style=\"text-align: right;\">\n",
       "      <th></th>\n",
       "      <th>Name of Employee</th>\n",
       "      <th>Sales</th>\n",
       "      <th>Quarter</th>\n",
       "      <th>Country</th>\n",
       "    </tr>\n",
       "  </thead>\n",
       "  <tbody>\n",
       "    <tr>\n",
       "      <th>0</th>\n",
       "      <td>Jon</td>\n",
       "      <td>1000</td>\n",
       "      <td>1</td>\n",
       "      <td>US</td>\n",
       "    </tr>\n",
       "    <tr>\n",
       "      <th>4</th>\n",
       "      <td>Bill</td>\n",
       "      <td>1000</td>\n",
       "      <td>1</td>\n",
       "      <td>Brazil</td>\n",
       "    </tr>\n",
       "    <tr>\n",
       "      <th>9</th>\n",
       "      <td>Jon</td>\n",
       "      <td>1000</td>\n",
       "      <td>3</td>\n",
       "      <td>US</td>\n",
       "    </tr>\n",
       "    <tr>\n",
       "      <th>14</th>\n",
       "      <td>Jon</td>\n",
       "      <td>1000</td>\n",
       "      <td>4</td>\n",
       "      <td>Japan</td>\n",
       "    </tr>\n",
       "  </tbody>\n",
       "</table>\n",
       "</div>"
      ],
      "text/plain": [
       "   Name of Employee  Sales  Quarter Country\n",
       "0               Jon   1000        1      US\n",
       "4              Bill   1000        1  Brazil\n",
       "9               Jon   1000        3      US\n",
       "14              Jon   1000        4   Japan"
      ]
     },
     "execution_count": 7,
     "metadata": {},
     "output_type": "execute_result"
    }
   ],
   "source": [
    "df[df.Sales > 900]"
   ]
  },
  {
   "cell_type": "code",
   "execution_count": 8,
   "id": "e3294374",
   "metadata": {},
   "outputs": [
    {
     "data": {
      "text/html": [
       "<div>\n",
       "<style scoped>\n",
       "    .dataframe tbody tr th:only-of-type {\n",
       "        vertical-align: middle;\n",
       "    }\n",
       "\n",
       "    .dataframe tbody tr th {\n",
       "        vertical-align: top;\n",
       "    }\n",
       "\n",
       "    .dataframe thead th {\n",
       "        text-align: right;\n",
       "    }\n",
       "</style>\n",
       "<table border=\"1\" class=\"dataframe\">\n",
       "  <thead>\n",
       "    <tr style=\"text-align: right;\">\n",
       "      <th></th>\n",
       "      <th>Name of Employee</th>\n",
       "      <th>Sales</th>\n",
       "      <th>Quarter</th>\n",
       "      <th>Country</th>\n",
       "    </tr>\n",
       "  </thead>\n",
       "  <tbody>\n",
       "    <tr>\n",
       "      <th>0</th>\n",
       "      <td>Jon</td>\n",
       "      <td>1000</td>\n",
       "      <td>1</td>\n",
       "      <td>US</td>\n",
       "    </tr>\n",
       "    <tr>\n",
       "      <th>9</th>\n",
       "      <td>Jon</td>\n",
       "      <td>1000</td>\n",
       "      <td>3</td>\n",
       "      <td>US</td>\n",
       "    </tr>\n",
       "  </tbody>\n",
       "</table>\n",
       "</div>"
      ],
      "text/plain": [
       "  Name of Employee  Sales  Quarter Country\n",
       "0              Jon   1000        1      US\n",
       "9              Jon   1000        3      US"
      ]
     },
     "execution_count": 8,
     "metadata": {},
     "output_type": "execute_result"
    }
   ],
   "source": [
    "df[(df.Sales > 900) & (df.Country == 'US')]"
   ]
  },
  {
   "cell_type": "code",
   "execution_count": 9,
   "id": "1197d82f",
   "metadata": {},
   "outputs": [
    {
     "data": {
      "text/html": [
       "<div>\n",
       "<style scoped>\n",
       "    .dataframe tbody tr th:only-of-type {\n",
       "        vertical-align: middle;\n",
       "    }\n",
       "\n",
       "    .dataframe tbody tr th {\n",
       "        vertical-align: top;\n",
       "    }\n",
       "\n",
       "    .dataframe thead th {\n",
       "        text-align: right;\n",
       "    }\n",
       "</style>\n",
       "<table border=\"1\" class=\"dataframe\">\n",
       "  <thead>\n",
       "    <tr style=\"text-align: right;\">\n",
       "      <th></th>\n",
       "      <th>Name of Employee</th>\n",
       "      <th>Sales</th>\n",
       "      <th>Quarter</th>\n",
       "      <th>Country</th>\n",
       "    </tr>\n",
       "  </thead>\n",
       "  <tbody>\n",
       "    <tr>\n",
       "      <th>0</th>\n",
       "      <td>Jon</td>\n",
       "      <td>1000</td>\n",
       "      <td>1</td>\n",
       "      <td>US</td>\n",
       "    </tr>\n",
       "    <tr>\n",
       "      <th>4</th>\n",
       "      <td>Bill</td>\n",
       "      <td>1000</td>\n",
       "      <td>1</td>\n",
       "      <td>Brazil</td>\n",
       "    </tr>\n",
       "    <tr>\n",
       "      <th>9</th>\n",
       "      <td>Jon</td>\n",
       "      <td>1000</td>\n",
       "      <td>3</td>\n",
       "      <td>US</td>\n",
       "    </tr>\n",
       "  </tbody>\n",
       "</table>\n",
       "</div>"
      ],
      "text/plain": [
       "  Name of Employee  Sales  Quarter Country\n",
       "0              Jon   1000        1      US\n",
       "4             Bill   1000        1  Brazil\n",
       "9              Jon   1000        3      US"
      ]
     },
     "execution_count": 9,
     "metadata": {},
     "output_type": "execute_result"
    }
   ],
   "source": [
    "df[(df.Sales > 900) & ((df.Country == 'US') | (df.Country=='Brazil'))]"
   ]
  },
  {
   "cell_type": "markdown",
   "id": "c9db6f01",
   "metadata": {},
   "source": [
    "To filter rows in Pandas by regular expression (regex), we can use the `str.match()` method:"
   ]
  },
  {
   "cell_type": "code",
   "execution_count": 10,
   "id": "80ba6b1e",
   "metadata": {},
   "outputs": [
    {
     "data": {
      "text/html": [
       "<div>\n",
       "<style scoped>\n",
       "    .dataframe tbody tr th:only-of-type {\n",
       "        vertical-align: middle;\n",
       "    }\n",
       "\n",
       "    .dataframe tbody tr th {\n",
       "        vertical-align: top;\n",
       "    }\n",
       "\n",
       "    .dataframe thead th {\n",
       "        text-align: right;\n",
       "    }\n",
       "</style>\n",
       "<table border=\"1\" class=\"dataframe\">\n",
       "  <thead>\n",
       "    <tr style=\"text-align: right;\">\n",
       "      <th></th>\n",
       "      <th>Name of Employee</th>\n",
       "      <th>Sales</th>\n",
       "      <th>Quarter</th>\n",
       "      <th>Country</th>\n",
       "    </tr>\n",
       "  </thead>\n",
       "  <tbody>\n",
       "    <tr>\n",
       "      <th>0</th>\n",
       "      <td>Jon</td>\n",
       "      <td>1000</td>\n",
       "      <td>1</td>\n",
       "      <td>US</td>\n",
       "    </tr>\n",
       "    <tr>\n",
       "      <th>9</th>\n",
       "      <td>Jon</td>\n",
       "      <td>1000</td>\n",
       "      <td>3</td>\n",
       "      <td>US</td>\n",
       "    </tr>\n",
       "    <tr>\n",
       "      <th>14</th>\n",
       "      <td>Jon</td>\n",
       "      <td>1000</td>\n",
       "      <td>4</td>\n",
       "      <td>Japan</td>\n",
       "    </tr>\n",
       "  </tbody>\n",
       "</table>\n",
       "</div>"
      ],
      "text/plain": [
       "   Name of Employee  Sales  Quarter Country\n",
       "0               Jon   1000        1      US\n",
       "9               Jon   1000        3      US\n",
       "14              Jon   1000        4   Japan"
      ]
     },
     "execution_count": 10,
     "metadata": {},
     "output_type": "execute_result"
    }
   ],
   "source": [
    "regex = 'J.*'\n",
    "df[df[\"Name of Employee\"].str.match(regex)]"
   ]
  },
  {
   "cell_type": "markdown",
   "id": "5c47af01",
   "metadata": {},
   "source": [
    "# Remove columns and rows\n",
    "\n",
    "Let's remove one column and store the result in a new dataframe:"
   ]
  },
  {
   "cell_type": "code",
   "execution_count": 11,
   "id": "7cf35638",
   "metadata": {},
   "outputs": [
    {
     "data": {
      "text/html": [
       "<div>\n",
       "<style scoped>\n",
       "    .dataframe tbody tr th:only-of-type {\n",
       "        vertical-align: middle;\n",
       "    }\n",
       "\n",
       "    .dataframe tbody tr th {\n",
       "        vertical-align: top;\n",
       "    }\n",
       "\n",
       "    .dataframe thead th {\n",
       "        text-align: right;\n",
       "    }\n",
       "</style>\n",
       "<table border=\"1\" class=\"dataframe\">\n",
       "  <thead>\n",
       "    <tr style=\"text-align: right;\">\n",
       "      <th></th>\n",
       "      <th>Name of Employee</th>\n",
       "      <th>Sales</th>\n",
       "      <th>Country</th>\n",
       "    </tr>\n",
       "  </thead>\n",
       "  <tbody>\n",
       "    <tr>\n",
       "      <th>0</th>\n",
       "      <td>Jon</td>\n",
       "      <td>1000</td>\n",
       "      <td>US</td>\n",
       "    </tr>\n",
       "    <tr>\n",
       "      <th>1</th>\n",
       "      <td>Mark</td>\n",
       "      <td>300</td>\n",
       "      <td>Japan</td>\n",
       "    </tr>\n",
       "    <tr>\n",
       "      <th>2</th>\n",
       "      <td>Tina</td>\n",
       "      <td>400</td>\n",
       "      <td>Brazil</td>\n",
       "    </tr>\n",
       "  </tbody>\n",
       "</table>\n",
       "</div>"
      ],
      "text/plain": [
       "  Name of Employee  Sales Country\n",
       "0              Jon   1000      US\n",
       "1             Mark    300   Japan\n",
       "2             Tina    400  Brazil"
      ]
     },
     "execution_count": 11,
     "metadata": {},
     "output_type": "execute_result"
    }
   ],
   "source": [
    "df2 = df.drop('Quarter', axis = 1) # Remove a column with name \"Quarter\"\n",
    "df2.head(3)"
   ]
  },
  {
   "cell_type": "markdown",
   "id": "98e9fb19",
   "metadata": {},
   "source": [
    "Let's remove two rows with specified **indices**:"
   ]
  },
  {
   "cell_type": "code",
   "execution_count": 12,
   "id": "8f8b23cf",
   "metadata": {},
   "outputs": [
    {
     "data": {
      "text/html": [
       "<div>\n",
       "<style scoped>\n",
       "    .dataframe tbody tr th:only-of-type {\n",
       "        vertical-align: middle;\n",
       "    }\n",
       "\n",
       "    .dataframe tbody tr th {\n",
       "        vertical-align: top;\n",
       "    }\n",
       "\n",
       "    .dataframe thead th {\n",
       "        text-align: right;\n",
       "    }\n",
       "</style>\n",
       "<table border=\"1\" class=\"dataframe\">\n",
       "  <thead>\n",
       "    <tr style=\"text-align: right;\">\n",
       "      <th></th>\n",
       "      <th>Name of Employee</th>\n",
       "      <th>Sales</th>\n",
       "      <th>Quarter</th>\n",
       "      <th>Country</th>\n",
       "    </tr>\n",
       "  </thead>\n",
       "  <tbody>\n",
       "    <tr>\n",
       "      <th>2</th>\n",
       "      <td>Tina</td>\n",
       "      <td>400</td>\n",
       "      <td>1</td>\n",
       "      <td>Brazil</td>\n",
       "    </tr>\n",
       "    <tr>\n",
       "      <th>3</th>\n",
       "      <td>Maria</td>\n",
       "      <td>500</td>\n",
       "      <td>1</td>\n",
       "      <td>UK</td>\n",
       "    </tr>\n",
       "    <tr>\n",
       "      <th>4</th>\n",
       "      <td>Bill</td>\n",
       "      <td>1000</td>\n",
       "      <td>1</td>\n",
       "      <td>Brazil</td>\n",
       "    </tr>\n",
       "  </tbody>\n",
       "</table>\n",
       "</div>"
      ],
      "text/plain": [
       "  Name of Employee  Sales  Quarter Country\n",
       "2             Tina    400        1  Brazil\n",
       "3            Maria    500        1      UK\n",
       "4             Bill   1000        1  Brazil"
      ]
     },
     "execution_count": 12,
     "metadata": {},
     "output_type": "execute_result"
    }
   ],
   "source": [
    "df3 = df.drop(labels = [0,1], axis = 0) # Remove rows with labels 0 and 1 - Note: rows' labels are the indices.\n",
    "df3.head(3)"
   ]
  },
  {
   "cell_type": "markdown",
   "id": "f58f011a",
   "metadata": {},
   "source": [
    "# Find an element by its index or position"
   ]
  },
  {
   "cell_type": "code",
   "execution_count": 13,
   "id": "eb4e14f7",
   "metadata": {},
   "outputs": [
    {
     "data": {
      "text/html": [
       "<div>\n",
       "<style scoped>\n",
       "    .dataframe tbody tr th:only-of-type {\n",
       "        vertical-align: middle;\n",
       "    }\n",
       "\n",
       "    .dataframe tbody tr th {\n",
       "        vertical-align: top;\n",
       "    }\n",
       "\n",
       "    .dataframe thead th {\n",
       "        text-align: right;\n",
       "    }\n",
       "</style>\n",
       "<table border=\"1\" class=\"dataframe\">\n",
       "  <thead>\n",
       "    <tr style=\"text-align: right;\">\n",
       "      <th></th>\n",
       "      <th>Name of Employee</th>\n",
       "      <th>Sales</th>\n",
       "      <th>Quarter</th>\n",
       "      <th>Country</th>\n",
       "    </tr>\n",
       "  </thead>\n",
       "  <tbody>\n",
       "    <tr>\n",
       "      <th>0</th>\n",
       "      <td>Jon</td>\n",
       "      <td>1000</td>\n",
       "      <td>1</td>\n",
       "      <td>US</td>\n",
       "    </tr>\n",
       "    <tr>\n",
       "      <th>1</th>\n",
       "      <td>Mark</td>\n",
       "      <td>300</td>\n",
       "      <td>1</td>\n",
       "      <td>Japan</td>\n",
       "    </tr>\n",
       "    <tr>\n",
       "      <th>2</th>\n",
       "      <td>Tina</td>\n",
       "      <td>400</td>\n",
       "      <td>1</td>\n",
       "      <td>Brazil</td>\n",
       "    </tr>\n",
       "    <tr>\n",
       "      <th>3</th>\n",
       "      <td>Maria</td>\n",
       "      <td>500</td>\n",
       "      <td>1</td>\n",
       "      <td>UK</td>\n",
       "    </tr>\n",
       "    <tr>\n",
       "      <th>4</th>\n",
       "      <td>Bill</td>\n",
       "      <td>1000</td>\n",
       "      <td>1</td>\n",
       "      <td>Brazil</td>\n",
       "    </tr>\n",
       "  </tbody>\n",
       "</table>\n",
       "</div>"
      ],
      "text/plain": [
       "  Name of Employee  Sales  Quarter Country\n",
       "0              Jon   1000        1      US\n",
       "1             Mark    300        1   Japan\n",
       "2             Tina    400        1  Brazil\n",
       "3            Maria    500        1      UK\n",
       "4             Bill   1000        1  Brazil"
      ]
     },
     "execution_count": 13,
     "metadata": {},
     "output_type": "execute_result"
    }
   ],
   "source": [
    "df.head(5)"
   ]
  },
  {
   "cell_type": "code",
   "execution_count": 14,
   "id": "7e528cf4",
   "metadata": {},
   "outputs": [
    {
     "name": "stdout",
     "output_type": "stream",
     "text": [
      "Name of Employee     Mark\n",
      "Sales                 300\n",
      "Quarter                 1\n",
      "Country             Japan\n",
      "Name: 1, dtype: object \n",
      "\n",
      "\n",
      "Name of Employee     Mark\n",
      "Sales                 300\n",
      "Quarter                 1\n",
      "Country             Japan\n",
      "Name: 1, dtype: object\n"
     ]
    }
   ],
   "source": [
    "print(df.loc[1],'\\n\\n') # by label / index\n",
    "\n",
    "print(df.iloc[1]) # by position"
   ]
  },
  {
   "cell_type": "markdown",
   "id": "a39a9597",
   "metadata": {},
   "source": [
    "In the above, the position and index are the same. But, it's not always the case. Here is an example:"
   ]
  },
  {
   "cell_type": "code",
   "execution_count": 15,
   "id": "3a40c020",
   "metadata": {},
   "outputs": [
    {
     "data": {
      "text/html": [
       "<div>\n",
       "<style scoped>\n",
       "    .dataframe tbody tr th:only-of-type {\n",
       "        vertical-align: middle;\n",
       "    }\n",
       "\n",
       "    .dataframe tbody tr th {\n",
       "        vertical-align: top;\n",
       "    }\n",
       "\n",
       "    .dataframe thead th {\n",
       "        text-align: right;\n",
       "    }\n",
       "</style>\n",
       "<table border=\"1\" class=\"dataframe\">\n",
       "  <thead>\n",
       "    <tr style=\"text-align: right;\">\n",
       "      <th></th>\n",
       "      <th>Name of Employee</th>\n",
       "      <th>Sales</th>\n",
       "      <th>Quarter</th>\n",
       "      <th>Country</th>\n",
       "    </tr>\n",
       "  </thead>\n",
       "  <tbody>\n",
       "    <tr>\n",
       "      <th>2</th>\n",
       "      <td>Tina</td>\n",
       "      <td>400</td>\n",
       "      <td>1</td>\n",
       "      <td>Brazil</td>\n",
       "    </tr>\n",
       "    <tr>\n",
       "      <th>3</th>\n",
       "      <td>Maria</td>\n",
       "      <td>500</td>\n",
       "      <td>1</td>\n",
       "      <td>UK</td>\n",
       "    </tr>\n",
       "    <tr>\n",
       "      <th>4</th>\n",
       "      <td>Bill</td>\n",
       "      <td>1000</td>\n",
       "      <td>1</td>\n",
       "      <td>Brazil</td>\n",
       "    </tr>\n",
       "  </tbody>\n",
       "</table>\n",
       "</div>"
      ],
      "text/plain": [
       "  Name of Employee  Sales  Quarter Country\n",
       "2             Tina    400        1  Brazil\n",
       "3            Maria    500        1      UK\n",
       "4             Bill   1000        1  Brazil"
      ]
     },
     "execution_count": 15,
     "metadata": {},
     "output_type": "execute_result"
    }
   ],
   "source": [
    "df3.head(3)"
   ]
  },
  {
   "cell_type": "code",
   "execution_count": 16,
   "id": "3cc90510",
   "metadata": {},
   "outputs": [
    {
     "data": {
      "text/plain": [
       "Name of Employee      Tina\n",
       "Sales                  400\n",
       "Quarter                  1\n",
       "Country             Brazil\n",
       "Name: 2, dtype: object"
      ]
     },
     "execution_count": 16,
     "metadata": {},
     "output_type": "execute_result"
    }
   ],
   "source": [
    "df3.loc[2]"
   ]
  },
  {
   "cell_type": "code",
   "execution_count": 17,
   "id": "80fa7cb3",
   "metadata": {},
   "outputs": [
    {
     "data": {
      "text/plain": [
       "Name of Employee      Tina\n",
       "Sales                  400\n",
       "Quarter                  1\n",
       "Country             Brazil\n",
       "Name: 2, dtype: object"
      ]
     },
     "execution_count": 17,
     "metadata": {},
     "output_type": "execute_result"
    }
   ],
   "source": [
    "df3.iloc[0]"
   ]
  },
  {
   "cell_type": "markdown",
   "id": "496d8309",
   "metadata": {},
   "source": [
    "You may want to show some specific fields of a record:"
   ]
  },
  {
   "cell_type": "code",
   "execution_count": 18,
   "id": "9961fb3b",
   "metadata": {
    "scrolled": true
   },
   "outputs": [
    {
     "data": {
      "text/plain": [
       "Country    Brazil\n",
       "Name: 2, dtype: object"
      ]
     },
     "execution_count": 18,
     "metadata": {},
     "output_type": "execute_result"
    }
   ],
   "source": [
    "df3.loc[2,[\"Country\"]]"
   ]
  },
  {
   "cell_type": "markdown",
   "id": "8ec88715",
   "metadata": {},
   "source": [
    "# Intersection of two dataframes"
   ]
  },
  {
   "cell_type": "code",
   "execution_count": 19,
   "id": "71e804f7",
   "metadata": {},
   "outputs": [],
   "source": [
    "df1_data = {\n",
    "    'name': ['aa', 'bb', 'cc'],\n",
    "    'math score':[15., 18., 19.]\n",
    "}\n",
    "\n",
    "df2_data = {\n",
    "    'name': ['bb', 'aa', 'cc'],\n",
    "    'physics score':[17., 12., 16.]\n",
    "}\n",
    "\n",
    "df1 = pd.DataFrame(df1_data, columns=df1_data.keys())\n",
    "df2 = pd.DataFrame(df2_data, columns=df2_data.keys())"
   ]
  },
  {
   "cell_type": "code",
   "execution_count": 20,
   "id": "637a1e6e",
   "metadata": {
    "scrolled": true
   },
   "outputs": [
    {
     "data": {
      "text/html": [
       "<div>\n",
       "<style scoped>\n",
       "    .dataframe tbody tr th:only-of-type {\n",
       "        vertical-align: middle;\n",
       "    }\n",
       "\n",
       "    .dataframe tbody tr th {\n",
       "        vertical-align: top;\n",
       "    }\n",
       "\n",
       "    .dataframe thead th {\n",
       "        text-align: right;\n",
       "    }\n",
       "</style>\n",
       "<table border=\"1\" class=\"dataframe\">\n",
       "  <thead>\n",
       "    <tr style=\"text-align: right;\">\n",
       "      <th></th>\n",
       "      <th>name</th>\n",
       "      <th>math score</th>\n",
       "      <th>physics score</th>\n",
       "    </tr>\n",
       "  </thead>\n",
       "  <tbody>\n",
       "    <tr>\n",
       "      <th>0</th>\n",
       "      <td>aa</td>\n",
       "      <td>15.0</td>\n",
       "      <td>12.0</td>\n",
       "    </tr>\n",
       "    <tr>\n",
       "      <th>1</th>\n",
       "      <td>bb</td>\n",
       "      <td>18.0</td>\n",
       "      <td>17.0</td>\n",
       "    </tr>\n",
       "    <tr>\n",
       "      <th>2</th>\n",
       "      <td>cc</td>\n",
       "      <td>19.0</td>\n",
       "      <td>16.0</td>\n",
       "    </tr>\n",
       "  </tbody>\n",
       "</table>\n",
       "</div>"
      ],
      "text/plain": [
       "  name  math score  physics score\n",
       "0   aa        15.0           12.0\n",
       "1   bb        18.0           17.0\n",
       "2   cc        19.0           16.0"
      ]
     },
     "execution_count": 20,
     "metadata": {},
     "output_type": "execute_result"
    }
   ],
   "source": [
    "df3 = pd.merge(df1, df2, on=['name'])\n",
    "df3"
   ]
  },
  {
   "cell_type": "markdown",
   "id": "69f8dfdd",
   "metadata": {},
   "source": [
    "# Concatenating two dataframes"
   ]
  },
  {
   "cell_type": "code",
   "execution_count": 21,
   "id": "f06755fd",
   "metadata": {},
   "outputs": [
    {
     "data": {
      "text/html": [
       "<div>\n",
       "<style scoped>\n",
       "    .dataframe tbody tr th:only-of-type {\n",
       "        vertical-align: middle;\n",
       "    }\n",
       "\n",
       "    .dataframe tbody tr th {\n",
       "        vertical-align: top;\n",
       "    }\n",
       "\n",
       "    .dataframe thead th {\n",
       "        text-align: right;\n",
       "    }\n",
       "</style>\n",
       "<table border=\"1\" class=\"dataframe\">\n",
       "  <thead>\n",
       "    <tr style=\"text-align: right;\">\n",
       "      <th></th>\n",
       "      <th>name</th>\n",
       "      <th>population</th>\n",
       "      <th>country</th>\n",
       "    </tr>\n",
       "  </thead>\n",
       "  <tbody>\n",
       "    <tr>\n",
       "      <th>0</th>\n",
       "      <td>London</td>\n",
       "      <td>8615246</td>\n",
       "      <td>England</td>\n",
       "    </tr>\n",
       "    <tr>\n",
       "      <th>1</th>\n",
       "      <td>Berlin</td>\n",
       "      <td>3562166</td>\n",
       "      <td>Germany</td>\n",
       "    </tr>\n",
       "    <tr>\n",
       "      <th>0</th>\n",
       "      <td>Madrid</td>\n",
       "      <td>3165235</td>\n",
       "      <td>Spain</td>\n",
       "    </tr>\n",
       "    <tr>\n",
       "      <th>1</th>\n",
       "      <td>Rome</td>\n",
       "      <td>2874038</td>\n",
       "      <td>Italy</td>\n",
       "    </tr>\n",
       "    <tr>\n",
       "      <th>2</th>\n",
       "      <td>Berlin</td>\n",
       "      <td>3562166</td>\n",
       "      <td>Germany</td>\n",
       "    </tr>\n",
       "  </tbody>\n",
       "</table>\n",
       "</div>"
      ],
      "text/plain": [
       "     name  population  country\n",
       "0  London     8615246  England\n",
       "1  Berlin     3562166  Germany\n",
       "0  Madrid     3165235    Spain\n",
       "1    Rome     2874038    Italy\n",
       "2  Berlin     3562166  Germany"
      ]
     },
     "execution_count": 21,
     "metadata": {},
     "output_type": "execute_result"
    }
   ],
   "source": [
    "data_1 = {\"name\": [\"London\", \"Berlin\"],\n",
    "          \"population\": [8615246, 3562166],\n",
    "          \"country\": [\"England\", \"Germany\"]\n",
    "         }\n",
    "\n",
    "data_2 = {\"name\": [\"Madrid\", \"Rome\", \"Berlin\"],\n",
    "          \"population\": [3165235, 2874038, 3562166],\n",
    "          \"country\": [\"Spain\", \"Italy\", \"Germany\"]\n",
    "         }\n",
    "\n",
    "df1 = pd.DataFrame(data_1)\n",
    "df2 = pd.DataFrame(data_2)\n",
    "\n",
    "df3 = pd.concat([df1, df2])   # By defualt, axis=0 which determines the axis to concatenate along\n",
    "df3"
   ]
  },
  {
   "cell_type": "code",
   "execution_count": 22,
   "id": "627f3860",
   "metadata": {
    "scrolled": false
   },
   "outputs": [
    {
     "data": {
      "text/html": [
       "<div>\n",
       "<style scoped>\n",
       "    .dataframe tbody tr th:only-of-type {\n",
       "        vertical-align: middle;\n",
       "    }\n",
       "\n",
       "    .dataframe tbody tr th {\n",
       "        vertical-align: top;\n",
       "    }\n",
       "\n",
       "    .dataframe thead th {\n",
       "        text-align: right;\n",
       "    }\n",
       "</style>\n",
       "<table border=\"1\" class=\"dataframe\">\n",
       "  <thead>\n",
       "    <tr style=\"text-align: right;\">\n",
       "      <th></th>\n",
       "      <th>name</th>\n",
       "      <th>population</th>\n",
       "      <th>country</th>\n",
       "    </tr>\n",
       "  </thead>\n",
       "  <tbody>\n",
       "    <tr>\n",
       "      <th>0</th>\n",
       "      <td>London</td>\n",
       "      <td>8615246</td>\n",
       "      <td>England</td>\n",
       "    </tr>\n",
       "    <tr>\n",
       "      <th>1</th>\n",
       "      <td>Berlin</td>\n",
       "      <td>3562166</td>\n",
       "      <td>Germany</td>\n",
       "    </tr>\n",
       "    <tr>\n",
       "      <th>2</th>\n",
       "      <td>Madrid</td>\n",
       "      <td>3165235</td>\n",
       "      <td>Spain</td>\n",
       "    </tr>\n",
       "    <tr>\n",
       "      <th>3</th>\n",
       "      <td>Rome</td>\n",
       "      <td>2874038</td>\n",
       "      <td>Italy</td>\n",
       "    </tr>\n",
       "    <tr>\n",
       "      <th>4</th>\n",
       "      <td>Berlin</td>\n",
       "      <td>3562166</td>\n",
       "      <td>Germany</td>\n",
       "    </tr>\n",
       "  </tbody>\n",
       "</table>\n",
       "</div>"
      ],
      "text/plain": [
       "     name  population  country\n",
       "0  London     8615246  England\n",
       "1  Berlin     3562166  Germany\n",
       "2  Madrid     3165235    Spain\n",
       "3    Rome     2874038    Italy\n",
       "4  Berlin     3562166  Germany"
      ]
     },
     "execution_count": 22,
     "metadata": {},
     "output_type": "execute_result"
    }
   ],
   "source": [
    "df3 = pd.concat([df1, df2], ignore_index=True) \n",
    "df3"
   ]
  },
  {
   "cell_type": "markdown",
   "id": "56b995e6",
   "metadata": {},
   "source": [
    "## Drop duplicates"
   ]
  },
  {
   "cell_type": "code",
   "execution_count": 23,
   "id": "2b8c9a8d",
   "metadata": {},
   "outputs": [
    {
     "data": {
      "text/html": [
       "<div>\n",
       "<style scoped>\n",
       "    .dataframe tbody tr th:only-of-type {\n",
       "        vertical-align: middle;\n",
       "    }\n",
       "\n",
       "    .dataframe tbody tr th {\n",
       "        vertical-align: top;\n",
       "    }\n",
       "\n",
       "    .dataframe thead th {\n",
       "        text-align: right;\n",
       "    }\n",
       "</style>\n",
       "<table border=\"1\" class=\"dataframe\">\n",
       "  <thead>\n",
       "    <tr style=\"text-align: right;\">\n",
       "      <th></th>\n",
       "      <th>name</th>\n",
       "      <th>population</th>\n",
       "      <th>country</th>\n",
       "    </tr>\n",
       "  </thead>\n",
       "  <tbody>\n",
       "    <tr>\n",
       "      <th>0</th>\n",
       "      <td>London</td>\n",
       "      <td>8615246</td>\n",
       "      <td>England</td>\n",
       "    </tr>\n",
       "    <tr>\n",
       "      <th>2</th>\n",
       "      <td>Madrid</td>\n",
       "      <td>3165235</td>\n",
       "      <td>Spain</td>\n",
       "    </tr>\n",
       "    <tr>\n",
       "      <th>3</th>\n",
       "      <td>Rome</td>\n",
       "      <td>2874038</td>\n",
       "      <td>Italy</td>\n",
       "    </tr>\n",
       "    <tr>\n",
       "      <th>4</th>\n",
       "      <td>Berlin</td>\n",
       "      <td>3562166</td>\n",
       "      <td>Germany</td>\n",
       "    </tr>\n",
       "  </tbody>\n",
       "</table>\n",
       "</div>"
      ],
      "text/plain": [
       "     name  population  country\n",
       "0  London     8615246  England\n",
       "2  Madrid     3165235    Spain\n",
       "3    Rome     2874038    Italy\n",
       "4  Berlin     3562166  Germany"
      ]
     },
     "execution_count": 23,
     "metadata": {},
     "output_type": "execute_result"
    }
   ],
   "source": [
    "df3.drop_duplicates(keep=\"last\") # keep='first' / 'last' ;  subset=[\"name\"]"
   ]
  },
  {
   "cell_type": "markdown",
   "id": "4a149bad",
   "metadata": {},
   "source": [
    "# Sort "
   ]
  },
  {
   "cell_type": "code",
   "execution_count": 24,
   "id": "62fe403b",
   "metadata": {},
   "outputs": [
    {
     "data": {
      "text/html": [
       "<div>\n",
       "<style scoped>\n",
       "    .dataframe tbody tr th:only-of-type {\n",
       "        vertical-align: middle;\n",
       "    }\n",
       "\n",
       "    .dataframe tbody tr th {\n",
       "        vertical-align: top;\n",
       "    }\n",
       "\n",
       "    .dataframe thead th {\n",
       "        text-align: right;\n",
       "    }\n",
       "</style>\n",
       "<table border=\"1\" class=\"dataframe\">\n",
       "  <thead>\n",
       "    <tr style=\"text-align: right;\">\n",
       "      <th></th>\n",
       "      <th>name</th>\n",
       "      <th>population</th>\n",
       "      <th>country</th>\n",
       "    </tr>\n",
       "  </thead>\n",
       "  <tbody>\n",
       "    <tr>\n",
       "      <th>1</th>\n",
       "      <td>Berlin</td>\n",
       "      <td>3562166</td>\n",
       "      <td>Germany</td>\n",
       "    </tr>\n",
       "    <tr>\n",
       "      <th>4</th>\n",
       "      <td>Berlin</td>\n",
       "      <td>3562166</td>\n",
       "      <td>Germany</td>\n",
       "    </tr>\n",
       "    <tr>\n",
       "      <th>0</th>\n",
       "      <td>London</td>\n",
       "      <td>8615246</td>\n",
       "      <td>England</td>\n",
       "    </tr>\n",
       "    <tr>\n",
       "      <th>2</th>\n",
       "      <td>Madrid</td>\n",
       "      <td>3165235</td>\n",
       "      <td>Spain</td>\n",
       "    </tr>\n",
       "    <tr>\n",
       "      <th>3</th>\n",
       "      <td>Rome</td>\n",
       "      <td>2874038</td>\n",
       "      <td>Italy</td>\n",
       "    </tr>\n",
       "  </tbody>\n",
       "</table>\n",
       "</div>"
      ],
      "text/plain": [
       "     name  population  country\n",
       "1  Berlin     3562166  Germany\n",
       "4  Berlin     3562166  Germany\n",
       "0  London     8615246  England\n",
       "2  Madrid     3165235    Spain\n",
       "3    Rome     2874038    Italy"
      ]
     },
     "execution_count": 24,
     "metadata": {},
     "output_type": "execute_result"
    }
   ],
   "source": [
    "df3 = df3.sort_values(by=['name'], ascending=[True])\n",
    "df3"
   ]
  },
  {
   "cell_type": "markdown",
   "id": "7b48140d",
   "metadata": {},
   "source": [
    "# Create a pivot table from a dataframe"
   ]
  },
  {
   "cell_type": "code",
   "execution_count": 25,
   "id": "14aa8f74",
   "metadata": {},
   "outputs": [
    {
     "data": {
      "text/plain": [
       "Index(['Name of Employee', 'Sales', 'Quarter', 'Country'], dtype='object')"
      ]
     },
     "execution_count": 25,
     "metadata": {},
     "output_type": "execute_result"
    }
   ],
   "source": [
    "employees = {\n",
    "    'Name of Employee': ['Jon','Mark','Tina','Maria','Bill','Mark','Tina','Maria','Bill','Jon','Mark','Tina','Maria','Bill','Jon','Mark','Tina','Maria','Bill'],\n",
    "    'Sales': [1000,300,400,500,1000,500,700,50,60,1000,900,750,200,300,1000,900,250,750,50],\n",
    "    'Quarter': [1,1,1,1,1,2,2,2,2,3,3,3,3,3,4,4,4,4,4],\n",
    "    'Country': ['US','Japan','Brazil','UK','Brazil','Japan','Brazil','US','US','US','Japan','Brazil','UK','Brazil','Japan','Japan','Brazil','UK','US']\n",
    "    }\n",
    "\n",
    "df = pd.DataFrame(employees, columns= ['Name of Employee','Sales','Quarter','Country'])\n",
    "\n",
    "df.columns"
   ]
  },
  {
   "cell_type": "code",
   "execution_count": 26,
   "id": "50eb92b5",
   "metadata": {},
   "outputs": [],
   "source": [
    "pv = df.pivot_table(index=['Name of Employee'], aggfunc='sum')"
   ]
  },
  {
   "cell_type": "code",
   "execution_count": 27,
   "id": "e8a965e2",
   "metadata": {},
   "outputs": [
    {
     "data": {
      "text/html": [
       "<div>\n",
       "<style scoped>\n",
       "    .dataframe tbody tr th:only-of-type {\n",
       "        vertical-align: middle;\n",
       "    }\n",
       "\n",
       "    .dataframe tbody tr th {\n",
       "        vertical-align: top;\n",
       "    }\n",
       "\n",
       "    .dataframe thead th {\n",
       "        text-align: right;\n",
       "    }\n",
       "</style>\n",
       "<table border=\"1\" class=\"dataframe\">\n",
       "  <thead>\n",
       "    <tr style=\"text-align: right;\">\n",
       "      <th></th>\n",
       "      <th>Quarter</th>\n",
       "      <th>Sales</th>\n",
       "    </tr>\n",
       "    <tr>\n",
       "      <th>Name of Employee</th>\n",
       "      <th></th>\n",
       "      <th></th>\n",
       "    </tr>\n",
       "  </thead>\n",
       "  <tbody>\n",
       "    <tr>\n",
       "      <th>Bill</th>\n",
       "      <td>10</td>\n",
       "      <td>1410</td>\n",
       "    </tr>\n",
       "    <tr>\n",
       "      <th>Jon</th>\n",
       "      <td>8</td>\n",
       "      <td>3000</td>\n",
       "    </tr>\n",
       "    <tr>\n",
       "      <th>Maria</th>\n",
       "      <td>10</td>\n",
       "      <td>1500</td>\n",
       "    </tr>\n",
       "    <tr>\n",
       "      <th>Mark</th>\n",
       "      <td>10</td>\n",
       "      <td>2600</td>\n",
       "    </tr>\n",
       "    <tr>\n",
       "      <th>Tina</th>\n",
       "      <td>10</td>\n",
       "      <td>2100</td>\n",
       "    </tr>\n",
       "  </tbody>\n",
       "</table>\n",
       "</div>"
      ],
      "text/plain": [
       "                  Quarter  Sales\n",
       "Name of Employee                \n",
       "Bill                   10   1410\n",
       "Jon                     8   3000\n",
       "Maria                  10   1500\n",
       "Mark                   10   2600\n",
       "Tina                   10   2100"
      ]
     },
     "execution_count": 27,
     "metadata": {},
     "output_type": "execute_result"
    }
   ],
   "source": [
    "pv"
   ]
  },
  {
   "cell_type": "markdown",
   "id": "6193de8e",
   "metadata": {},
   "source": [
    "Note that the \"Country\" could not be included when aggregate function is \"sum\". Because it is a categorical feature."
   ]
  },
  {
   "cell_type": "markdown",
   "id": "ce4f8dee",
   "metadata": {},
   "source": [
    "In this dataframe, index is defined on \"Name of Employee\". So, we can search based on names."
   ]
  },
  {
   "cell_type": "code",
   "execution_count": 28,
   "id": "a22aff7f",
   "metadata": {},
   "outputs": [
    {
     "data": {
      "text/plain": [
       "Sales    1410\n",
       "Name: Bill, dtype: int64"
      ]
     },
     "execution_count": 28,
     "metadata": {},
     "output_type": "execute_result"
    }
   ],
   "source": [
    "pv.loc[\"Bill\", [\"Sales\"]]"
   ]
  },
  {
   "cell_type": "markdown",
   "id": "57a04e50",
   "metadata": {},
   "source": [
    "# More "
   ]
  },
  {
   "cell_type": "markdown",
   "id": "e95131c4",
   "metadata": {},
   "source": [
    "## Return unique values"
   ]
  },
  {
   "cell_type": "markdown",
   "id": "06ec53c7",
   "metadata": {},
   "source": [
    "See [here](`https://betterprogramming.pub/9-awesome-python-pandas-usages-every-data-scientists-should-know-62911eed81e9`) - part 4 (value_counts() To Find Unique Values)"
   ]
  },
  {
   "cell_type": "code",
   "execution_count": 29,
   "id": "47c77fa7",
   "metadata": {
    "scrolled": true
   },
   "outputs": [
    {
     "data": {
      "text/plain": [
       "Name of Employee  Sales  Quarter  Country\n",
       "Bill              50     4        US         1\n",
       "Maria             750    4        UK         1\n",
       "Tina              700    2        Brazil     1\n",
       "                  400    1        Brazil     1\n",
       "                  250    4        Brazil     1\n",
       "Mark              900    4        Japan      1\n",
       "                         3        Japan      1\n",
       "                  500    2        Japan      1\n",
       "                  300    1        Japan      1\n",
       "Maria             500    1        UK         1\n",
       "Bill              60     2        US         1\n",
       "Maria             200    3        UK         1\n",
       "                  50     2        US         1\n",
       "Jon               1000   4        Japan      1\n",
       "                         3        US         1\n",
       "                         1        US         1\n",
       "Bill              1000   1        Brazil     1\n",
       "                  300    3        Brazil     1\n",
       "Tina              750    3        Brazil     1\n",
       "dtype: int64"
      ]
     },
     "execution_count": 29,
     "metadata": {},
     "output_type": "execute_result"
    }
   ],
   "source": [
    "df.value_counts()"
   ]
  },
  {
   "cell_type": "markdown",
   "id": "80323696",
   "metadata": {},
   "source": [
    "Unique values in each column:"
   ]
  },
  {
   "cell_type": "code",
   "execution_count": 30,
   "id": "cb00a1fa",
   "metadata": {},
   "outputs": [
    {
     "data": {
      "text/plain": [
       "array([1, 2, 3, 4], dtype=int64)"
      ]
     },
     "execution_count": 30,
     "metadata": {},
     "output_type": "execute_result"
    }
   ],
   "source": [
    "df.Quarter.unique() # Numpy array"
   ]
  },
  {
   "cell_type": "markdown",
   "id": "bfcd4e56",
   "metadata": {},
   "source": [
    "## Null (missing) values"
   ]
  },
  {
   "cell_type": "code",
   "execution_count": 31,
   "id": "04c87676",
   "metadata": {},
   "outputs": [],
   "source": [
    "import pandas as pd\n",
    "\n",
    "employees = {\n",
    "    'Name of Employee': ['Jon','Mark','Tina', 'Maria'],\n",
    "    'Sales': [1000,None,400,500], # NaN\n",
    "    'Quarter': [1,1,1,1],\n",
    "    'Country': ['US','Japan','Brazil', None]\n",
    "    }\n",
    "\n",
    "df = pd.DataFrame(employees, columns= ['Name of Employee','Sales','Quarter','Country'])"
   ]
  },
  {
   "cell_type": "code",
   "execution_count": 32,
   "id": "58ed59c8",
   "metadata": {},
   "outputs": [
    {
     "name": "stdout",
     "output_type": "stream",
     "text": [
      "  Name of Employee   Sales  Quarter Country\n",
      "0              Jon  1000.0        1      US\n",
      "1             Mark     NaN        1   Japan\n",
      "2             Tina   400.0        1  Brazil\n",
      "3            Maria   500.0        1    None\n"
     ]
    }
   ],
   "source": [
    "print(df)"
   ]
  },
  {
   "cell_type": "code",
   "execution_count": 33,
   "id": "073ac550",
   "metadata": {},
   "outputs": [
    {
     "name": "stdout",
     "output_type": "stream",
     "text": [
      "  Name of Employee   Sales  Quarter Country\n",
      "0              Jon  1000.0        1      US\n",
      "2             Tina   400.0        1  Brazil\n",
      "3            Maria   500.0        1    None\n"
     ]
    }
   ],
   "source": [
    "print(df[df.Sales.notnull()]) # Note: df.Sales.notnull() returns a dataframe containing boolean values"
   ]
  },
  {
   "cell_type": "code",
   "execution_count": 34,
   "id": "385c8f57",
   "metadata": {},
   "outputs": [
    {
     "name": "stdout",
     "output_type": "stream",
     "text": [
      "  Name of Employee  Sales  Quarter Country\n",
      "1             Mark    NaN        1   Japan\n"
     ]
    }
   ],
   "source": [
    "print(df[df.Sales.isnull()])"
   ]
  },
  {
   "cell_type": "code",
   "execution_count": 35,
   "id": "a64c67cf",
   "metadata": {},
   "outputs": [
    {
     "data": {
      "text/plain": [
       "1"
      ]
     },
     "execution_count": 35,
     "metadata": {},
     "output_type": "execute_result"
    }
   ],
   "source": [
    "df['Sales'].isnull().sum() # Count the NaN under a single DataFrame column:"
   ]
  },
  {
   "cell_type": "code",
   "execution_count": 36,
   "id": "187be2ae",
   "metadata": {},
   "outputs": [
    {
     "data": {
      "text/plain": [
       "True"
      ]
     },
     "execution_count": 36,
     "metadata": {},
     "output_type": "execute_result"
    }
   ],
   "source": [
    "df.isnull().values.any() # Check for NaN under an entire DataFrame:"
   ]
  },
  {
   "cell_type": "code",
   "execution_count": 37,
   "id": "7065daa0",
   "metadata": {},
   "outputs": [
    {
     "data": {
      "text/plain": [
       "2"
      ]
     },
     "execution_count": 37,
     "metadata": {},
     "output_type": "execute_result"
    }
   ],
   "source": [
    "df.isnull().sum().sum() # Number of NaN in the whole dataframe"
   ]
  },
  {
   "cell_type": "markdown",
   "id": "84183f03",
   "metadata": {},
   "source": [
    "## Replace strings"
   ]
  },
  {
   "cell_type": "markdown",
   "id": "60639918",
   "metadata": {},
   "source": [
    "[reference](https://sparkbyexamples.com/pandas/pandas-replace-string-examples/#:~:text=You%20can%20replace%20a%20string,replace()%20with%20lambda%20functions.)"
   ]
  },
  {
   "cell_type": "code",
   "execution_count": 38,
   "id": "deff9587",
   "metadata": {
    "scrolled": true
   },
   "outputs": [
    {
     "name": "stdout",
     "output_type": "stream",
     "text": [
      "         Courses    Fee Duration\n",
      "0          Spark  22000   30days\n",
      "1        PySpark  25000   50days\n",
      "2          Spark  23000   30days\n",
      "3  Java Language  24000   60days\n",
      "4        PySpark  26000   35days\n",
      "5   PHP Language  27000   30days\n"
     ]
    }
   ],
   "source": [
    "import pandas as pd\n",
    "import numpy as np\n",
    "technologies= {\n",
    "    'Courses':[\"Spark\",\"PySpark\",\"Spark\",\"Java Language\",\"PySpark\",\"PHP Language\"],\n",
    "    'Fee' :[22000,25000,23000,24000,26000,27000],\n",
    "    'Duration':['30days','50days','30days','60days','35days','30days']\n",
    "          }\n",
    "df = pd.DataFrame(technologies)\n",
    "print(df)"
   ]
  },
  {
   "cell_type": "markdown",
   "id": "d2369ff9",
   "metadata": {},
   "source": [
    "Let's replace `PySpark` with `Python with Spark`:"
   ]
  },
  {
   "cell_type": "code",
   "execution_count": 39,
   "id": "4a62e81a",
   "metadata": {},
   "outputs": [
    {
     "name": "stdout",
     "output_type": "stream",
     "text": [
      "             Courses    Fee Duration\n",
      "0              Spark  22000   30days\n",
      "1  Python with Spark  25000   50days\n",
      "2              Spark  23000   30days\n",
      "3      Java Language  24000   60days\n",
      "4  Python with Spark  26000   35days\n",
      "5       PHP Language  27000   30days\n"
     ]
    }
   ],
   "source": [
    "df2 = df.replace('PySpark','Python with Spark')\n",
    "print(df2)"
   ]
  },
  {
   "cell_type": "markdown",
   "id": "8bc9f565",
   "metadata": {},
   "source": [
    "Replace multiple strings in multiple columns:"
   ]
  },
  {
   "cell_type": "code",
   "execution_count": 40,
   "id": "64718423",
   "metadata": {},
   "outputs": [
    {
     "name": "stdout",
     "output_type": "stream",
     "text": [
      "             Courses    Fee Duration\n",
      "0              Spark  22000  30 Days\n",
      "1  Python with Spark  25000  50 Days\n",
      "2              Spark  23000  30 Days\n",
      "3      Java Language  24000  60 Days\n",
      "4  Python with Spark  26000  35 Days\n",
      "5       PHP Language  27000  30 Days\n"
     ]
    }
   ],
   "source": [
    "df2 = df.replace({'Courses': 'Py',            # 'Column name': old value\n",
    "                  'Duration': 'days'},\n",
    "                 {'Courses': 'Python with ',  # 'Column name': new value\n",
    "                  'Duration': ' Days'}, regex=True)\n",
    "print(df2)"
   ]
  },
  {
   "cell_type": "code",
   "execution_count": 41,
   "id": "bb808648",
   "metadata": {
    "scrolled": true
   },
   "outputs": [
    {
     "name": "stdout",
     "output_type": "stream",
     "text": [
      "     Courses    Fee Duration\n",
      "0      Spark  22000   30days\n",
      "1    PySpark  25000   50days\n",
      "2      Spark  23000   30days\n",
      "3  Java Lang  24000   60days\n",
      "4    PySpark  26000   35days\n",
      "5   PHP Lang  27000   30days\n"
     ]
    }
   ],
   "source": [
    "df2 = df.replace({'Courses': 'Language'}, {'Courses': 'Lang'}, regex=True)\n",
    "print(df2)"
   ]
  },
  {
   "cell_type": "markdown",
   "id": "099ce6ff",
   "metadata": {},
   "source": [
    "In this case, we can also use simpler alternatives:"
   ]
  },
  {
   "cell_type": "code",
   "execution_count": 42,
   "id": "d4cf826f",
   "metadata": {},
   "outputs": [
    {
     "name": "stdout",
     "output_type": "stream",
     "text": [
      "     Courses    Fee Duration\n",
      "0      Spark  22000   30days\n",
      "1    PySpark  25000   50days\n",
      "2      Spark  23000   30days\n",
      "3  Java Lang  24000   60days\n",
      "4    PySpark  26000   35days\n",
      "5   PHP Lang  27000   30days\n"
     ]
    }
   ],
   "source": [
    "df2 = df.replace('Language', 'Lang', regex=True)\n",
    "print(df2)"
   ]
  },
  {
   "cell_type": "markdown",
   "id": "0ad9c24f",
   "metadata": {},
   "source": [
    "### Replace values within a loop"
   ]
  },
  {
   "cell_type": "code",
   "execution_count": 43,
   "id": "9ef239d5",
   "metadata": {},
   "outputs": [
    {
     "name": "stdout",
     "output_type": "stream",
     "text": [
      "         Courses    Fee Duration\n",
      "0          Spark  22000   30days\n",
      "1        PySpark  25000   50days\n",
      "2          Spark  23000   30days\n",
      "3  Java Language  24000   60days\n",
      "4        PySpark  26000   35days\n",
      "5   PHP Language  27000   30days\n"
     ]
    }
   ],
   "source": [
    "import pandas as pd\n",
    "technologies= {\n",
    "    'Courses':[\"Spark\",\"PySpark\",\"Spark\",\"Java Language\",\"PySpark\",\"PHP Language\"],\n",
    "    'Fee' :[22000,25000,23000,24000,26000,27000],\n",
    "    'Duration':['30days','50days','30days','60days','35days','30days']\n",
    "          }\n",
    "df = pd.DataFrame(technologies)\n",
    "print(df)"
   ]
  },
  {
   "cell_type": "code",
   "execution_count": 44,
   "id": "7190c69c",
   "metadata": {},
   "outputs": [
    {
     "name": "stdout",
     "output_type": "stream",
     "text": [
      "         Courses    Fee Duration\n",
      "0          Spark  25000   30days\n",
      "1        PySpark  25000   50days\n",
      "2          Spark  25000   30days\n",
      "3  Java Language  25000   60days\n",
      "4        PySpark  25000   35days\n",
      "5   PHP Language  25000   30days\n"
     ]
    }
   ],
   "source": [
    "for index, row in df.iterrows():\n",
    "    df.loc[index, \"Fee\"] = 25000\n",
    "print(df)"
   ]
  },
  {
   "cell_type": "markdown",
   "id": "f7079829",
   "metadata": {},
   "source": [
    "## Fill an empty dataframe"
   ]
  },
  {
   "cell_type": "code",
   "execution_count": 45,
   "id": "a33d3642",
   "metadata": {},
   "outputs": [],
   "source": [
    "import pandas as pd"
   ]
  },
  {
   "cell_type": "code",
   "execution_count": 46,
   "id": "2b19fd05",
   "metadata": {},
   "outputs": [],
   "source": [
    "column_names = [\"a\", \"b\", \"c\"]"
   ]
  },
  {
   "cell_type": "code",
   "execution_count": 47,
   "id": "45373f0e",
   "metadata": {
    "scrolled": true
   },
   "outputs": [
    {
     "name": "stdout",
     "output_type": "stream",
     "text": [
      "Empty DataFrame\n",
      "Columns: [a, b, c]\n",
      "Index: []\n"
     ]
    }
   ],
   "source": [
    "df = pd.DataFrame(columns = column_names)\n",
    "print(df)"
   ]
  },
  {
   "cell_type": "markdown",
   "id": "fe2366de",
   "metadata": {},
   "source": [
    "Add one row to the end of the dataframe:"
   ]
  },
  {
   "cell_type": "code",
   "execution_count": 48,
   "id": "c065ffd7",
   "metadata": {},
   "outputs": [
    {
     "data": {
      "text/plain": [
       "0"
      ]
     },
     "execution_count": 48,
     "metadata": {},
     "output_type": "execute_result"
    }
   ],
   "source": [
    "len(df.index)"
   ]
  },
  {
   "cell_type": "code",
   "execution_count": 49,
   "id": "d58dfec4",
   "metadata": {},
   "outputs": [
    {
     "name": "stdout",
     "output_type": "stream",
     "text": [
      "    a   b   c\n",
      "0  10  20  30\n"
     ]
    }
   ],
   "source": [
    "df.loc[len(df.index)]=[10, 20, 30]\n",
    "\n",
    "print(df)"
   ]
  },
  {
   "cell_type": "markdown",
   "id": "549e13af",
   "metadata": {},
   "source": [
    "Add multiple rows to the end of the dataframe:"
   ]
  },
  {
   "cell_type": "code",
   "execution_count": 50,
   "id": "e3cf07e5",
   "metadata": {},
   "outputs": [],
   "source": [
    "df2 = pd.DataFrame({\"a\":[11,12,13],\"b\":[21,22,23],\"c\":[31,32,33]})"
   ]
  },
  {
   "cell_type": "code",
   "execution_count": 51,
   "id": "c5f68c5c",
   "metadata": {},
   "outputs": [
    {
     "name": "stdout",
     "output_type": "stream",
     "text": [
      "    a   b   c\n",
      "0  10  20  30\n",
      "1  11  21  31\n",
      "2  12  22  32\n",
      "3  13  23  33\n"
     ]
    },
    {
     "name": "stderr",
     "output_type": "stream",
     "text": [
      "C:\\Users\\abbasi\\AppData\\Local\\Temp\\2\\ipykernel_14428\\3087991870.py:1: FutureWarning: The frame.append method is deprecated and will be removed from pandas in a future version. Use pandas.concat instead.\n",
      "  df = df.append(df2, ignore_index=True)\n"
     ]
    }
   ],
   "source": [
    "df = df.append(df2, ignore_index=True)\n",
    "print(df)"
   ]
  },
  {
   "cell_type": "code",
   "execution_count": 52,
   "id": "9890a174",
   "metadata": {},
   "outputs": [
    {
     "name": "stdout",
     "output_type": "stream",
     "text": [
      "    a   b   c\n",
      "0  10  20  30\n",
      "1  11  21  31\n",
      "2  12  22  32\n",
      "3  13  23  33\n",
      "4  11  21  31\n",
      "5  12  22  32\n",
      "6  13  23  33\n"
     ]
    }
   ],
   "source": [
    "df = pd.concat([df, df2], ignore_index=True)\n",
    "print(df)"
   ]
  },
  {
   "cell_type": "markdown",
   "id": "3d91d200",
   "metadata": {},
   "source": [
    "## Change date format "
   ]
  },
  {
   "cell_type": "code",
   "execution_count": 53,
   "id": "a215dd51",
   "metadata": {},
   "outputs": [
    {
     "name": "stdout",
     "output_type": "stream",
     "text": [
      "   id        date\n",
      "0   1  28/10/2013\n",
      "1   2  11/10/2006\n",
      "2   3  17/10/2009\n"
     ]
    }
   ],
   "source": [
    "import pandas as pd\n",
    "df = pd.DataFrame({\"id\":[1,2,3],\n",
    "                   \"date\":['28/10/2013', '11/10/2006', '17/10/2009']})\n",
    "print(df)"
   ]
  },
  {
   "cell_type": "code",
   "execution_count": 54,
   "id": "294df4a6",
   "metadata": {},
   "outputs": [
    {
     "data": {
      "text/plain": [
       "dtype('O')"
      ]
     },
     "execution_count": 54,
     "metadata": {},
     "output_type": "execute_result"
    }
   ],
   "source": [
    "df[\"date\"].dtype"
   ]
  },
  {
   "cell_type": "code",
   "execution_count": 55,
   "id": "025d8e02",
   "metadata": {},
   "outputs": [],
   "source": [
    "df[\"date\"] = pd.to_datetime(df[\"date\"], infer_datetime_format=True)"
   ]
  },
  {
   "cell_type": "code",
   "execution_count": 56,
   "id": "6ada2e67",
   "metadata": {},
   "outputs": [
    {
     "data": {
      "text/plain": [
       "dtype('<M8[ns]')"
      ]
     },
     "execution_count": 56,
     "metadata": {},
     "output_type": "execute_result"
    }
   ],
   "source": [
    "df[\"date\"].dtype"
   ]
  },
  {
   "cell_type": "code",
   "execution_count": 57,
   "id": "18a99ade",
   "metadata": {},
   "outputs": [
    {
     "name": "stdout",
     "output_type": "stream",
     "text": [
      "   id       date\n",
      "0   1 2013-10-28\n",
      "1   2 2006-10-11\n",
      "2   3 2009-10-17\n"
     ]
    }
   ],
   "source": [
    "print(df)"
   ]
  },
  {
   "cell_type": "code",
   "execution_count": 58,
   "id": "dcdc3256",
   "metadata": {},
   "outputs": [
    {
     "data": {
      "text/plain": [
       "0    10/28/2013\n",
       "1    10/11/2006\n",
       "2    10/17/2009\n",
       "Name: date, dtype: object"
      ]
     },
     "execution_count": 58,
     "metadata": {},
     "output_type": "execute_result"
    }
   ],
   "source": [
    "df[\"date\"].dt.strftime('%m/%d/%Y')"
   ]
  },
  {
   "cell_type": "code",
   "execution_count": null,
   "id": "ca02af14",
   "metadata": {},
   "outputs": [],
   "source": []
  }
 ],
 "metadata": {
  "kernelspec": {
   "display_name": "Python 3 (ipykernel)",
   "language": "python",
   "name": "python3"
  },
  "language_info": {
   "codemirror_mode": {
    "name": "ipython",
    "version": 3
   },
   "file_extension": ".py",
   "mimetype": "text/x-python",
   "name": "python",
   "nbconvert_exporter": "python",
   "pygments_lexer": "ipython3",
   "version": "3.9.12"
  }
 },
 "nbformat": 4,
 "nbformat_minor": 5
}
