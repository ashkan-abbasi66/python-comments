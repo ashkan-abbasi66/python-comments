{
 "cells": [
  {
   "cell_type": "markdown",
   "id": "466597cf",
   "metadata": {},
   "source": [
    "# Required packages"
   ]
  },
  {
   "cell_type": "code",
   "execution_count": 1,
   "id": "2a420756",
   "metadata": {},
   "outputs": [],
   "source": [
    "import numpy as np\n",
    "import time\n",
    "\n",
    "from sklearn.linear_model import LogisticRegression\n",
    "\n",
    "from sklearn.model_selection import cross_val_predict\n",
    "from sklearn.metrics import confusion_matrix\n",
    "from sklearn.metrics import accuracy_score"
   ]
  },
  {
   "cell_type": "code",
   "execution_count": 2,
   "id": "22f13cba",
   "metadata": {},
   "outputs": [],
   "source": [
    "import matplotlib.pyplot as plt \n",
    "from sklearn.metrics import confusion_matrix, ConfusionMatrixDisplay\n",
    "\n",
    "def confusion_ma(y_true, y_pred, class_names):\n",
    "    cm = confusion_matrix(y_true, y_pred, normalize='true')\n",
    "    disp = ConfusionMatrixDisplay(confusion_matrix=cm, display_labels=class_names)\n",
    "    fig, ax = plt.subplots(figsize=(10,10)) # to adjust figure size\n",
    "    disp.plot(ax=ax, cmap=plt.cm.Blues)\n",
    "    return plt.show()"
   ]
  },
  {
   "cell_type": "markdown",
   "id": "9342b6a1",
   "metadata": {},
   "source": [
    "# Download dataset<a name = 'download_dataset'></a>"
   ]
  },
  {
   "cell_type": "code",
   "execution_count": 3,
   "id": "08a72453",
   "metadata": {},
   "outputs": [],
   "source": [
    "from sklearn.datasets import fetch_openml\n",
    "\n",
    "# a workaround to avoid multiple downloads of the dataset.\n",
    "from joblib import Memory\n",
    "memory = Memory('./tmp')\n",
    "fetch_openml_cached = memory.cache(fetch_openml)\n",
    "\n",
    "# Load data from https://www.openml.org/d/554\n",
    "# https://scikit-learn.org/stable/modules/generated/sklearn.datasets.fetch_openml.html\n",
    "X, y = fetch_openml_cached('mnist_784', version=1, return_X_y=True, data_home = '../DATASETS') # it takes time! - Downloads everytime!"
   ]
  },
  {
   "cell_type": "code",
   "execution_count": 4,
   "id": "defa6b52",
   "metadata": {},
   "outputs": [],
   "source": [
    "y = np.int32(y)"
   ]
  },
  {
   "cell_type": "markdown",
   "id": "0cdc60d7",
   "metadata": {},
   "source": [
    "# Prepare train and test sets<a name=  'prepare_datasets'></a>"
   ]
  },
  {
   "cell_type": "code",
   "execution_count": 5,
   "id": "e52b9b3e",
   "metadata": {},
   "outputs": [],
   "source": [
    "N = 60000\n",
    "\n",
    "X_train = np.float64(X[:N]) # np.float64 is used to avoid warnings when preprocessing data\n",
    "y_train = y[:N]\n",
    "\n",
    "X_test = np.float64(X[N:])\n",
    "y_test = y[N:]"
   ]
  },
  {
   "cell_type": "markdown",
   "id": "eadb5e37",
   "metadata": {},
   "source": [
    "# Logistic Regression (Softmax Regression)"
   ]
  },
  {
   "cell_type": "code",
   "execution_count": 24,
   "id": "7dd7dc2e",
   "metadata": {},
   "outputs": [
    {
     "name": "stdout",
     "output_type": "stream",
     "text": [
      "Elapsed time 9.77 seconds.\n"
     ]
    },
    {
     "name": "stderr",
     "output_type": "stream",
     "text": [
      "C:\\Users\\ashkan\\Anaconda3\\envs\\py36tf18-gpu\\lib\\site-packages\\sklearn\\linear_model\\_logistic.py:765: ConvergenceWarning: lbfgs failed to converge (status=1):\n",
      "STOP: TOTAL NO. of ITERATIONS REACHED LIMIT.\n",
      "\n",
      "Increase the number of iterations (max_iter) or scale the data as shown in:\n",
      "    https://scikit-learn.org/stable/modules/preprocessing.html\n",
      "Please also refer to the documentation for alternative solver options:\n",
      "    https://scikit-learn.org/stable/modules/linear_model.html#logistic-regression\n",
      "  extra_warning_msg=_LOGISTIC_SOLVER_CONVERGENCE_MSG)\n"
     ]
    }
   ],
   "source": [
    "\n",
    "model = LogisticRegression(random_state=0, max_iter = 100) # softmax / one vs all / one vs one\n",
    "\n",
    "start_time = time.time()\n",
    "\n",
    "model.fit(X_train, y_train)\n",
    "\n",
    "print(\"Elapsed time %.2f seconds.\" % (time.time() - start_time))"
   ]
  },
  {
   "cell_type": "code",
   "execution_count": 25,
   "id": "1b922143",
   "metadata": {
    "scrolled": true
   },
   "outputs": [
    {
     "name": "stderr",
     "output_type": "stream",
     "text": [
      "C:\\Users\\ashkan\\Anaconda3\\envs\\py36tf18-gpu\\lib\\site-packages\\sklearn\\linear_model\\_logistic.py:765: ConvergenceWarning: lbfgs failed to converge (status=1):\n",
      "STOP: TOTAL NO. of ITERATIONS REACHED LIMIT.\n",
      "\n",
      "Increase the number of iterations (max_iter) or scale the data as shown in:\n",
      "    https://scikit-learn.org/stable/modules/preprocessing.html\n",
      "Please also refer to the documentation for alternative solver options:\n",
      "    https://scikit-learn.org/stable/modules/linear_model.html#logistic-regression\n",
      "  extra_warning_msg=_LOGISTIC_SOLVER_CONVERGENCE_MSG)\n",
      "C:\\Users\\ashkan\\Anaconda3\\envs\\py36tf18-gpu\\lib\\site-packages\\sklearn\\linear_model\\_logistic.py:765: ConvergenceWarning: lbfgs failed to converge (status=1):\n",
      "STOP: TOTAL NO. of ITERATIONS REACHED LIMIT.\n",
      "\n",
      "Increase the number of iterations (max_iter) or scale the data as shown in:\n",
      "    https://scikit-learn.org/stable/modules/preprocessing.html\n",
      "Please also refer to the documentation for alternative solver options:\n",
      "    https://scikit-learn.org/stable/modules/linear_model.html#logistic-regression\n",
      "  extra_warning_msg=_LOGISTIC_SOLVER_CONVERGENCE_MSG)\n"
     ]
    },
    {
     "name": "stdout",
     "output_type": "stream",
     "text": [
      "[[5688    0   34   12   12   54   47   16   47   13]\n",
      " [   1 6544   32   26    9   22    5   13   76   14]\n",
      " [  38   70 5293  120   72   28   91   68  153   25]\n",
      " [  22   26  146 5458    6  205   16   54  135   63]\n",
      " [  18   25   30   12 5405    9   64   21   48  210]\n",
      " [  66   18   51  203   62 4638  115   21  182   65]\n",
      " [  48   15   62    2   55   74 5625    5   28    4]\n",
      " [  17   24   61   39   59    7    2 5811   23  222]\n",
      " [  40  117   70  172   45  183   52   19 5080   73]\n",
      " [  27   26   15   80  160   37    4  175   57 5368]]\n"
     ]
    },
    {
     "name": "stderr",
     "output_type": "stream",
     "text": [
      "C:\\Users\\ashkan\\Anaconda3\\envs\\py36tf18-gpu\\lib\\site-packages\\sklearn\\linear_model\\_logistic.py:765: ConvergenceWarning: lbfgs failed to converge (status=1):\n",
      "STOP: TOTAL NO. of ITERATIONS REACHED LIMIT.\n",
      "\n",
      "Increase the number of iterations (max_iter) or scale the data as shown in:\n",
      "    https://scikit-learn.org/stable/modules/preprocessing.html\n",
      "Please also refer to the documentation for alternative solver options:\n",
      "    https://scikit-learn.org/stable/modules/linear_model.html#logistic-regression\n",
      "  extra_warning_msg=_LOGISTIC_SOLVER_CONVERGENCE_MSG)\n"
     ]
    }
   ],
   "source": [
    "y_train_pred = cross_val_predict(model, X_train, y_train, cv=3)\n",
    "conf_mx = confusion_matrix(y_train, y_train_pred)\n",
    "print(conf_mx)"
   ]
  },
  {
   "cell_type": "code",
   "execution_count": 26,
   "id": "e0f58631",
   "metadata": {
    "scrolled": true
   },
   "outputs": [
    {
     "data": {
      "image/png": "[encoded data removed]",
      "text/plain": [
       "<Figure size 720x720 with 2 Axes>"
      ]
     },
     "metadata": {
      "needs_background": "light"
     },
     "output_type": "display_data"
    }
   ],
   "source": [
    "confusion_ma(y_train, y_train_pred, None)"
   ]
  },
  {
   "cell_type": "code",
   "execution_count": 27,
   "id": "d84246f7",
   "metadata": {
    "scrolled": true
   },
   "outputs": [
    {
     "data": {
      "text/plain": [
       "0.9151666666666667"
      ]
     },
     "execution_count": 27,
     "metadata": {},
     "output_type": "execute_result"
    }
   ],
   "source": [
    "accuracy_score(y_train, y_train_pred)"
   ]
  },
  {
   "cell_type": "code",
   "execution_count": 28,
   "id": "dfec49a4",
   "metadata": {},
   "outputs": [
    {
     "name": "stdout",
     "output_type": "stream",
     "text": [
      "              precision    recall  f1-score   support\n",
      "\n",
      "           0       0.95      0.96      0.96      5923\n",
      "           1       0.95      0.97      0.96      6742\n",
      "           2       0.91      0.89      0.90      5958\n",
      "           3       0.89      0.89      0.89      6131\n",
      "           4       0.92      0.93      0.92      5842\n",
      "           5       0.88      0.86      0.87      5421\n",
      "           6       0.93      0.95      0.94      5918\n",
      "           7       0.94      0.93      0.93      6265\n",
      "           8       0.87      0.87      0.87      5851\n",
      "           9       0.89      0.90      0.89      5949\n",
      "\n",
      "    accuracy                           0.92     60000\n",
      "   macro avg       0.91      0.91      0.91     60000\n",
      "weighted avg       0.91      0.92      0.92     60000\n",
      "\n"
     ]
    }
   ],
   "source": [
    "from sklearn.metrics import classification_report\n",
    "\n",
    "print(classification_report(y_train, y_train_pred))"
   ]
  },
  {
   "cell_type": "markdown",
   "id": "86ea19ba",
   "metadata": {},
   "source": [
    "In the above, support is the number of actual occurrences of the class in the specified dataset. "
   ]
  },
  {
   "cell_type": "markdown",
   "id": "7841f2b6",
   "metadata": {},
   "source": [
    "Let's see the `Decision_function`"
   ]
  },
  {
   "cell_type": "code",
   "execution_count": 29,
   "id": "6c8754f1",
   "metadata": {},
   "outputs": [
    {
     "data": {
      "text/plain": [
       "array([5])"
      ]
     },
     "execution_count": 29,
     "metadata": {},
     "output_type": "execute_result"
    }
   ],
   "source": [
    "ind = 0\n",
    "sample = X_train[0,:].reshape(1,-1)\n",
    "\n",
    "model.predict(sample)"
   ]
  },
  {
   "cell_type": "code",
   "execution_count": 30,
   "id": "93a64b15",
   "metadata": {},
   "outputs": [
    {
     "data": {
      "text/plain": [
       "5"
      ]
     },
     "execution_count": 30,
     "metadata": {},
     "output_type": "execute_result"
    }
   ],
   "source": [
    "y_train[ind]"
   ]
  },
  {
   "cell_type": "code",
   "execution_count": 31,
   "id": "de15bee3",
   "metadata": {},
   "outputs": [
    {
     "data": {
      "text/plain": [
       "array([[ 0.33094258, -7.47436304,  1.64188864,  8.38208382, -6.77808979,\n",
       "         9.55670172, -4.56166303, -1.47937455,  0.46911556, -0.0872419 ]])"
      ]
     },
     "execution_count": 31,
     "metadata": {},
     "output_type": "execute_result"
    }
   ],
   "source": [
    "model.decision_function(sample)"
   ]
  },
  {
   "cell_type": "code",
   "execution_count": 32,
   "id": "7766f163",
   "metadata": {},
   "outputs": [
    {
     "name": "stdout",
     "output_type": "stream",
     "text": [
      "5\n"
     ]
    }
   ],
   "source": [
    "sample_scores = model.decision_function(sample)\n",
    "print(model.classes_[np.argmax(sample_scores)])"
   ]
  },
  {
   "cell_type": "code",
   "execution_count": null,
   "id": "df2dffd4",
   "metadata": {},
   "outputs": [],
   "source": []
  },
  {
   "cell_type": "code",
   "execution_count": null,
   "id": "8e12be2f",
   "metadata": {},
   "outputs": [],
   "source": []
  }
 ],
 "metadata": {
  "kernelspec": {
   "display_name": "Python 3 (ipykernel)",
   "language": "python",
   "name": "python3"
  },
  "language_info": {
   "codemirror_mode": {
    "name": "ipython",
    "version": 3
   },
   "file_extension": ".py",
   "mimetype": "text/x-python",
   "name": "python",
   "nbconvert_exporter": "python",
   "pygments_lexer": "ipython3",
   "version": "3.8.0"
  }
 },
 "nbformat": 4,
 "nbformat_minor": 5
}
