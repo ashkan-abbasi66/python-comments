{
 "cells": [
  {
   "cell_type": "markdown",
   "metadata": {},
   "source": [
    "- [Download dataset](#download_dataset)\n",
    "- [Prepare train and test sets](#prepare_datasets)\n",
    "- [Dumb classifier!!!](#dumb_clf)\n",
    "- [Binary classifier - SGD Classifier](#sgd_clf)\n",
    "- [Confusion matrix](#confmat)\n",
    "- [How to use cross-validation and confusion matrix simultaneously](#confmat_cv)\n",
    "- [More concise metrics](#metrics)\n",
    "- [Example: Comparing different models and choosing the best one](#example_best_model)\n",
    "- [Precision/Recall Tradeoff](#pr_tradeoff)\n",
    "- [Precision/Recall Curve](#pr_curve)\n",
    "- [ROC curve](#roc_curve)"
   ]
  },
  {
   "cell_type": "markdown",
   "metadata": {},
   "source": [
    "# Download dataset<a name = 'download_dataset'></a>"
   ]
  },
  {
   "cell_type": "code",
   "execution_count": 1,
   "metadata": {
    "scrolled": true
   },
   "outputs": [],
   "source": [
    "from sklearn.datasets import fetch_openml\n",
    "\n",
    "# a workaround to avoid multiple downloads of the dataset.\n",
    "from joblib import Memory\n",
    "memory = Memory('./tmp')\n",
    "fetch_openml_cached = memory.cache(fetch_openml)\n",
    "\n",
    "# Load data from https://www.openml.org/d/554\n",
    "# https://scikit-learn.org/stable/modules/generated/sklearn.datasets.fetch_openml.html\n",
    "X, y = fetch_openml_cached('mnist_784', version=1, return_X_y=True, data_home = '../DATASETS') # it takes time! - Downloads everytime!"
   ]
  },
  {
   "cell_type": "code",
   "execution_count": 2,
   "metadata": {
    "scrolled": true
   },
   "outputs": [
    {
     "name": "stdout",
     "output_type": "stream",
     "text": [
      "<class 'pandas.core.series.Series'>\n",
      "<class 'pandas.core.arrays.categorical.Categorical'>\n",
      "<class 'str'>\n"
     ]
    }
   ],
   "source": [
    "print(type(y))\n",
    "print(type(y.values))\n",
    "print(type(y[0]))"
   ]
  },
  {
   "cell_type": "code",
   "execution_count": 3,
   "metadata": {},
   "outputs": [],
   "source": [
    "import numpy as np\n",
    "\n",
    "y = np.int32(y)"
   ]
  },
  {
   "cell_type": "markdown",
   "metadata": {},
   "source": [
    "# Prepare train and test sets<a name=  'prepare_datasets'></a>"
   ]
  },
  {
   "cell_type": "code",
   "execution_count": 4,
   "metadata": {},
   "outputs": [],
   "source": [
    "import numpy as np\n",
    "\n",
    "N = 60000\n",
    "\n",
    "X_train = np.float64(X[:N]) # np.float64 is used to avoid warnings when preprocessing data\n",
    "y_train = y[:N]\n",
    "\n",
    "X_test = np.float64(X[N:])\n",
    "y_test = y[N:]"
   ]
  },
  {
   "cell_type": "code",
   "execution_count": 5,
   "metadata": {
    "scrolled": true
   },
   "outputs": [],
   "source": [
    "y_train_5 = (y_train == 5)\n",
    "y_test_5 = (y_test == 5)"
   ]
  },
  {
   "cell_type": "markdown",
   "metadata": {},
   "source": [
    "# Dumb classifier!!<a name = 'dumb_clf'></a>"
   ]
  },
  {
   "cell_type": "code",
   "execution_count": 6,
   "metadata": {
    "scrolled": false
   },
   "outputs": [],
   "source": [
    "from sklearn.base import BaseEstimator\n",
    "from sklearn.metrics import accuracy_score\n",
    "\n",
    "class dumbClassifier(BaseEstimator):\n",
    "    def fit(self, X, y=None):\n",
    "        pass\n",
    "    def predict(self, X):\n",
    "        return np.zeros((len(X), 1), dtype=bool)\n",
    "    \n",
    "dumb_clf = dumbClassifier()\n",
    "\n",
    "dumb_clf.fit(X_train, y_train_5)"
   ]
  },
  {
   "cell_type": "code",
   "execution_count": 7,
   "metadata": {},
   "outputs": [
    {
     "data": {
      "text/plain": [
       "0.90965"
      ]
     },
     "execution_count": 7,
     "metadata": {},
     "output_type": "execute_result"
    }
   ],
   "source": [
    "accuracy_score(y_train_5, dumb_clf.predict(X_train))"
   ]
  },
  {
   "cell_type": "markdown",
   "metadata": {},
   "source": [
    "# Binary classifier - SGD Classifier <a name = 'sgd_clf'></a>"
   ]
  },
  {
   "cell_type": "code",
   "execution_count": 17,
   "metadata": {},
   "outputs": [
    {
     "name": "stdout",
     "output_type": "stream",
     "text": [
      "Elapsed time 1.94 seconds.\n"
     ]
    }
   ],
   "source": [
    "import time\n",
    "\n",
    "from sklearn.linear_model import SGDClassifier\n",
    "\n",
    "from sklearn.pipeline import Pipeline\n",
    "from sklearn.preprocessing import StandardScaler\n",
    "#from sklearn.preprocessing import MinMaxScaler\n",
    "\n",
    "model = Pipeline([('scaler', StandardScaler()), \n",
    "                  ('sgd_clf', SGDClassifier(random_state=0, loss = 'log',alpha = 0.00001, max_iter=5, tol = None, learning_rate = 'optimal'))]) \n",
    "\n",
    "start_time = time.time()\n",
    "\n",
    "model.fit(X_train, y_train_5)\n",
    "\n",
    "print(\"Elapsed time %.2f seconds.\" % (time.time() - start_time))"
   ]
  },
  {
   "cell_type": "code",
   "execution_count": 18,
   "metadata": {},
   "outputs": [
    {
     "data": {
      "text/plain": [
       "0.9738333333333333"
      ]
     },
     "execution_count": 18,
     "metadata": {},
     "output_type": "execute_result"
    }
   ],
   "source": [
    "model.score(X_train,y_train_5) "
   ]
  },
  {
   "cell_type": "markdown",
   "metadata": {},
   "source": [
    "# Confusion matrix<a name = 'confmat'></a>\n",
    "\n",
    "`confusion_matrix(y_true, y_pred,...)`"
   ]
  },
  {
   "cell_type": "code",
   "execution_count": 19,
   "metadata": {
    "scrolled": false
   },
   "outputs": [
    {
     "name": "stdout",
     "output_type": "stream",
     "text": [
      "[[54579     0]\n",
      " [ 5421     0]]\n",
      "\n",
      "[[54055   524]\n",
      " [ 1046  4375]]\n"
     ]
    }
   ],
   "source": [
    "from sklearn.metrics import confusion_matrix\n",
    "\n",
    "confm_dumb = confusion_matrix(y_train_5, dumb_clf.predict(X_train))\n",
    "confm_model = confusion_matrix(y_train_5, model.predict(X_train))\n",
    "\n",
    "print(confm_dumb)\n",
    "print('')\n",
    "print(confm_model)"
   ]
  },
  {
   "cell_type": "code",
   "execution_count": 20,
   "metadata": {},
   "outputs": [
    {
     "data": {
      "text/plain": [
       "0.07291666666666667"
      ]
     },
     "execution_count": 20,
     "metadata": {},
     "output_type": "execute_result"
    }
   ],
   "source": [
    "tp = 4375\n",
    "total = 54055 + 524 + 1046 + 4375\n",
    "\n",
    "tp/total"
   ]
  },
  {
   "cell_type": "code",
   "execution_count": 21,
   "metadata": {},
   "outputs": [
    {
     "data": {
      "text/plain": [
       "0.8070466703560228"
      ]
     },
     "execution_count": 21,
     "metadata": {},
     "output_type": "execute_result"
    }
   ],
   "source": [
    "tp / (5421)"
   ]
  },
  {
   "cell_type": "markdown",
   "metadata": {},
   "source": [
    "## Plot the confusion matrix"
   ]
  },
  {
   "cell_type": "markdown",
   "metadata": {},
   "source": [
    "You can also plot the confusion matrix in a more interesting way:\n",
    "\n",
    "See [here](https://scikit-learn.org/stable/auto_examples/model_selection/plot_confusion_matrix.html#sphx-glr-auto-examples-model-selection-plot-confusion-matrix-py)\n"
   ]
  },
  {
   "cell_type": "code",
   "execution_count": 11,
   "metadata": {
    "scrolled": true
   },
   "outputs": [
    {
     "data": {
      "image/png": "[encoded data removed]",
      "text/plain": [
       "<Figure size 432x288 with 2 Axes>"
      ]
     },
     "metadata": {
      "needs_background": "light"
     },
     "output_type": "display_data"
    }
   ],
   "source": [
    "import matplotlib.pyplot as plt \n",
    "from sklearn.metrics import plot_confusion_matrix\n",
    "\n",
    "plot_confusion_matrix(model, X_train, y_train_5)  # model.predict(..)\n",
    "\n",
    "plt.show() "
   ]
  },
  {
   "cell_type": "markdown",
   "metadata": {},
   "source": [
    "Instead of counts, it may prefer to use rates. E.g., instead of TP, we may prefer to report True Positive Rate (TPR)."
   ]
  },
  {
   "cell_type": "code",
   "execution_count": 12,
   "metadata": {
    "scrolled": false
   },
   "outputs": [
    {
     "data": {
      "image/png": "[encoded data removed]",
      "text/plain": [
       "<Figure size 432x288 with 2 Axes>"
      ]
     },
     "metadata": {
      "needs_background": "light"
     },
     "output_type": "display_data"
    }
   ],
   "source": [
    "plot_confusion_matrix(model, X_train, y_train_5, normalize ='true')  \n",
    "\n",
    "plt.show() \n"
   ]
  },
  {
   "cell_type": "markdown",
   "metadata": {},
   "source": [
    "Unfortunately, the above function requires the estimator/model. "
   ]
  },
  {
   "cell_type": "code",
   "execution_count": 27,
   "metadata": {},
   "outputs": [],
   "source": [
    "import matplotlib.pyplot as plt \n",
    "from sklearn.metrics import confusion_matrix, ConfusionMatrixDisplay\n",
    "\n",
    "def confusion_ma(y_true, y_pred, class_names):\n",
    "    cm = confusion_matrix(y_true, y_pred, normalize='true')\n",
    "    disp = ConfusionMatrixDisplay(confusion_matrix=cm, display_labels=class_names)\n",
    "    disp.plot(cmap=plt.cm.Blues)\n",
    "    return plt.show()"
   ]
  },
  {
   "cell_type": "code",
   "execution_count": 28,
   "metadata": {},
   "outputs": [
    {
     "data": {
      "image/png": "[encoded data removed]",
      "text/plain": [
       "<Figure size 432x288 with 2 Axes>"
      ]
     },
     "metadata": {
      "needs_background": "light"
     },
     "output_type": "display_data"
    }
   ],
   "source": [
    "confusion_ma(y_train_5, model.predict(X_train),None)"
   ]
  },
  {
   "cell_type": "markdown",
   "metadata": {},
   "source": [
    "# How to use cross-validation and confusion matrix simultaneously <a name = 'confmat_cv'></a>"
   ]
  },
  {
   "cell_type": "markdown",
   "metadata": {},
   "source": [
    "Basically, you need to have a set of predictions and compare them to the actual targets to compute confusion matrix.\n",
    "\n",
    "Remember, do not touch the test set until the end of your project. \n",
    "\n",
    "Prediction on the training set may not be a good representative of the model's generalization error. \n",
    "\n",
    "We can use CROSS VALIDATION - but `cross_val_score` only computes a set of scores - How can we obtain predictions?\n",
    "\n",
    "Just like the `cross_val_score()`, the `cross_val_predict()` performs K-fold cross-validation, but instead of returning the evaluation scores, it returns the predictions made on each test fold."
   ]
  },
  {
   "cell_type": "code",
   "execution_count": 30,
   "metadata": {},
   "outputs": [],
   "source": [
    "from sklearn.model_selection import cross_val_predict\n",
    "\n",
    "y_train_pred = cross_val_predict(model, X_train, y_train_5, cv=3)"
   ]
  },
  {
   "cell_type": "code",
   "execution_count": 31,
   "metadata": {
    "scrolled": true
   },
   "outputs": [
    {
     "data": {
      "text/plain": [
       "(60000,)"
      ]
     },
     "execution_count": 31,
     "metadata": {},
     "output_type": "execute_result"
    }
   ],
   "source": [
    "y_train_pred.shape"
   ]
  },
  {
   "cell_type": "markdown",
   "metadata": {},
   "source": [
    "Why it does not return three predicions for each sample?!! See [here](https://stackoverflow.com/questions/41458834/how-is-scikit-learn-cross-val-predict-accuracy-score-calculated)\n",
    "\n",
    ">The function cross_val_predict has a similar interface to cross_val_score, but returns, for each element in the input, the prediction that was obtained for that element when it was in the test set. Only cross-validation strategies that assign all elements to a test set exactly once can be used (otherwise, an exception is raised)."
   ]
  },
  {
   "cell_type": "code",
   "execution_count": 32,
   "metadata": {},
   "outputs": [
    {
     "data": {
      "text/plain": [
       "0.9695833333333334"
      ]
     },
     "execution_count": 32,
     "metadata": {},
     "output_type": "execute_result"
    }
   ],
   "source": [
    "accuracy_score(y_train_5, y_train_pred)"
   ]
  },
  {
   "cell_type": "code",
   "execution_count": 33,
   "metadata": {},
   "outputs": [
    {
     "name": "stdout",
     "output_type": "stream",
     "text": [
      "[[53874   705]\n",
      " [ 1120  4301]]\n"
     ]
    }
   ],
   "source": [
    "confm_model = confusion_matrix(y_train_5, y_train_pred)\n",
    "\n",
    "print(confm_model)"
   ]
  },
  {
   "cell_type": "code",
   "execution_count": 34,
   "metadata": {},
   "outputs": [
    {
     "data": {
      "image/png": "[encoded data removed]",
      "text/plain": [
       "<Figure size 432x288 with 2 Axes>"
      ]
     },
     "metadata": {
      "needs_background": "light"
     },
     "output_type": "display_data"
    }
   ],
   "source": [
    "confusion_ma(y_train_5, y_train_pred,None)"
   ]
  },
  {
   "cell_type": "markdown",
   "metadata": {},
   "source": [
    "# More concise metrics<a name = 'metrics'></a>"
   ]
  },
  {
   "cell_type": "markdown",
   "metadata": {},
   "source": [
    "Confusion matrix has lots of information. \n",
    "\n",
    "How to summarize information given by confusion matrix?"
   ]
  },
  {
   "cell_type": "markdown",
   "metadata": {},
   "source": [
    "## Precision: The accuracy of positive predictions\n",
    "\n",
    "$\\text{precision} = \\frac{TP}{TP + FP}$"
   ]
  },
  {
   "cell_type": "markdown",
   "metadata": {},
   "source": [
    "## Recall / TPR / Sensetivity = The ratio of positive instances that are detected by the classifier"
   ]
  },
  {
   "cell_type": "markdown",
   "metadata": {},
   "source": [
    "$recall = \\frac{TP}{TP + FN}$\n",
    "\n",
    "The difference between precision and recall are in their denominators\n",
    "\n",
    "The following figure show how these metrics can be computed from a confusion matrix of a 5-image recognizer:"
   ]
  },
  {
   "cell_type": "code",
   "execution_count": 19,
   "metadata": {
    "scrolled": true
   },
   "outputs": [
    {
     "data": {
      "text/html": [
       "<img src=\"./confusion_matrix_illustrated.png\" width=\"800\" height=\"450\"/>"
      ],
      "text/plain": [
       "<IPython.core.display.Image object>"
      ]
     },
     "execution_count": 19,
     "metadata": {},
     "output_type": "execute_result"
    }
   ],
   "source": [
    "from IPython.display import Image\n",
    "Image(url= \"./confusion_matrix_illustrated.png\", width=800, height=450)"
   ]
  },
  {
   "cell_type": "markdown",
   "metadata": {},
   "source": [
    "Increasing FPs, leads to lower precision<br>\n",
    "Increasing FNs, leads to lower recall"
   ]
  },
  {
   "cell_type": "markdown",
   "metadata": {},
   "source": [
    "## Compute Precision and Recall"
   ]
  },
  {
   "cell_type": "code",
   "execution_count": 20,
   "metadata": {},
   "outputs": [],
   "source": [
    "from sklearn.metrics import precision_score\n",
    "from sklearn.metrics import recall_score"
   ]
  },
  {
   "cell_type": "code",
   "execution_count": 21,
   "metadata": {},
   "outputs": [
    {
     "data": {
      "text/plain": [
       "array([[54055,   524],\n",
       "       [ 1046,  4375]], dtype=int64)"
      ]
     },
     "execution_count": 21,
     "metadata": {},
     "output_type": "execute_result"
    }
   ],
   "source": [
    "y_pred_model = model.predict(X_train);\n",
    "\n",
    "confusion_matrix(y_train_5, y_pred_model)"
   ]
  },
  {
   "cell_type": "code",
   "execution_count": 22,
   "metadata": {},
   "outputs": [
    {
     "name": "stdout",
     "output_type": "stream",
     "text": [
      "PR = 0.893\n",
      "Recall = 0.807\n"
     ]
    }
   ],
   "source": [
    "print('PR = %0.3f'% precision_score(y_train_5, y_pred_model))\n",
    "print('Recall = %0.3f'% recall_score(y_train_5, y_pred_model))"
   ]
  },
  {
   "cell_type": "markdown",
   "metadata": {},
   "source": [
    "When your classifier claims an image is 5, it is correct only 89 percent of the times. Also, it only classifies 81 percent of the 5 images in the training set."
   ]
  },
  {
   "cell_type": "markdown",
   "metadata": {},
   "source": [
    "Let's compute precision and recall for the dumb classifier"
   ]
  },
  {
   "cell_type": "code",
   "execution_count": 23,
   "metadata": {},
   "outputs": [
    {
     "data": {
      "text/plain": [
       "array([[54579,     0],\n",
       "       [ 5421,     0]], dtype=int64)"
      ]
     },
     "execution_count": 23,
     "metadata": {},
     "output_type": "execute_result"
    }
   ],
   "source": [
    "y_pred_dumb = dumb_clf.predict(X_train);\n",
    "\n",
    "confusion_matrix(y_train_5, y_pred_dumb)"
   ]
  },
  {
   "cell_type": "code",
   "execution_count": 24,
   "metadata": {},
   "outputs": [
    {
     "name": "stdout",
     "output_type": "stream",
     "text": [
      "PR = 0.000\n",
      "Recall = 0.000\n"
     ]
    },
    {
     "name": "stderr",
     "output_type": "stream",
     "text": [
      "C:\\Users\\ashkan\\Anaconda3\\envs\\py36tf18-gpu\\lib\\site-packages\\sklearn\\metrics\\_classification.py:1248: UndefinedMetricWarning: Precision is ill-defined and being set to 0.0 due to no predicted samples. Use `zero_division` parameter to control this behavior.\n",
      "  _warn_prf(average, modifier, msg_start, len(result))\n"
     ]
    }
   ],
   "source": [
    "print('PR = %0.3f'% precision_score(y_train_5, y_pred_dumb))\n",
    "print('Recall = %0.3f'% recall_score(y_train_5, y_pred_dumb))"
   ]
  },
  {
   "cell_type": "markdown",
   "metadata": {},
   "source": [
    "## $\\text{F}_1$ score"
   ]
  },
  {
   "cell_type": "markdown",
   "metadata": {},
   "source": [
    "This score combines both precision and recall using the harmonic mean of them."
   ]
  },
  {
   "cell_type": "markdown",
   "metadata": {},
   "source": [
    "$\\text{F}_1 = \\frac{2}{\\frac{1}{\\text{precision}}+\\frac{1}{\\text{recall}}} = 2 \\times \\frac{\\text{precision}\\times \\text{recall}}{\\text{precision}+\\text{recall}}$"
   ]
  },
  {
   "cell_type": "code",
   "execution_count": 25,
   "metadata": {
    "scrolled": true
   },
   "outputs": [
    {
     "name": "stdout",
     "output_type": "stream",
     "text": [
      "f1 for dumb =0.000\n",
      "f1 for model =0.848\n"
     ]
    }
   ],
   "source": [
    "from sklearn.metrics import f1_score\n",
    "\n",
    "f1_dumb = f1_score(y_train_5, y_pred_dumb)\n",
    "f1_model = f1_score(y_train_5, y_pred_model)\n",
    "\n",
    "print('f1 for dumb =%0.3f'%f1_dumb)\n",
    "print('f1 for model =%0.3f'%f1_model)"
   ]
  },
  {
   "cell_type": "code",
   "execution_count": 37,
   "metadata": {},
   "outputs": [
    {
     "data": {
      "text/plain": [
       "0.0"
      ]
     },
     "execution_count": 37,
     "metadata": {},
     "output_type": "execute_result"
    }
   ],
   "source": [
    "2/np.inf"
   ]
  },
  {
   "cell_type": "markdown",
   "metadata": {},
   "source": [
    "**Why harmonic mean is used to combine both metrics?**\n",
    "\n",
    "The regular mean treats all values equally, the harmonic mean gives much more weight to low values. \n",
    "\n",
    "F1 score is high whenever both recall and precision are hight."
   ]
  },
  {
   "cell_type": "markdown",
   "metadata": {},
   "source": [
    "# Example: Comparing different models and choosing the best one. <a name = 'example_best_model'></a>"
   ]
  },
  {
   "cell_type": "markdown",
   "metadata": {},
   "source": [
    "There are lots of functions for preprocessing data. You can see (here)[https://scikit-learn.org/stable/modules/preprocessing.html]. Select the one which is suitable for your data."
   ]
  },
  {
   "cell_type": "code",
   "execution_count": 38,
   "metadata": {},
   "outputs": [],
   "source": [
    "from sklearn.linear_model import SGDClassifier\n",
    "\n",
    "from sklearn.base import clone # Constructs a new unfitted estimator with the same parameters.\n",
    "\n",
    "from sklearn.pipeline import Pipeline\n",
    "from sklearn.preprocessing import StandardScaler\n",
    "from sklearn.preprocessing import MinMaxScaler\n",
    "from sklearn.preprocessing import QuantileTransformer\n",
    "\n",
    "from sklearn.model_selection import cross_val_predict\n",
    "from sklearn.metrics import f1_score"
   ]
  },
  {
   "cell_type": "markdown",
   "metadata": {},
   "source": [
    "Define multiple models"
   ]
  },
  {
   "cell_type": "code",
   "execution_count": 39,
   "metadata": {},
   "outputs": [],
   "source": [
    "model1 = SGDClassifier(random_state=0, loss = 'log', max_iter=5, tol = None, alpha=0.001)\n",
    "\n",
    "model2 = Pipeline([('scaler', StandardScaler()), \n",
    "                  ('sgd_clf', clone(model1))])  \n",
    "\n",
    "model3 = Pipeline([('minmax', MinMaxScaler()),\n",
    "                   ('sgd_clf', clone(model1))])\n",
    "\n",
    "model4 = Pipeline([('yao', QuantileTransformer(output_distribution='normal', random_state=0)),\n",
    "                   ('sgd_clf', clone(model1))]) # Gaussinization Transform"
   ]
  },
  {
   "cell_type": "markdown",
   "metadata": {},
   "source": [
    "If you want to create a custom Transformer that can be used with a Pipline in Scicit-Learn, see [here](https://github.com/HCGrit/MachineLearning-iamJustAStudent/tree/master/PipelineFoundation)"
   ]
  },
  {
   "cell_type": "markdown",
   "metadata": {},
   "source": [
    "Perform cross-validation to find the best model (e.g., in terms of f1 score)"
   ]
  },
  {
   "cell_type": "code",
   "execution_count": 40,
   "metadata": {},
   "outputs": [],
   "source": [
    "y_train_pred_model1 = cross_val_predict(model1, X_train, y_train_5, cv = 3)\n",
    "y_train_pred_model2 = cross_val_predict(model2, X_train, y_train_5, cv = 3)\n",
    "y_train_pred_model3 = cross_val_predict(model3, X_train, y_train_5, cv = 3)\n",
    "y_train_pred_model4 = cross_val_predict(model4, X_train, y_train_5, cv = 3)\n",
    "y_train_pred_model5 = cross_val_predict(model1, X_train / 255.0, y_train_5, cv = 3)"
   ]
  },
  {
   "cell_type": "code",
   "execution_count": 41,
   "metadata": {},
   "outputs": [
    {
     "name": "stdout",
     "output_type": "stream",
     "text": [
      "F1 for model1 =0.749\n",
      "F1 for model2 =0.770\n",
      "F1 for model3 =0.819\n",
      "F1 for model4 =0.692\n",
      "F1 for model4 =0.819\n"
     ]
    }
   ],
   "source": [
    "f1_model1 = f1_score(y_train_5, y_train_pred_model1)\n",
    "f1_model2 = f1_score(y_train_5, y_train_pred_model2)\n",
    "f1_model3 = f1_score(y_train_5, y_train_pred_model3)\n",
    "f1_model4 = f1_score(y_train_5, y_train_pred_model4)\n",
    "f1_model5 = f1_score(y_train_5, y_train_pred_model5)\n",
    "\n",
    "print('F1 for model1 =%0.3f'%f1_model1)\n",
    "print('F1 for model2 =%0.3f'%f1_model2)\n",
    "print('F1 for model3 =%0.3f'%f1_model3)\n",
    "print('F1 for model4 =%0.3f'%f1_model4)\n",
    "print('F1 for model4 =%0.3f'%f1_model5)"
   ]
  },
  {
   "cell_type": "code",
   "execution_count": 42,
   "metadata": {},
   "outputs": [
    {
     "name": "stdout",
     "output_type": "stream",
     "text": [
      "0.9534833333333333\n",
      "0.96285\n",
      "0.9700333333333333\n",
      "0.9390666666666667\n",
      "0.9700166666666666\n"
     ]
    }
   ],
   "source": [
    "print(accuracy_score(y_train_5,y_train_pred_model1))\n",
    "print(accuracy_score(y_train_5,y_train_pred_model2))\n",
    "print(accuracy_score(y_train_5,y_train_pred_model3))\n",
    "print(accuracy_score(y_train_5,y_train_pred_model4))\n",
    "print(accuracy_score(y_train_5,y_train_pred_model5))"
   ]
  },
  {
   "cell_type": "markdown",
   "metadata": {},
   "source": [
    "Let's pick the model with the highest *metric* and train it. Then, report the final result over test dataset:"
   ]
  },
  {
   "cell_type": "code",
   "execution_count": 43,
   "metadata": {
    "scrolled": true
   },
   "outputs": [
    {
     "data": {
      "text/plain": [
       "Pipeline(steps=[('minmax', MinMaxScaler()),\n",
       "                ('sgd_clf',\n",
       "                 SGDClassifier(alpha=0.001, loss='log', max_iter=5,\n",
       "                               random_state=0, tol=None))])"
      ]
     },
     "execution_count": 43,
     "metadata": {},
     "output_type": "execute_result"
    }
   ],
   "source": [
    "model = model3\n",
    "model.fit(X_train, y_train_5)"
   ]
  },
  {
   "cell_type": "code",
   "execution_count": 44,
   "metadata": {},
   "outputs": [
    {
     "name": "stdout",
     "output_type": "stream",
     "text": [
      "Metric results of the selected model for the TEST set:\n",
      "Accuracy = 0.974\n",
      "F1 score = 0.841\n"
     ]
    }
   ],
   "source": [
    "from sklearn.metrics import accuracy_score\n",
    "\n",
    "y_test_pred = model.predict(X_test)\n",
    "\n",
    "print('Metric results of the selected model for the TEST set:')\n",
    "print('Accuracy = %0.3f'%accuracy_score(y_test_5,y_test_pred))\n",
    "print('F1 score = %0.3f'%f1_score(y_test_5, y_test_pred))"
   ]
  },
  {
   "cell_type": "markdown",
   "metadata": {},
   "source": [
    "Since the accuracy of train and test are very close to each other. There might be a risk of underfitting. So, we can have a more relax model by decreasing the reguralization strength (e.g., use alpha = 0.00001). However, in this case, it does not improve the performance."
   ]
  },
  {
   "cell_type": "markdown",
   "metadata": {},
   "source": [
    "# Precision/Recall Tradeoff<a name = 'pr_tradeoff'></a>"
   ]
  },
  {
   "cell_type": "markdown",
   "metadata": {},
   "source": [
    "- Safe Video Detection: \n",
    "\n",
    "bad(-), good(+) => we do not want to have lots of bad videos detected as good! => low # of FPs is prefered => high precision is favored.\n",
    "\n",
    "- Shoplifter Detector on Surverillance Camera: \n",
    "\n",
    "shoplifter(+), normal customer(-) => we do not want a thieft to be detected as normal => low # of FNs is prefered => high recall"
   ]
  },
  {
   "cell_type": "markdown",
   "metadata": {},
   "source": [
    "**Increasing precision, reduces recall, and vice versa.**"
   ]
  },
  {
   "cell_type": "markdown",
   "metadata": {},
   "source": [
    "How SGDClassifier makes its classification decisions?\n",
    "\n",
    "For each instance, it computes a score based on a decision function.\n",
    "\n",
    "If the score is greater than a threshold, it assigns that instance to the + class."
   ]
  },
  {
   "cell_type": "code",
   "execution_count": 33,
   "metadata": {},
   "outputs": [
    {
     "data": {
      "text/html": [
       "<img src=\"./precision_recall_tradeoff_1.png\"/>"
      ],
      "text/plain": [
       "<IPython.core.display.Image object>"
      ]
     },
     "execution_count": 33,
     "metadata": {},
     "output_type": "execute_result"
    }
   ],
   "source": [
    "from IPython.display import Image\n",
    "Image(url= \"./precision_recall_tradeoff_1.png\")"
   ]
  },
  {
   "cell_type": "markdown",
   "metadata": {},
   "source": [
    "Scikit-Learn does not let you set the threshold directly.\n",
    "\n",
    "Instead, you can access to the decision scores.\n",
    "\n",
    "Call `decision_function` instead of `predict`.\n",
    "\n",
    "In SGDClassifier, default threshold is 0. However, note that when you use logistic loss it is different."
   ]
  },
  {
   "cell_type": "markdown",
   "metadata": {},
   "source": [
    "## How does decision made for an example?"
   ]
  },
  {
   "cell_type": "code",
   "execution_count": 45,
   "metadata": {},
   "outputs": [
    {
     "name": "stdout",
     "output_type": "stream",
     "text": [
      "(array([    0,    11,    35, ..., 59968, 59993, 59997], dtype=int64),)\n"
     ]
    }
   ],
   "source": [
    "ind_5 = np.where(y_train == 5)\n",
    "print(ind_5)"
   ]
  },
  {
   "cell_type": "code",
   "execution_count": 47,
   "metadata": {
    "scrolled": true
   },
   "outputs": [
    {
     "name": "stdout",
     "output_type": "stream",
     "text": [
      "label: 3\n"
     ]
    },
    {
     "data": {
      "image/png": "[encoded data removed]",
      "text/plain": [
       "<Figure size 432x288 with 1 Axes>"
      ]
     },
     "metadata": {
      "needs_background": "light"
     },
     "output_type": "display_data"
    }
   ],
   "source": [
    "%matplotlib inline\n",
    "import matplotlib\n",
    "import matplotlib.pyplot as plt\n",
    "\n",
    "ii = 10\n",
    "sample = X_train[ii]\n",
    "sample_img = sample.reshape(28, 28)\n",
    "\n",
    "plt.imshow(sample_img, \n",
    "           cmap = matplotlib.cm.binary,\n",
    "           interpolation=\"nearest\")\n",
    "plt.axis(\"off\")\n",
    "\n",
    "print('label: %s'%y[ii]) # Note that the labels are stored as string!\n",
    "plt.show()"
   ]
  },
  {
   "cell_type": "markdown",
   "metadata": {},
   "source": [
    "`model.predict` - `model.predict_proba` - `model.decision_function` \n",
    "\n",
    "Note: `predict_proba` only works for classifiers with probability interpretation:<br>\n",
    "Log Reg `predict_proba`\n",
    "\n",
    "Perceptron\n",
    "\n",
    "SGDclassifier if loss = `log` "
   ]
  },
  {
   "cell_type": "code",
   "execution_count": 48,
   "metadata": {},
   "outputs": [
    {
     "name": "stdout",
     "output_type": "stream",
     "text": [
      "Predicted label:  [False]\n",
      "Probabilities for each class [-,+]: [[0.99765286 0.00234714]]\n"
     ]
    }
   ],
   "source": [
    "sample_vec = np.c_[sample]\n",
    "\n",
    "print('Predicted label: ',model.predict(sample_vec.T))\n",
    "print('Probabilities for each class [-,+]:', model.predict_proba(sample_vec.T))"
   ]
  },
  {
   "cell_type": "code",
   "execution_count": 49,
   "metadata": {},
   "outputs": [
    {
     "name": "stdout",
     "output_type": "stream",
     "text": [
      "[-6.0522091]\n"
     ]
    }
   ],
   "source": [
    "score_ = model.decision_function(sample_vec.T)\n",
    "print(score_)"
   ]
  },
  {
   "cell_type": "markdown",
   "metadata": {},
   "source": [
    "Logistic Regression makes decision based on sigmoid function"
   ]
  },
  {
   "cell_type": "code",
   "execution_count": 50,
   "metadata": {},
   "outputs": [
    {
     "data": {
      "text/plain": [
       "array([0.00234714])"
      ]
     },
     "execution_count": 50,
     "metadata": {},
     "output_type": "execute_result"
    }
   ],
   "source": [
    "def sigmoid(x):\n",
    "    return 1/(1 + np.exp(-x))\n",
    "    \n",
    "\n",
    "sigmoid(score_)"
   ]
  },
  {
   "cell_type": "markdown",
   "metadata": {},
   "source": [
    "It uses P>=0.5 for binary classification"
   ]
  },
  {
   "cell_type": "markdown",
   "metadata": {},
   "source": [
    "**Exercise**: Use `predict_proba` function in a loop with various threshold values and compute the accuracy of the model."
   ]
  },
  {
   "cell_type": "markdown",
   "metadata": {},
   "source": [
    "# Precision/Recall Curve <a name = 'pr_curve'></a>"
   ]
  },
  {
   "cell_type": "code",
   "execution_count": 51,
   "metadata": {},
   "outputs": [],
   "source": [
    "y_scores = cross_val_predict(model, X_train, y_train_5, cv=3)"
   ]
  },
  {
   "cell_type": "markdown",
   "metadata": {},
   "source": [
    "The above, it returns the classes associated with each training sample.\n",
    "\n",
    "CV\n",
    "model.predict(sample)\n",
    "\n",
    "model.decision_function(sample)"
   ]
  },
  {
   "cell_type": "code",
   "execution_count": 39,
   "metadata": {},
   "outputs": [],
   "source": [
    "y_scores = cross_val_predict(model, X_train, y_train_5, cv=3, method=\"decision_function\")"
   ]
  },
  {
   "cell_type": "code",
   "execution_count": 40,
   "metadata": {},
   "outputs": [
    {
     "data": {
      "text/plain": [
       "array([ 0.57119033, -5.66673977, -7.43124087, -5.11804983, -6.8074978 ,\n",
       "       -6.15407598, -6.21018796, -6.62209107, -3.69314617, -3.0659644 ,\n",
       "       -6.28907996,  1.54618106, -4.52383636, -6.21346504, -3.37488351])"
      ]
     },
     "execution_count": 40,
     "metadata": {},
     "output_type": "execute_result"
    }
   ],
   "source": [
    "y_scores[:15]"
   ]
  },
  {
   "cell_type": "code",
   "execution_count": 41,
   "metadata": {},
   "outputs": [],
   "source": [
    "from sklearn.metrics import precision_recall_curve\n",
    "\n",
    "precisions, recalls, thresholds = precision_recall_curve(y_train_5, y_scores)"
   ]
  },
  {
   "cell_type": "code",
   "execution_count": 42,
   "metadata": {},
   "outputs": [
    {
     "name": "stdout",
     "output_type": "stream",
     "text": [
      "(58626,)\n",
      "[-13.01528959 -13.0141855  -13.01146603 -13.00942729 -13.00838474\n",
      " -13.00835293 -13.00638111 -13.00635955 -13.00328059 -13.00208324]\n",
      "-13.015289594690602 8.650316108039728\n",
      "-27.099596421986977 8.650316108039728\n"
     ]
    }
   ],
   "source": [
    "print(thresholds.shape)\n",
    "print(thresholds[0:10])\n",
    "print(thresholds.min(), thresholds.max())\n",
    "print(y_scores.min(), y_scores.max())"
   ]
  },
  {
   "cell_type": "code",
   "execution_count": 43,
   "metadata": {},
   "outputs": [],
   "source": [
    "def plot_precision_recall_vs_threshold(precisions, recalls, thresholds):\n",
    "    plt.plot(thresholds, precisions[:-1], \"b--\", label=\"Precision\")\n",
    "    plt.plot(thresholds, recalls[:-1], \"g-\", label=\"Recall\")\n",
    "    plt.xlabel(\"Threshold\")\n",
    "    plt.legend(loc=\"upper left\")\n",
    "    plt.ylim([0, 1])"
   ]
  },
  {
   "cell_type": "code",
   "execution_count": 44,
   "metadata": {},
   "outputs": [
    {
     "data": {
      "image/png": "[encoded data removed]",
      "text/plain": [
       "<Figure size 432x288 with 1 Axes>"
      ]
     },
     "metadata": {
      "needs_background": "light"
     },
     "output_type": "display_data"
    }
   ],
   "source": [
    "plot_precision_recall_vs_threshold(precisions, recalls, thresholds)"
   ]
  },
  {
   "cell_type": "markdown",
   "metadata": {},
   "source": [
    "We can use the above plot for choosing an appropriate threshold."
   ]
  },
  {
   "cell_type": "code",
   "execution_count": 45,
   "metadata": {},
   "outputs": [
    {
     "data": {
      "image/png": "[encoded data removed]",
      "text/plain": [
       "<Figure size 432x288 with 1 Axes>"
      ]
     },
     "metadata": {
      "needs_background": "light"
     },
     "output_type": "display_data"
    }
   ],
   "source": [
    "def plot_precision_vs_recall(precisions, recalls):\n",
    "    plt.plot(recalls, precisions, \"b-\", linewidth=2)\n",
    "    plt.xlabel(\"Recall\", fontsize=16)\n",
    "    plt.ylabel(\"Precision\", fontsize=16)\n",
    "    plt.axis([0, 1, 0, 1])\n",
    "\n",
    "plot_precision_vs_recall(precisions, recalls)"
   ]
  },
  {
   "cell_type": "markdown",
   "metadata": {},
   "source": [
    "# ROC curve <a name = 'roc_curve'></a>"
   ]
  },
  {
   "cell_type": "code",
   "execution_count": 47,
   "metadata": {},
   "outputs": [],
   "source": [
    "from sklearn.metrics import roc_curve\n",
    "\n",
    "y_scores = cross_val_predict(model, X_train, y_train_5, cv=3, method=\"decision_function\")\n",
    "\n",
    "fpr, tpr, thresholds = roc_curve(y_train_5, y_scores)"
   ]
  },
  {
   "cell_type": "code",
   "execution_count": 48,
   "metadata": {},
   "outputs": [
    {
     "data": {
      "image/png": "[encoded data removed]",
      "text/plain": [
       "<Figure size 432x288 with 1 Axes>"
      ]
     },
     "metadata": {
      "needs_background": "light"
     },
     "output_type": "display_data"
    }
   ],
   "source": [
    "def plot_roc_curve(fpr, tpr, label=None):\n",
    "    plt.plot(fpr, tpr, linewidth=2, label=label)\n",
    "    plt.plot([0, 1], [0, 1], 'k--')\n",
    "    plt.axis([0, 1, 0, 1])\n",
    "    plt.xlabel('False Positive Rate', fontsize=16)\n",
    "    plt.ylabel('True Positive Rate', fontsize=16)\n",
    "\n",
    "plot_roc_curve(fpr, tpr)\n",
    "plt.show()"
   ]
  },
  {
   "cell_type": "code",
   "execution_count": 49,
   "metadata": {},
   "outputs": [
    {
     "data": {
      "text/plain": [
       "0.9701097795218113"
      ]
     },
     "execution_count": 49,
     "metadata": {},
     "output_type": "execute_result"
    }
   ],
   "source": [
    "from sklearn.metrics import roc_auc_score\n",
    "\n",
    "roc_auc_score(y_train_5, y_scores)"
   ]
  },
  {
   "cell_type": "markdown",
   "metadata": {},
   "source": [
    "### Try a more powerful classifier"
   ]
  },
  {
   "cell_type": "code",
   "execution_count": 50,
   "metadata": {},
   "outputs": [],
   "source": [
    "from sklearn.ensemble import RandomForestClassifier\n",
    "\n",
    "rf_model = RandomForestClassifier(random_state = 0)\n",
    "\n",
    "y_probas_forest = cross_val_predict(rf_model, X_train, y_train_5, cv=3, method=\"predict_proba\")"
   ]
  },
  {
   "cell_type": "code",
   "execution_count": 51,
   "metadata": {},
   "outputs": [
    {
     "data": {
      "text/plain": [
       "(60000, 2)"
      ]
     },
     "execution_count": 51,
     "metadata": {},
     "output_type": "execute_result"
    }
   ],
   "source": [
    "y_probas_forest.shape"
   ]
  },
  {
   "cell_type": "markdown",
   "metadata": {},
   "source": [
    "The predicted class of an input sample is a vote by the trees in the forest, weighted by their probability estimates. That is, the predicted class is the one with highest mean probability estimate across the trees."
   ]
  },
  {
   "cell_type": "code",
   "execution_count": 53,
   "metadata": {},
   "outputs": [
    {
     "data": {
      "text/plain": [
       "array([[0.18, 0.82],\n",
       "       [0.99, 0.01],\n",
       "       [0.96, 0.04],\n",
       "       [1.  , 0.  ],\n",
       "       [1.  , 0.  ]])"
      ]
     },
     "execution_count": 53,
     "metadata": {},
     "output_type": "execute_result"
    }
   ],
   "source": [
    "y_probas_forest[0:5,:]\n",
    "# class 0, class 1"
   ]
  },
  {
   "cell_type": "code",
   "execution_count": 54,
   "metadata": {},
   "outputs": [
    {
     "data": {
      "text/plain": [
       "array([ True, False, False, False, False])"
      ]
     },
     "execution_count": 54,
     "metadata": {},
     "output_type": "execute_result"
    }
   ],
   "source": [
    "y_train_5[:5]"
   ]
  },
  {
   "cell_type": "code",
   "execution_count": 55,
   "metadata": {},
   "outputs": [],
   "source": [
    "y_scores_forest = y_probas_forest[:, 1] # score = probability of positive class\n",
    "\n",
    "fpr_forest, tpr_forest, thresholds_forest = roc_curve(y_train_5,y_scores_forest)"
   ]
  },
  {
   "cell_type": "code",
   "execution_count": 60,
   "metadata": {},
   "outputs": [
    {
     "data": {
      "text/plain": [
       "<matplotlib.legend.Legend at 0x1921a9b2908>"
      ]
     },
     "execution_count": 60,
     "metadata": {},
     "output_type": "execute_result"
    },
    {
     "data": {
      "image/png": "[encoded data removed]",
      "text/plain": [
       "<Figure size 432x288 with 1 Axes>"
      ]
     },
     "metadata": {
      "needs_background": "light"
     },
     "output_type": "display_data"
    }
   ],
   "source": [
    "plot_roc_curve(fpr, tpr, label=\"SGD\")\n",
    "\n",
    "plot_roc_curve(fpr_forest, tpr_forest, label=\"Random Forest\")\n",
    "\n",
    "plt.legend(loc=\"lower right\", fontsize=16)"
   ]
  },
  {
   "cell_type": "code",
   "execution_count": 62,
   "metadata": {
    "scrolled": true
   },
   "outputs": [
    {
     "name": "stdout",
     "output_type": "stream",
     "text": [
      "AUC for SGD =  0.9701097795218113\n",
      "AUC for Random Forest =  0.9983139390673001\n"
     ]
    }
   ],
   "source": [
    "print(\"AUC for SGD = \", roc_auc_score(y_train_5, y_scores))\n",
    "print(\"AUC for Random Forest = \", roc_auc_score(y_train_5, y_scores_forest))"
   ]
  },
  {
   "cell_type": "markdown",
   "metadata": {},
   "source": [
    "### ROC curve for the Dumb classifier"
   ]
  },
  {
   "cell_type": "markdown",
   "metadata": {},
   "source": [
    "Let's see the dumb classifier!"
   ]
  },
  {
   "cell_type": "code",
   "execution_count": 69,
   "metadata": {},
   "outputs": [],
   "source": [
    "from sklearn.base import BaseEstimator\n",
    "from sklearn.metrics import accuracy_score\n",
    "\n",
    "class dumbClassifier(BaseEstimator):\n",
    "    \n",
    "    def fit(self, X, y=None):\n",
    "        self.classes_ = np.array([False,  True])    # --- NEW ---\n",
    "        pass\n",
    "    def predict(self, X):\n",
    "        return np.zeros((len(X), 1), dtype=bool)\n",
    "    def decision_function(self, X):                 # --- NEW ---\n",
    "        tmp = np.zeros((X.shape[0], 2))\n",
    "        tmp[:,0] = 1\n",
    "        return tmp\n",
    "    \n",
    "dumb_clf = dumbClassifier()\n",
    "\n",
    "dumb_clf.fit(X_train, y_train_5)\n",
    "\n",
    "y_scores_dumb = cross_val_predict(dumb_clf, X_train, y_train_5, cv=3, method=\"decision_function\")"
   ]
  },
  {
   "cell_type": "code",
   "execution_count": 71,
   "metadata": {},
   "outputs": [],
   "source": [
    "y_scores_dumb = y_scores_dumb[:, 1] # score = probability of positive class\n",
    "\n",
    "fpr_dumb, tpr_dumb, thresholds_dumb = roc_curve(y_train_5,y_scores_dumb)"
   ]
  },
  {
   "cell_type": "code",
   "execution_count": 72,
   "metadata": {},
   "outputs": [
    {
     "data": {
      "image/png": "[encoded data removed]",
      "text/plain": [
       "<Figure size 432x288 with 1 Axes>"
      ]
     },
     "metadata": {
      "needs_background": "light"
     },
     "output_type": "display_data"
    }
   ],
   "source": [
    "plot_roc_curve(fpr_dumb, tpr_dumb, label=\"Dumb Classifier\")"
   ]
  },
  {
   "cell_type": "code",
   "execution_count": 73,
   "metadata": {
    "scrolled": false
   },
   "outputs": [
    {
     "name": "stdout",
     "output_type": "stream",
     "text": [
      "AUC for dumb classifier =  0.5\n"
     ]
    }
   ],
   "source": [
    "print(\"AUC for dumb classifier = \", roc_auc_score(y_train_5, y_scores_dumb))"
   ]
  },
  {
   "cell_type": "markdown",
   "metadata": {},
   "source": [
    "# More ..."
   ]
  },
  {
   "cell_type": "markdown",
   "metadata": {},
   "source": [
    "**Excersise: Question 1 and 2, Chapter 3 - An MNIST Classifier With Over 97% Accuracy**"
   ]
  },
  {
   "cell_type": "code",
   "execution_count": null,
   "metadata": {},
   "outputs": [],
   "source": []
  }
 ],
 "metadata": {
  "kernelspec": {
   "display_name": "Python 3 (ipykernel)",
   "language": "python",
   "name": "python3"
  },
  "language_info": {
   "codemirror_mode": {
    "name": "ipython",
    "version": 3
   },
   "file_extension": ".py",
   "mimetype": "text/x-python",
   "name": "python",
   "nbconvert_exporter": "python",
   "pygments_lexer": "ipython3",
   "version": "3.8.0"
  }
 },
 "nbformat": 4,
 "nbformat_minor": 2
}
