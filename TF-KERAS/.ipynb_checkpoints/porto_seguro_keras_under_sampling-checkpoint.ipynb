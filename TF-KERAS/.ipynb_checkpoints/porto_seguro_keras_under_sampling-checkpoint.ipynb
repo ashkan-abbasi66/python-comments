{
 "cells": [
  {
   "cell_type": "code",
   "execution_count": 1,
   "metadata": {},
   "outputs": [],
   "source": [
    "%matplotlib inline"
   ]
  },
  {
   "cell_type": "markdown",
   "metadata": {},
   "source": [
    "\n",
    "# Porto Seguro: balancing samples in mini-batches with Keras\n",
    "\n",
    "This example compares two strategies to train a neural-network on the Porto\n",
    "Seguro Kaggle data set [1]_. The data set is imbalanced and we show that\n",
    "balancing each mini-batch allows to improve performance and reduce the training\n",
    "time.\n",
    "\n",
    "## References\n",
    "\n",
    ".. [1] https://www.kaggle.com/c/porto-seguro-safe-driver-prediction/data\n"
   ]
  },
  {
   "cell_type": "code",
   "execution_count": 2,
   "metadata": {},
   "outputs": [
    {
     "name": "stdout",
     "output_type": "stream",
     "text": [
      "Automatically created module for IPython interactive environment\n"
     ]
    }
   ],
   "source": [
    "# Authors: Guillaume Lemaitre <g.lemaitre58@gmail.com>\n",
    "# License: MIT\n",
    "\n",
    "print(__doc__)"
   ]
  },
  {
   "cell_type": "markdown",
   "metadata": {},
   "source": [
    "### Data loading\n",
    "\n"
   ]
  },
  {
   "cell_type": "code",
   "execution_count": 3,
   "metadata": {},
   "outputs": [],
   "source": [
    "from collections import Counter\n",
    "import pandas as pd\n",
    "import numpy as np\n",
    "\n",
    "import os"
   ]
  },
  {
   "cell_type": "markdown",
   "metadata": {},
   "source": [
    "First, you should download the Porto Seguro data set from Kaggle. See the\n",
    "link in the introduction.\n",
    "\n"
   ]
  },
  {
   "cell_type": "code",
   "execution_count": 4,
   "metadata": {},
   "outputs": [],
   "source": [
    "dataset_path = r'C:\\Users\\abbasi\\POSTDOC\\PYTHON_CODES\\DATASETS\\kaggle_porto_seguro_safe_driver_prediction'\n",
    "\n",
    "training_data = pd.read_csv(os.path.join(dataset_path,\"train.csv\"))\n",
    "testing_data = pd.read_csv(os.path.join(dataset_path, \"test.csv\"))\n",
    "\n",
    "y_train = training_data[[\"id\", \"target\"]].set_index(\"id\")\n",
    "X_train = training_data.drop([\"target\"], axis=1).set_index(\"id\")\n",
    "X_test = testing_data.set_index(\"id\")"
   ]
  },
  {
   "cell_type": "markdown",
   "metadata": {},
   "source": [
    "The data set is imbalanced and it will have an effect on the fitting.\n",
    "\n"
   ]
  },
  {
   "cell_type": "code",
   "execution_count": 5,
   "metadata": {},
   "outputs": [
    {
     "name": "stdout",
     "output_type": "stream",
     "text": [
      "The data set is imbalanced: Counter({0: 573518, 1: 21694})\n",
      "imbalance ratio=26.44\n"
     ]
    }
   ],
   "source": [
    "print(f\"The data set is imbalanced: {Counter(y_train['target'])}\")\n",
    "print(\"imbalance ratio=%.2f\"%(np.sum(y_train['target']==0)/np.sum(y_train['target']==1)))"
   ]
  },
  {
   "cell_type": "markdown",
   "metadata": {},
   "source": [
    "### Define the pre-processing pipeline\n",
    "\n"
   ]
  },
  {
   "cell_type": "code",
   "execution_count": 6,
   "metadata": {},
   "outputs": [],
   "source": [
    "from sklearn.compose import ColumnTransformer\n",
    "from sklearn.pipeline import make_pipeline\n",
    "from sklearn.preprocessing import OneHotEncoder\n",
    "from sklearn.preprocessing import StandardScaler\n",
    "from sklearn.preprocessing import FunctionTransformer\n",
    "from sklearn.impute import SimpleImputer\n",
    "\n",
    "\n",
    "def convert_float64(X):\n",
    "    return X.astype(np.float64)"
   ]
  },
  {
   "cell_type": "markdown",
   "metadata": {},
   "source": [
    "We want to standard scale the numerical features while we want to one-hot\n",
    "encode the categorical features. In this regard, we make use of the\n",
    ":class:`~sklearn.compose.ColumnTransformer`.\n",
    "\n"
   ]
  },
  {
   "cell_type": "code",
   "execution_count": 7,
   "metadata": {},
   "outputs": [],
   "source": [
    "numerical_columns = [\n",
    "    name for name in X_train.columns if \"_calc_\" in name and \"_bin\" not in name\n",
    "]\n",
    "numerical_pipeline = make_pipeline(\n",
    "    FunctionTransformer(func=convert_float64, validate=False), StandardScaler()\n",
    ")\n",
    "\n",
    "categorical_columns = [name for name in X_train.columns if \"_cat\" in name]\n",
    "categorical_pipeline = make_pipeline(\n",
    "    SimpleImputer(missing_values=-1, strategy=\"most_frequent\"),\n",
    "    OneHotEncoder(categories=\"auto\"),\n",
    ")\n",
    "\n",
    "preprocessor = ColumnTransformer(\n",
    "    [\n",
    "        (\"numerical_preprocessing\", numerical_pipeline, numerical_columns),\n",
    "        (\n",
    "            \"categorical_preprocessing\",\n",
    "            categorical_pipeline,\n",
    "            categorical_columns,\n",
    "        ),\n",
    "    ],\n",
    "    remainder=\"drop\",\n",
    ")\n",
    "\n",
    "# Create an environment variable to avoid using the GPU. This can be changed.\n",
    "import os\n",
    "\n",
    "os.environ[\"CUDA_VISIBLE_DEVICES\"] = \"-1\""
   ]
  },
  {
   "cell_type": "markdown",
   "metadata": {},
   "source": [
    "### Create a neural-network\n",
    "\n"
   ]
  },
  {
   "cell_type": "code",
   "execution_count": 8,
   "metadata": {},
   "outputs": [],
   "source": [
    "from tensorflow.keras.models import Sequential\n",
    "from tensorflow.keras.layers import (\n",
    "    Activation,\n",
    "    Dense,\n",
    "    Dropout,\n",
    "    BatchNormalization,\n",
    ")\n",
    "\n",
    "\n",
    "def make_model(n_features):\n",
    "    model = Sequential()\n",
    "    model.add(Dense(200, input_shape=(n_features,), kernel_initializer=\"glorot_normal\"))\n",
    "    model.add(BatchNormalization())\n",
    "    model.add(Activation(\"relu\"))\n",
    "    model.add(Dropout(0.5))\n",
    "    model.add(Dense(100, kernel_initializer=\"glorot_normal\", use_bias=False))\n",
    "    model.add(BatchNormalization())\n",
    "    model.add(Activation(\"relu\"))\n",
    "    model.add(Dropout(0.25))\n",
    "    model.add(Dense(50, kernel_initializer=\"glorot_normal\", use_bias=False))\n",
    "    model.add(BatchNormalization())\n",
    "    model.add(Activation(\"relu\"))\n",
    "    model.add(Dropout(0.15))\n",
    "    model.add(Dense(25, kernel_initializer=\"glorot_normal\", use_bias=False))\n",
    "    model.add(BatchNormalization())\n",
    "    model.add(Activation(\"relu\"))\n",
    "    model.add(Dropout(0.1))\n",
    "    model.add(Dense(1, activation=\"sigmoid\"))\n",
    "\n",
    "    model.compile(loss=\"binary_crossentropy\", optimizer=\"adam\", metrics=[\"accuracy\"])\n",
    "\n",
    "    return model"
   ]
  },
  {
   "cell_type": "markdown",
   "metadata": {},
   "source": [
    "We create a decorator to report the computation time\n",
    "\n"
   ]
  },
  {
   "cell_type": "code",
   "execution_count": 9,
   "metadata": {},
   "outputs": [],
   "source": [
    "import time\n",
    "from functools import wraps\n",
    "\n",
    "\n",
    "def timeit(f):\n",
    "    @wraps(f)\n",
    "    def wrapper(*args, **kwds):\n",
    "        start_time = time.time()\n",
    "        result = f(*args, **kwds)\n",
    "        elapsed_time = time.time() - start_time\n",
    "        print(f\"Elapsed computation time: {elapsed_time:.3f} secs\")\n",
    "        return (elapsed_time, result)\n",
    "\n",
    "    return wrapper"
   ]
  },
  {
   "cell_type": "markdown",
   "metadata": {},
   "source": [
    "The first model will be trained using the ``fit`` method and with imbalanced\n",
    "mini-batches.\n",
    "\n"
   ]
  },
  {
   "cell_type": "code",
   "execution_count": 10,
   "metadata": {},
   "outputs": [],
   "source": [
    "from sklearn.metrics import roc_auc_score\n",
    "\n",
    "\n",
    "@timeit\n",
    "def fit_predict_imbalanced_model(X_train, y_train, X_test, y_test):\n",
    "    model = make_model(X_train.shape[1])\n",
    "    model.fit(X_train, y_train, epochs=2, verbose=1, batch_size=1000)\n",
    "    y_pred = model.predict_proba(X_test, batch_size=1000)\n",
    "    return roc_auc_score(y_test, y_pred)"
   ]
  },
  {
   "cell_type": "markdown",
   "metadata": {},
   "source": [
    "In the contrary, we will use imbalanced-learn to create a generator of\n",
    "mini-batches which will yield balanced mini-batches.\n",
    "\n"
   ]
  },
  {
   "cell_type": "code",
   "execution_count": 11,
   "metadata": {},
   "outputs": [],
   "source": [
    "from imblearn.keras import BalancedBatchGenerator\n",
    "\n",
    "\n",
    "@timeit\n",
    "def fit_predict_balanced_model(X_train, y_train, X_test, y_test):\n",
    "    model = make_model(X_train.shape[1])\n",
    "    training_generator = BalancedBatchGenerator(\n",
    "        X_train, y_train, batch_size=1000, random_state=42\n",
    "    )\n",
    "    model.fit(training_generator, epochs=5, verbose=1)\n",
    "    y_pred = model.predict(X_test, batch_size=1000)\n",
    "    return roc_auc_score(y_test, y_pred)"
   ]
  },
  {
   "cell_type": "markdown",
   "metadata": {},
   "source": [
    "### Classification loop\n",
    "\n"
   ]
  },
  {
   "cell_type": "markdown",
   "metadata": {},
   "source": [
    "We will perform a 10-fold cross-validation and train the neural-network with\n",
    "the two different strategies previously presented.\n",
    "\n"
   ]
  },
  {
   "cell_type": "code",
   "execution_count": null,
   "metadata": {},
   "outputs": [
    {
     "name": "stdout",
     "output_type": "stream",
     "text": [
      "Epoch 1/2\n"
     ]
    },
    {
     "name": "stderr",
     "output_type": "stream",
     "text": [
      "C:\\Users\\abbasi\\Miniconda3\\envs\\py38tf25\\lib\\site-packages\\tensorflow\\python\\framework\\indexed_slices.py:447: UserWarning: Converting sparse IndexedSlices(IndexedSlices(indices=Tensor(\"gradient_tape/sequential_2/dense_10/embedding_lookup_sparse/Reshape_1:0\", shape=(None,), dtype=int32), values=Tensor(\"gradient_tape/sequential_2/dense_10/embedding_lookup_sparse/Reshape:0\", shape=(None, 200), dtype=float32), dense_shape=Tensor(\"gradient_tape/sequential_2/dense_10/embedding_lookup_sparse/Cast:0\", shape=(2,), dtype=int32))) to a dense Tensor of unknown shape. This may consume a large amount of memory.\n",
      "  warnings.warn(\n"
     ]
    },
    {
     "name": "stdout",
     "output_type": "stream",
     "text": [
      "536/536 [==============================] - 20s 34ms/step - loss: 0.2984 - accuracy: 0.8960\n",
      "Epoch 2/2\n",
      " 19/536 [>.............................] - ETA: 19s - loss: 0.1596 - accuracy: 0.9654"
     ]
    }
   ],
   "source": [
    "from sklearn.model_selection import StratifiedKFold\n",
    "\n",
    "skf = StratifiedKFold(n_splits=10)\n",
    "\n",
    "cv_results_imbalanced = []\n",
    "cv_time_imbalanced = []\n",
    "cv_results_balanced = []\n",
    "cv_time_balanced = []\n",
    "for train_idx, valid_idx in skf.split(X_train, y_train):\n",
    "    X_local_train = preprocessor.fit_transform(X_train.iloc[train_idx])\n",
    "    y_local_train = y_train.iloc[train_idx].values.ravel()\n",
    "    X_local_test = preprocessor.transform(X_train.iloc[valid_idx])\n",
    "    y_local_test = y_train.iloc[valid_idx].values.ravel()\n",
    "\n",
    "    elapsed_time, roc_auc = fit_predict_imbalanced_model(\n",
    "        X_local_train, y_local_train, X_local_test, y_local_test\n",
    "    )\n",
    "    cv_time_imbalanced.append(elapsed_time)\n",
    "    cv_results_imbalanced.append(roc_auc)\n",
    "    \n",
    "    X_local_train = preprocessor.fit_transform(X_train.iloc[train_idx])\n",
    "    y_local_train = y_train.iloc[train_idx].values.ravel()\n",
    "    X_local_test = preprocessor.transform(X_train.iloc[valid_idx])\n",
    "    y_local_test = y_train.iloc[valid_idx].values.ravel()\n",
    "\n",
    "    elapsed_time, roc_auc = fit_predict_balanced_model(\n",
    "        X_local_train, y_local_train, X_local_test, y_local_test\n",
    "    )\n",
    "    cv_time_balanced.append(elapsed_time)\n",
    "    cv_results_balanced.append(roc_auc)"
   ]
  },
  {
   "cell_type": "markdown",
   "metadata": {},
   "source": [
    "### Plot of the results and computation time\n",
    "\n"
   ]
  },
  {
   "cell_type": "code",
   "execution_count": null,
   "metadata": {},
   "outputs": [],
   "source": [
    "df_results = pd.DataFrame(\n",
    "    {\n",
    "        \"Balanced model\": cv_results_balanced,\n",
    "        \"Imbalanced model\": cv_results_imbalanced,\n",
    "    }\n",
    ")\n",
    "df_results = df_results.unstack().reset_index()\n",
    "\n",
    "df_time = pd.DataFrame(\n",
    "    {\"Balanced model\": cv_time_balanced, \"Imbalanced model\": cv_time_imbalanced}\n",
    ")\n",
    "df_time = df_time.unstack().reset_index()\n",
    "\n",
    "import seaborn as sns\n",
    "import matplotlib.pyplot as plt\n",
    "\n",
    "plt.figure()\n",
    "sns.boxplot(y=\"level_0\", x=0, data=df_time)\n",
    "sns.despine(top=True, right=True, left=True)\n",
    "plt.xlabel(\"time [s]\")\n",
    "plt.ylabel(\"\")\n",
    "plt.title(\"Computation time difference using a random under-sampling\")\n",
    "\n",
    "plt.figure()\n",
    "sns.boxplot(y=\"level_0\", x=0, data=df_results, whis=10.0)\n",
    "sns.despine(top=True, right=True, left=True)\n",
    "ax = plt.gca()\n",
    "ax.xaxis.set_major_formatter(plt.FuncFormatter(lambda x, pos: \"%i%%\" % (100 * x)))\n",
    "plt.xlabel(\"ROC-AUC\")\n",
    "plt.ylabel(\"\")\n",
    "plt.title(\"Difference in terms of ROC-AUC using a random under-sampling\")"
   ]
  },
  {
   "cell_type": "code",
   "execution_count": null,
   "metadata": {},
   "outputs": [],
   "source": []
  }
 ],
 "metadata": {
  "kernelspec": {
   "display_name": "Python 3 (ipykernel)",
   "language": "python",
   "name": "python3"
  },
  "language_info": {
   "codemirror_mode": {
    "name": "ipython",
    "version": 3
   },
   "file_extension": ".py",
   "mimetype": "text/x-python",
   "name": "python",
   "nbconvert_exporter": "python",
   "pygments_lexer": "ipython3",
   "version": "3.8.13"
  }
 },
 "nbformat": 4,
 "nbformat_minor": 1
}
