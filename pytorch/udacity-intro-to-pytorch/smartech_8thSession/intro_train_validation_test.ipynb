{
 "cells": [
  {
   "cell_type": "markdown",
   "id": "d623552f",
   "metadata": {},
   "source": [
    "Goal: train - test - validation"
   ]
  },
  {
   "cell_type": "markdown",
   "id": "b7872225",
   "metadata": {},
   "source": [
    "# Prepare Datasets"
   ]
  },
  {
   "cell_type": "code",
   "execution_count": 5,
   "id": "0227960a",
   "metadata": {},
   "outputs": [],
   "source": [
    "import torch\n",
    "from torchvision import datasets, transforms\n",
    "\n",
    "transform = transforms.Compose([\n",
    "    transforms.ToTensor(),\n",
    "    transforms.Normalize((0.5), (0.5)) # RGB (0.5,0.5,0.5)\n",
    "])\n",
    "\n"
   ]
  },
  {
   "cell_type": "code",
   "execution_count": 6,
   "id": "b7644d53",
   "metadata": {},
   "outputs": [
    {
     "name": "stdout",
     "output_type": "stream",
     "text": [
      "60000\n"
     ]
    }
   ],
   "source": [
    "trainset = datasets.FashionMNIST(root='~/.pytorch/F_MNIST_data', download = True, train = True, transform = transform)\n",
    "\n",
    "print(len(trainset))"
   ]
  },
  {
   "cell_type": "code",
   "execution_count": 7,
   "id": "ba452331",
   "metadata": {},
   "outputs": [],
   "source": [
    "N_train = 55000\n",
    "N_valid = 5000\n",
    "\n",
    "trainset, validset = torch.utils.data.random_split(trainset, [N_train, N_valid])\n",
    "\n",
    "testset = datasets.FashionMNIST(root='~/.pytorch/F_MNIST_data', download = True, train = False, transform = transform)"
   ]
  },
  {
   "cell_type": "code",
   "execution_count": 9,
   "id": "2d73ddb2",
   "metadata": {},
   "outputs": [
    {
     "name": "stdout",
     "output_type": "stream",
     "text": [
      "55000\n",
      "5000\n",
      "10000\n"
     ]
    }
   ],
   "source": [
    "print(len(trainset))\n",
    "print(len(validset))\n",
    "print(len(testset))"
   ]
  },
  {
   "cell_type": "code",
   "execution_count": 10,
   "id": "18bc9de9",
   "metadata": {},
   "outputs": [],
   "source": [
    "bs = 64\n",
    "\n",
    "trainloader = torch.utils.data.DataLoader(trainset, batch_size = bs, shuffle=True)\n",
    "validloader = torch.utils.data.DataLoader(validset, batch_size = bs, shuffle=False)\n",
    "testloader = torch.utils.data.DataLoader(testset, batch_size = bs, shuffle=False)"
   ]
  },
  {
   "cell_type": "code",
   "execution_count": 11,
   "id": "44d81922",
   "metadata": {
    "scrolled": true
   },
   "outputs": [
    {
     "name": "stdout",
     "output_type": "stream",
     "text": [
      "860\n"
     ]
    }
   ],
   "source": [
    "print(len(trainloader)) # num. of batches"
   ]
  },
  {
   "cell_type": "code",
   "execution_count": 12,
   "id": "f71ae56f",
   "metadata": {},
   "outputs": [
    {
     "name": "stdout",
     "output_type": "stream",
     "text": [
      "55000\n"
     ]
    }
   ],
   "source": [
    "print(len(trainloader.dataset)) # num. of samples"
   ]
  },
  {
   "cell_type": "markdown",
   "id": "9dc5b5c9",
   "metadata": {},
   "source": [
    "# Build Model"
   ]
  },
  {
   "cell_type": "code",
   "execution_count": 14,
   "id": "ccadd5eb",
   "metadata": {},
   "outputs": [],
   "source": [
    "from torch import nn, optim\n",
    "import torch.nn.functional as F"
   ]
  },
  {
   "cell_type": "code",
   "execution_count": 15,
   "id": "63ddad81",
   "metadata": {},
   "outputs": [],
   "source": [
    "class Classifier(nn.Module):\n",
    "    def __init__(self):\n",
    "        super().__init__()\n",
    "        self.fc1 = nn.Linear(784, 256)\n",
    "        self.fc2 = nn.Linear(256, 128)\n",
    "        self.fc3 = nn.Linear(128, 64)\n",
    "        self.fc4 = nn.Linear(64, 10)\n",
    "    \n",
    "    def forward(self, x):\n",
    "        x = x.view(x.shape[0], -1)\n",
    "        \n",
    "        x = F.relu(self.fc1(x))\n",
    "        x = F.relu(self.fc2(x))\n",
    "        x = F.relu(self.fc3(x))\n",
    "        x = self.fc4(x) # logits ===> CrossEntropyLoss\n",
    "        \n",
    "        x = F.log_softmax(x, dim=1)\n",
    "        \n",
    "        return x"
   ]
  },
  {
   "cell_type": "code",
   "execution_count": 16,
   "id": "eb246471",
   "metadata": {},
   "outputs": [],
   "source": [
    "model = Classifier()"
   ]
  },
  {
   "cell_type": "code",
   "execution_count": 17,
   "id": "8ee8793a",
   "metadata": {},
   "outputs": [
    {
     "name": "stdout",
     "output_type": "stream",
     "text": [
      "cuda\n"
     ]
    }
   ],
   "source": [
    "if torch.cuda.is_available():\n",
    "    my_device = torch.device('cuda')\n",
    "else:\n",
    "    my_device = torch.device('cpu')\n",
    "print(my_device)"
   ]
  },
  {
   "cell_type": "code",
   "execution_count": 18,
   "id": "4d3769db",
   "metadata": {},
   "outputs": [
    {
     "data": {
      "text/plain": [
       "Classifier(\n",
       "  (fc1): Linear(in_features=784, out_features=256, bias=True)\n",
       "  (fc2): Linear(in_features=256, out_features=128, bias=True)\n",
       "  (fc3): Linear(in_features=128, out_features=64, bias=True)\n",
       "  (fc4): Linear(in_features=64, out_features=10, bias=True)\n",
       ")"
      ]
     },
     "execution_count": 18,
     "metadata": {},
     "output_type": "execute_result"
    }
   ],
   "source": [
    "model.to(my_device)"
   ]
  },
  {
   "cell_type": "code",
   "execution_count": 19,
   "id": "e602f40b",
   "metadata": {},
   "outputs": [],
   "source": [
    "criterion = nn.NLLLoss()"
   ]
  },
  {
   "cell_type": "code",
   "execution_count": 20,
   "id": "35f63c12",
   "metadata": {},
   "outputs": [],
   "source": [
    "optimizer = optim.Adam(model.parameters(), lr = 0.003) # for each param, it holds one learning rate. "
   ]
  },
  {
   "cell_type": "markdown",
   "id": "d7b097a6",
   "metadata": {},
   "source": [
    "# Train netwrok"
   ]
  },
  {
   "cell_type": "code",
   "execution_count": 21,
   "id": "6569c56e",
   "metadata": {},
   "outputs": [],
   "source": [
    "def train_loop(trainloader, model, criterion, optimizer):\n",
    "    \n",
    "    running_loss = 0\n",
    "    \n",
    "    for images, labels in trainloader:\n",
    "        \n",
    "        images = images.to(my_device)\n",
    "        labels = labels.to(my_device)\n",
    "        \n",
    "        optimizer.zero_grad()\n",
    "        \n",
    "        log_ps = model(images) # ps = torch.exp(log_ps)\n",
    "        \n",
    "        loss = criterion(log_ps, labels)\n",
    "        \n",
    "        running_loss += loss.item()*images.shape[0]\n",
    "        \n",
    "        loss.backward()\n",
    "        \n",
    "        optimizer.step()\n",
    "    \n",
    "    train_loss = running_loss / len(trainloader.dataset)\n",
    "    \n",
    "    return train_loss"
   ]
  },
  {
   "cell_type": "code",
   "execution_count": 22,
   "id": "63668681",
   "metadata": {},
   "outputs": [],
   "source": [
    "def test_loop(testloader, model, criterion):\n",
    "    running_loss = 0\n",
    "    \n",
    "    test_correct = 0 # number of correct predictions\n",
    "    \n",
    "    with torch.no_grad():\n",
    "        for images, labels in testloader:\n",
    "            \n",
    "            images = images.to(my_device)\n",
    "            labels = labels.to(my_device)\n",
    "            \n",
    "            log_ps = model(images) # ps = torch.exp(log_ps)\n",
    "            \n",
    "            loss = criterion(log_ps, labels)\n",
    "            \n",
    "            running_loss += loss.item()*images.shape[0]\n",
    "            \n",
    "            # compute accuracy\n",
    "            ps = torch.exp(log_ps) # probabilities for each class\n",
    "            top_p, top_class = ps.topk(1, dim=1)\n",
    "            \n",
    "            equals = top_class == labels.view(*top_class.shape) # labels ==> [64,]  64*1\n",
    "            \n",
    "            test_correct += equals.sum().item()\n",
    "    \n",
    "    test_loss = running_loss / len(testloader.dataset)\n",
    "    test_acc = test_correct / len(testloader.dataset)\n",
    "    \n",
    "    return test_loss, test_acc"
   ]
  },
  {
   "cell_type": "code",
   "execution_count": 23,
   "id": "55bac560",
   "metadata": {
    "scrolled": true
   },
   "outputs": [
    {
     "name": "stdout",
     "output_type": "stream",
     "text": [
      "Epoch: 1/10 .. Training loss: 0.525 ..  Valid loss: 0.445 ..  Valid Accuracy: 0.832 .. \n",
      "Epoch: 2/10 .. Training loss: 0.393 ..  Valid loss: 0.411 ..  Valid Accuracy: 0.851 .. \n",
      "Epoch: 3/10 .. Training loss: 0.357 ..  Valid loss: 0.389 ..  Valid Accuracy: 0.866 .. \n",
      "Epoch: 4/10 .. Training loss: 0.336 ..  Valid loss: 0.364 ..  Valid Accuracy: 0.876 .. \n",
      "Epoch: 5/10 .. Training loss: 0.320 ..  Valid loss: 0.348 ..  Valid Accuracy: 0.874 .. \n",
      "Epoch: 6/10 .. Training loss: 0.307 ..  Valid loss: 0.350 ..  Valid Accuracy: 0.875 .. \n",
      "Epoch: 7/10 .. Training loss: 0.295 ..  Valid loss: 0.341 ..  Valid Accuracy: 0.883 .. \n",
      "Epoch: 8/10 .. Training loss: 0.285 ..  Valid loss: 0.343 ..  Valid Accuracy: 0.883 .. \n",
      "Epoch: 9/10 .. Training loss: 0.276 ..  Valid loss: 0.375 ..  Valid Accuracy: 0.872 .. \n",
      "Epoch: 10/10 .. Training loss: 0.268 ..  Valid loss: 0.355 ..  Valid Accuracy: 0.883 .. \n"
     ]
    }
   ],
   "source": [
    "epochs = 10 # epochs = 60 \n",
    "\n",
    "train_losses, valid_losses = [], []\n",
    "\n",
    "for e in range(epochs):\n",
    "    train_loss = train_loop(trainloader, model, criterion, optimizer)\n",
    "    \n",
    "    # validation\n",
    "    valid_loss, valid_acc = test_loop(validloader, model, criterion)\n",
    "    \n",
    "    train_losses.append(train_loss)\n",
    "    valid_losses.append(valid_loss)\n",
    "    \n",
    "    print(\"Epoch: {}/{} ..\".format(e + 1, epochs), \n",
    "          \"Training loss: {:.3f} .. \".format(train_loss),\n",
    "          \"Valid loss: {:.3f} .. \".format(valid_loss),\n",
    "          \"Valid Accuracy: {:.3f} .. \".format(valid_acc),\n",
    "         )"
   ]
  },
  {
   "cell_type": "markdown",
   "id": "184d2e94",
   "metadata": {},
   "source": [
    "**Expected accuracy on validation set after around 60 epochs = 0.885**"
   ]
  },
  {
   "cell_type": "code",
   "execution_count": 24,
   "id": "80a91b92",
   "metadata": {},
   "outputs": [],
   "source": [
    "import matplotlib.pyplot as plt"
   ]
  },
  {
   "cell_type": "code",
   "execution_count": 25,
   "id": "a3445c67",
   "metadata": {
    "scrolled": true
   },
   "outputs": [
    {
     "data": {
      "text/plain": [
       "[<matplotlib.lines.Line2D at 0x2442df3a280>]"
      ]
     },
     "execution_count": 25,
     "metadata": {},
     "output_type": "execute_result"
    },
    {
     "data": {
      "image/png": "[encoded data removed]",
      "text/plain": [
       "<Figure size 432x288 with 1 Axes>"
      ]
     },
     "metadata": {
      "needs_background": "light"
     },
     "output_type": "display_data"
    }
   ],
   "source": [
    "plt.plot(train_losses, label = \"Training loss\")\n",
    "plt.plot(valid_losses, label = \"Validation loss\")\n"
   ]
  },
  {
   "cell_type": "markdown",
   "id": "c7bd109c",
   "metadata": {},
   "source": [
    "# Reduce overfitting through Early Stopping and Dropout"
   ]
  },
  {
   "cell_type": "markdown",
   "id": "f5c12479",
   "metadata": {},
   "source": [
    "Example:\n",
    "\n",
    "Effect of dropout's hyper-parameter on the performance.\n",
    "\n",
    "https://medium.com/@amarbudhiraja/https-medium-com-amarbudhiraja-learning-less-to-learn-better-dropout-in-deep-machine-learning-74334da4bfc5"
   ]
  },
  {
   "cell_type": "code",
   "execution_count": 26,
   "id": "8f4c5df5",
   "metadata": {},
   "outputs": [],
   "source": [
    "class ClassifierWithDropout(nn.Module):\n",
    "    def __init__(self):\n",
    "        super().__init__()\n",
    "        self.fc1 = nn.Linear(784, 256)\n",
    "        self.fc2 = nn.Linear(256, 128)\n",
    "        self.fc3 = nn.Linear(128, 64)\n",
    "        self.fc4 = nn.Linear(64, 10)\n",
    "        \n",
    "        self.dropout = nn.Dropout(p = 0.2) # hyper-parameter\n",
    "    \n",
    "    def forward(self, x):\n",
    "        x = x.view(x.shape[0], -1)\n",
    "        \n",
    "        x = self.dropout(F.relu(self.fc1(x)))\n",
    "        x = self.dropout(F.relu(self.fc2(x)))\n",
    "        x = self.dropout(F.relu(self.fc3(x)))\n",
    "        \n",
    "        x = self.fc4(x) \n",
    "        \n",
    "        x = F.log_softmax(x, dim=1)\n",
    "        \n",
    "        return x"
   ]
  },
  {
   "cell_type": "code",
   "execution_count": 27,
   "id": "9843d831",
   "metadata": {},
   "outputs": [],
   "source": [
    "model2 = ClassifierWithDropout()"
   ]
  },
  {
   "cell_type": "code",
   "execution_count": 28,
   "id": "045d2b07",
   "metadata": {},
   "outputs": [
    {
     "data": {
      "text/plain": [
       "ClassifierWithDropout(\n",
       "  (fc1): Linear(in_features=784, out_features=256, bias=True)\n",
       "  (fc2): Linear(in_features=256, out_features=128, bias=True)\n",
       "  (fc3): Linear(in_features=128, out_features=64, bias=True)\n",
       "  (fc4): Linear(in_features=64, out_features=10, bias=True)\n",
       "  (dropout): Dropout(p=0.2, inplace=False)\n",
       ")"
      ]
     },
     "execution_count": 28,
     "metadata": {},
     "output_type": "execute_result"
    }
   ],
   "source": [
    "model2.to(my_device)"
   ]
  },
  {
   "cell_type": "markdown",
   "id": "40db4b1e",
   "metadata": {},
   "source": [
    "## train the second model"
   ]
  },
  {
   "cell_type": "code",
   "execution_count": 29,
   "id": "67f29f47",
   "metadata": {},
   "outputs": [],
   "source": [
    "def test_loop_2(testloader, model, criterion):\n",
    "    running_loss = 0\n",
    "    \n",
    "    test_correct = 0 # number of correct predictions\n",
    "    \n",
    "    # dropout layer is deactivated.\n",
    "    model.eval()\n",
    "    \n",
    "    with torch.no_grad():\n",
    "        for images, labels in testloader:\n",
    "            \n",
    "            images = images.to(my_device)\n",
    "            labels = labels.to(my_device)\n",
    "            \n",
    "            log_ps = model(images) # ps = torch.exp(log_ps)\n",
    "            \n",
    "            loss = criterion(log_ps, labels)\n",
    "            \n",
    "            running_loss += loss.item()*images.shape[0]\n",
    "            \n",
    "            # compute accuracy\n",
    "            ps = torch.exp(log_ps) # probabilities for each class\n",
    "            top_p, top_class = ps.topk(1, dim=1)\n",
    "            \n",
    "            equals = top_class == labels.view(*top_class.shape) # labels ==> [64,]  64*1\n",
    "            \n",
    "            test_correct += equals.sum().item()\n",
    "    \n",
    "    # activate dropout layer\n",
    "    model.train()\n",
    "    \n",
    "    test_loss = running_loss / len(testloader.dataset)\n",
    "    test_acc = test_correct / len(testloader.dataset)\n",
    "    \n",
    "    return test_loss, test_acc"
   ]
  },
  {
   "cell_type": "code",
   "execution_count": 31,
   "id": "f3214bbb",
   "metadata": {},
   "outputs": [],
   "source": [
    "criterion = nn.NLLLoss()\n",
    "optimizer = optim.Adam(model2.parameters(), lr = 0.003) "
   ]
  },
  {
   "cell_type": "code",
   "execution_count": 32,
   "id": "80353b04",
   "metadata": {},
   "outputs": [
    {
     "name": "stdout",
     "output_type": "stream",
     "text": [
      "Epoch: 1/10 .. Training loss: 0.616 ..  Valid loss: 0.458 ..  Valid Accuracy: 0.835 .. \n",
      "Epoch: 2/10 .. Training loss: 0.483 ..  Valid loss: 0.425 ..  Valid Accuracy: 0.843 .. \n",
      "Epoch: 3/10 .. Training loss: 0.452 ..  Valid loss: 0.419 ..  Valid Accuracy: 0.846 .. \n",
      "Epoch: 4/10 .. Training loss: 0.432 ..  Valid loss: 0.391 ..  Valid Accuracy: 0.869 .. \n",
      "Epoch: 5/10 .. Training loss: 0.419 ..  Valid loss: 0.377 ..  Valid Accuracy: 0.863 .. \n",
      "Epoch: 6/10 .. Training loss: 0.404 ..  Valid loss: 0.369 ..  Valid Accuracy: 0.866 .. \n",
      "Epoch: 7/10 .. Training loss: 0.405 ..  Valid loss: 0.383 ..  Valid Accuracy: 0.860 .. \n",
      "Epoch: 8/10 .. Training loss: 0.399 ..  Valid loss: 0.399 ..  Valid Accuracy: 0.851 .. \n",
      "Epoch: 9/10 .. Training loss: 0.394 ..  Valid loss: 0.354 ..  Valid Accuracy: 0.876 .. \n",
      "Epoch: 10/10 .. Training loss: 0.383 ..  Valid loss: 0.367 ..  Valid Accuracy: 0.872 .. \n"
     ]
    }
   ],
   "source": [
    "epochs = 10 # epochs = 60 \n",
    "\n",
    "train_losses, valid_losses = [], []\n",
    "\n",
    "for e in range(epochs):\n",
    "    train_loss = train_loop(trainloader, model2, criterion, optimizer)\n",
    "    \n",
    "    # validation\n",
    "    valid_loss, valid_acc = test_loop_2(validloader, model2, criterion)\n",
    "    \n",
    "    train_losses.append(train_loss)\n",
    "    valid_losses.append(valid_loss)\n",
    "    \n",
    "    print(\"Epoch: {}/{} ..\".format(e + 1, epochs), \n",
    "          \"Training loss: {:.3f} .. \".format(train_loss),\n",
    "          \"Valid loss: {:.3f} .. \".format(valid_loss),\n",
    "          \"Valid Accuracy: {:.3f} .. \".format(valid_acc),\n",
    "         )"
   ]
  },
  {
   "cell_type": "code",
   "execution_count": 33,
   "id": "414e1577",
   "metadata": {},
   "outputs": [
    {
     "data": {
      "text/plain": [
       "[<matplotlib.lines.Line2D at 0x2441d548280>]"
      ]
     },
     "execution_count": 33,
     "metadata": {},
     "output_type": "execute_result"
    },
    {
     "data": {
      "image/png": "[encoded data removed]",
      "text/plain": [
       "<Figure size 432x288 with 1 Axes>"
      ]
     },
     "metadata": {
      "needs_background": "light"
     },
     "output_type": "display_data"
    }
   ],
   "source": [
    "plt.plot(train_losses, label = \"Training loss\")\n",
    "plt.plot(valid_losses, label = \"Validation loss\")"
   ]
  },
  {
   "cell_type": "markdown",
   "id": "35e6b5b8",
   "metadata": {},
   "source": [
    "# Inference / Prediction on test set"
   ]
  },
  {
   "cell_type": "code",
   "execution_count": 34,
   "id": "3d8d6075",
   "metadata": {},
   "outputs": [
    {
     "name": "stdout",
     "output_type": "stream",
     "text": [
      "Our model's performance on test set\n",
      "Test loss: 0.386 ..  Test accuracy: 0.869\n"
     ]
    }
   ],
   "source": [
    "test_loss, test_acc = test_loop_2(testloader, model2, criterion)\n",
    "\n",
    "print(\"Our model's performance on test set\")\n",
    "print(\"Test loss: {:.3} .. \".format(test_loss), \"Test accuracy: {:.3f}\".format(test_acc))"
   ]
  },
  {
   "cell_type": "code",
   "execution_count": 35,
   "id": "a6e18f73",
   "metadata": {},
   "outputs": [
    {
     "name": "stdout",
     "output_type": "stream",
     "text": [
      "Our first model's performance on test set\n",
      "Test loss: 0.459 ..  Test accuracy: 0.855\n"
     ]
    }
   ],
   "source": [
    "test_loss, test_acc = test_loop_2(testloader, model, criterion)\n",
    "\n",
    "print(\"Our first model's performance on test set\")\n",
    "print(\"Test loss: {:.3} .. \".format(test_loss), \"Test accuracy: {:.3f}\".format(test_acc))"
   ]
  },
  {
   "cell_type": "code",
   "execution_count": null,
   "id": "42340aff",
   "metadata": {},
   "outputs": [],
   "source": []
  }
 ],
 "metadata": {
  "kernelspec": {
   "display_name": "Python 3 (ipykernel)",
   "language": "python",
   "name": "python3"
  },
  "language_info": {
   "codemirror_mode": {
    "name": "ipython",
    "version": 3
   },
   "file_extension": ".py",
   "mimetype": "text/x-python",
   "name": "python",
   "nbconvert_exporter": "python",
   "pygments_lexer": "ipython3",
   "version": "3.8.13"
  }
 },
 "nbformat": 4,
 "nbformat_minor": 5
}
