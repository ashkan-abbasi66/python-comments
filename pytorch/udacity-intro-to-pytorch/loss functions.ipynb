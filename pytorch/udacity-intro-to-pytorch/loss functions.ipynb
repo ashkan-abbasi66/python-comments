{
 "cells": [
  {
   "cell_type": "markdown",
   "id": "95ac982b",
   "metadata": {},
   "source": [
    "# Loss functions\n",
    "\n",
    "In PyTorch, we pass the raw output of our network into the loss, not the output of the softmax function. This raw output is usually called the *logits* or *scores*. \n",
    "\n",
    "We use the logits because softmax gives you probabilities which will often be very close to zero or one but floating-point numbers can't accurately represent values near zero or one ([read more here](https://docs.python.org/3/tutorial/floatingpoint.html). It's usually best to avoid doing calculations with probabilities, typically we use log-probabilities.\n",
    "\n",
    "**Note:** In Tensorflow/Keras, we have `tf.keras.losses.CategoricalCrossentropy(from_logits=False)`. You should set `from_logits=True`, if your network's output layer includes softmax computation."
   ]
  },
  {
   "cell_type": "markdown",
   "id": "4c42307b",
   "metadata": {},
   "source": [
    "## Example of `nn.CrossEntropyLoss`\n",
    "\n",
    "`nn.CrossEntropyLoss`: The input is expected to contain raw, unnormalized scores for each class"
   ]
  },
  {
   "cell_type": "code",
   "execution_count": 5,
   "id": "14c5eb02",
   "metadata": {
    "scrolled": true
   },
   "outputs": [
    {
     "name": "stdout",
     "output_type": "stream",
     "text": [
      "tensor(0.8991, grad_fn=<NllLossBackward>)\n"
     ]
    }
   ],
   "source": [
    "import torch\n",
    "from torch import nn\n",
    "\n",
    "# Assume that we have three examples. And, our network outputs 5 numbers for each example.\n",
    "output = torch.randn(3, 5, requires_grad=True) # logits\n",
    "# Assume that the labels of these examples are numeric (they are class indices)\n",
    "target = torch.tensor([1, 0, 4])\n",
    "\n",
    "print(nn.CrossEntropyLoss()(output, target)) # logits and labels"
   ]
  },
  {
   "cell_type": "code",
   "execution_count": 6,
   "id": "c0e54ca0",
   "metadata": {
    "scrolled": true
   },
   "outputs": [
    {
     "name": "stdout",
     "output_type": "stream",
     "text": [
      "torch.float32\n",
      "torch.int64\n"
     ]
    }
   ],
   "source": [
    "print(output.dtype)\n",
    "print(target.dtype)"
   ]
  },
  {
   "cell_type": "markdown",
   "id": "b6428b6a",
   "metadata": {},
   "source": [
    "## Example of `nn.LogSoftmax`"
   ]
  },
  {
   "cell_type": "code",
   "execution_count": 7,
   "id": "aedff067",
   "metadata": {},
   "outputs": [
    {
     "name": "stdout",
     "output_type": "stream",
     "text": [
      "tensor([[-2.6232, -0.8465, -3.1938, -0.8882, -3.0773],\n",
      "        [-0.7772, -1.8745, -2.8865, -1.3734, -2.5527],\n",
      "        [-3.0232, -3.1845, -1.2186, -2.4182, -0.6439]],\n",
      "       grad_fn=<LogSoftmaxBackward>)\n",
      "tensor([[0.0726, 0.4289, 0.0410, 0.4114, 0.0461],\n",
      "        [0.4597, 0.1534, 0.0558, 0.2532, 0.0779],\n",
      "        [0.0486, 0.0414, 0.2957, 0.0891, 0.5252]], grad_fn=<ExpBackward>)\n"
     ]
    }
   ],
   "source": [
    "last_layer_outputs = torch.randn(3, 5, requires_grad=True)\n",
    "outputs = nn.LogSoftmax(dim=1)(last_layer_outputs) # m = 3 samples, each has n = 5 features\n",
    "# This is in the form of one-hot encoded outputs, but with log softmax\n",
    "print(outputs)\n",
    "# We can convert those scores into a proper one-hot encoded vectors\n",
    "print(torch.exp(outputs))"
   ]
  },
  {
   "cell_type": "code",
   "execution_count": 8,
   "id": "919cc1f2",
   "metadata": {
    "scrolled": false
   },
   "outputs": [
    {
     "name": "stdout",
     "output_type": "stream",
     "text": [
      "tensor(0.7559, grad_fn=<NllLossBackward>)\n",
      "Probabilities: tensor([[0.0726, 0.4289, 0.0410, 0.4114, 0.0461],\n",
      "        [0.4597, 0.1534, 0.0558, 0.2532, 0.0779],\n",
      "        [0.0486, 0.0414, 0.2957, 0.0891, 0.5252]], grad_fn=<ExpBackward>)\n"
     ]
    }
   ],
   "source": [
    "target = torch.tensor([1, 0, 4]) # target values for each sample\n",
    "\n",
    "print(nn.NLLLoss()(outputs, target)) # logSoftmax and labels\n",
    "\n",
    "# You can get the probabilities using the exponential function:\n",
    "print(\"Probabilities:\", torch.exp(outputs))"
   ]
  },
  {
   "cell_type": "markdown",
   "id": "d8287c8a",
   "metadata": {},
   "source": [
    "## Use `nn.LogSoftmax` to define a model and train it"
   ]
  },
  {
   "cell_type": "code",
   "execution_count": 10,
   "id": "035b656e",
   "metadata": {},
   "outputs": [],
   "source": [
    "import torch\n",
    "from torch import nn\n",
    "from torch import optim\n",
    "\n",
    "import torch.nn.functional as F\n",
    "from torchvision import datasets, transforms"
   ]
  },
  {
   "cell_type": "markdown",
   "id": "1bcbf0a3",
   "metadata": {},
   "source": [
    "### Prepare dataset"
   ]
  },
  {
   "cell_type": "code",
   "execution_count": 11,
   "id": "29e86fa4",
   "metadata": {},
   "outputs": [],
   "source": [
    "# The MNIST datasets are hosted on yann.lecun.com that has moved under CloudFlare protection\n",
    "# Run this script to enable the datasets download\n",
    "# Reference: https://github.com/pytorch/vision/issues/1938\n",
    "\n",
    "from six.moves import urllib\n",
    "opener = urllib.request.build_opener()\n",
    "opener.addheaders = [('User-agent', 'Mozilla/5.0')]\n",
    "urllib.request.install_opener(opener)"
   ]
  },
  {
   "cell_type": "code",
   "execution_count": 12,
   "id": "ab2f37ac",
   "metadata": {},
   "outputs": [],
   "source": [
    "# Define a transform to normalize the data\n",
    "transform = transforms.Compose([transforms.ToTensor(),\n",
    "                                transforms.Normalize((0.5,), (0.5,)),\n",
    "                              ])\n",
    "# Download and load the training data\n",
    "trainset = datasets.MNIST('~/.pytorch/MNIST_data/', download=True, train=True, transform=transform)\n",
    "trainloader = torch.utils.data.DataLoader(trainset, batch_size=64, shuffle=True)"
   ]
  },
  {
   "cell_type": "markdown",
   "id": "a4ba2444",
   "metadata": {},
   "source": [
    "### Define the model"
   ]
  },
  {
   "cell_type": "code",
   "execution_count": 13,
   "id": "564ace05",
   "metadata": {
    "scrolled": true
   },
   "outputs": [
    {
     "name": "stdout",
     "output_type": "stream",
     "text": [
      "Training loss: 1.8304838205197218\n",
      "Training loss: 0.7677607284044661\n",
      "Training loss: 0.49610950982075\n",
      "Training loss: 0.4136842782658809\n",
      "Training loss: 0.3731888475766314\n"
     ]
    }
   ],
   "source": [
    "model = nn.Sequential(nn.Linear(784, 128),\n",
    "                      nn.ReLU(),\n",
    "                      nn.Linear(128, 64),\n",
    "                      nn.ReLU(),\n",
    "                      nn.Linear(64, 10),\n",
    "                      nn.LogSoftmax(dim=1)) ####\n",
    "\n",
    "criterion = nn.NLLLoss()\n",
    "optimizer = optim.SGD(model.parameters(), lr=0.003)\n",
    "\n",
    "epochs = 5\n",
    "for e in range(epochs):\n",
    "    running_loss = 0\n",
    "    for images, labels in trainloader:\n",
    "        # Flatten MNIST images into a 784 long vector\n",
    "        images = images.view(images.shape[0], -1)\n",
    "    \n",
    "        optimizer.zero_grad()\n",
    "        \n",
    "        output = model(images)\n",
    "        loss = criterion(output, labels)\n",
    "        loss.backward()\n",
    "        optimizer.step()\n",
    "        \n",
    "        running_loss += loss.item()\n",
    "    else:\n",
    "        print(f\"Training loss: {running_loss/len(trainloader)}\")"
   ]
  },
  {
   "cell_type": "code",
   "execution_count": null,
   "id": "c2e34c18",
   "metadata": {},
   "outputs": [],
   "source": []
  }
 ],
 "metadata": {
  "kernelspec": {
   "display_name": "Python 3",
   "language": "python",
   "name": "python3"
  },
  "language_info": {
   "codemirror_mode": {
    "name": "ipython",
    "version": 3
   },
   "file_extension": ".py",
   "mimetype": "text/x-python",
   "name": "python",
   "nbconvert_exporter": "python",
   "pygments_lexer": "ipython3",
   "version": "3.6.13"
  }
 },
 "nbformat": 4,
 "nbformat_minor": 5
}
