{
 "cells": [
  {
   "cell_type": "code",
   "execution_count": 1,
   "id": "59388b83",
   "metadata": {},
   "outputs": [],
   "source": [
    "import torch\n",
    "from torchvision import datasets, transforms\n",
    "\n",
    "transform = transforms.Compose([transforms.ToTensor(),\n",
    "                                transforms.Normalize((0.5,), (0.5,))])"
   ]
  },
  {
   "cell_type": "code",
   "execution_count": 6,
   "id": "4899a813",
   "metadata": {},
   "outputs": [],
   "source": [
    "from torch.utils.data.sampler import SubsetRandomSampler\n",
    "import numpy as np\n",
    "\n",
    "N_train = len(trainset)\n",
    "N_valid = int(np.floor(0.2 * N_train))\n",
    "bs = 64\n",
    "\n",
    "trainset = datasets.FashionMNIST('~/.pytorch/F_MNIST_data/', download=True, train=True, transform=transform)\n",
    "\n",
    "indices = list(range(N_train))\n",
    "\n",
    "np.random.shuffle(indices)\n",
    "\n",
    "train_idx, valid_idx = indices[N_valid:], indices[:N_valid]\n",
    "\n",
    "train_sampler = SubsetRandomSampler(train_idx)\n",
    "valid_sampler = SubsetRandomSampler(valid_idx)\n",
    "\n",
    "# Define a DataLoader with a given Sampler\n",
    "trainloader = torch.utils.data.DataLoader(trainset, \n",
    "                                          batch_size=bs,\n",
    "                                          sampler=train_sampler)\n",
    "validloader = torch.utils.data.DataLoader(trainset, \n",
    "                                          batch_size=bs, \n",
    "                                          sampler=valid_sampler)"
   ]
  },
  {
   "cell_type": "code",
   "execution_count": 15,
   "id": "a556800d",
   "metadata": {},
   "outputs": [
    {
     "name": "stdout",
     "output_type": "stream",
     "text": [
      "Total # of samples (including both train and validation samples): 60000\n",
      "Validation set size: 12000\n",
      "Number of batches: 750\n",
      "Number of TRAINING samples: 48000\n",
      "Total # of samples: 60000\n"
     ]
    }
   ],
   "source": []
  },
  {
   "cell_type": "code",
   "execution_count": null,
   "id": "a1bdaf53",
   "metadata": {},
   "outputs": [],
   "source": []
  }
 ],
 "metadata": {
  "kernelspec": {
   "display_name": "Python 3 (ipykernel)",
   "language": "python",
   "name": "python3"
  },
  "language_info": {
   "codemirror_mode": {
    "name": "ipython",
    "version": 3
   },
   "file_extension": ".py",
   "mimetype": "text/x-python",
   "name": "python",
   "nbconvert_exporter": "python",
   "pygments_lexer": "ipython3",
   "version": "3.8.13"
  }
 },
 "nbformat": 4,
 "nbformat_minor": 5
}
