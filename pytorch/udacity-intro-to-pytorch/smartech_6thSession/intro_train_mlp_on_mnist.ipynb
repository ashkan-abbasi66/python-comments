{
 "cells": [
  {
   "cell_type": "code",
   "execution_count": 1,
   "id": "0c877835",
   "metadata": {},
   "outputs": [],
   "source": [
    "import numpy as np\n",
    "\n",
    "import torch\n",
    "import torch.nn as nn\n",
    "from torch import optim\n",
    "from torchvision import datasets, transforms\n",
    "\n",
    "\n",
    "import matplotlib.pyplot as plt"
   ]
  },
  {
   "cell_type": "markdown",
   "id": "80bcbd2b",
   "metadata": {},
   "source": [
    "# prepare dataset"
   ]
  },
  {
   "cell_type": "code",
   "execution_count": 2,
   "id": "52b55ea9",
   "metadata": {},
   "outputs": [],
   "source": [
    "# Define a transform to normalize the data\n",
    "transform = transforms.Compose([transforms.ToTensor(),\n",
    "                              transforms.Normalize((0.5,), (0.5,)),\n",
    "                              ])\n",
    "transform = transforms.ToTensor() # PIL image [0, 255] int === ToTensor() ==> PyTorch Tensor [0, 1] float\n",
    "\n",
    "# Download and load the training data\n",
    "trainset = datasets.MNIST(root = '~/.pytorch/MNIST_data/', download=True, train=True, transform=transform) # target_transform\n",
    "trainloader = torch.utils.data.DataLoader(trainset, batch_size=64, shuffle=True)"
   ]
  },
  {
   "cell_type": "markdown",
   "id": "82753964",
   "metadata": {},
   "source": [
    "# Define the model"
   ]
  },
  {
   "cell_type": "code",
   "execution_count": 3,
   "id": "6f43e966",
   "metadata": {},
   "outputs": [],
   "source": [
    "model = nn.Sequential(nn.Linear(784, 128),\n",
    "                     nn.ReLU(),\n",
    "                     nn.Linear(128, 64),\n",
    "                     nn.ReLU(),\n",
    "                     nn.Linear(64, 10)).cuda() \n",
    "# Note that we do not define SOFTMAX here.\n",
    "# Note: In Tensorflow / Keras, you need to define SOFTMAX."
   ]
  },
  {
   "cell_type": "code",
   "execution_count": 4,
   "id": "5d2e881a",
   "metadata": {},
   "outputs": [
    {
     "name": "stdout",
     "output_type": "stream",
     "text": [
      "Sequential(\n",
      "  (0): Linear(in_features=784, out_features=128, bias=True)\n",
      "  (1): ReLU()\n",
      "  (2): Linear(in_features=128, out_features=64, bias=True)\n",
      "  (3): ReLU()\n",
      "  (4): Linear(in_features=64, out_features=10, bias=True)\n",
      ")\n"
     ]
    }
   ],
   "source": [
    "print(model)"
   ]
  },
  {
   "cell_type": "code",
   "execution_count": 5,
   "id": "4ff8b6a3",
   "metadata": {},
   "outputs": [],
   "source": [
    "criterion = nn.CrossEntropyLoss()"
   ]
  },
  {
   "cell_type": "markdown",
   "id": "bdec5143",
   "metadata": {},
   "source": [
    "$w_{new} = w_{old} - \\eta*\\text{Grad}_{w}(\\text{one sample}, \\text{criterion})$"
   ]
  },
  {
   "cell_type": "code",
   "execution_count": 6,
   "id": "407f8ad7",
   "metadata": {},
   "outputs": [],
   "source": [
    "learning_rate = 0.003\n",
    "optimizer = optim.SGD(model.parameters(), lr = learning_rate)"
   ]
  },
  {
   "cell_type": "markdown",
   "id": "869cc698",
   "metadata": {},
   "source": [
    "# Train the model"
   ]
  },
  {
   "cell_type": "code",
   "execution_count": 7,
   "id": "29938ae2",
   "metadata": {},
   "outputs": [
    {
     "name": "stdout",
     "output_type": "stream",
     "text": [
      "Training loss = 2.2574854995141913\n",
      "Training loss = 1.979426091032496\n",
      "Training loss = 1.3257901071231248\n",
      "Training loss = 0.8532887792536444\n",
      "Training loss = 0.6291384800537817\n"
     ]
    }
   ],
   "source": [
    "my_device = 'cuda'\n",
    "\n",
    "epochs = 5\n",
    "\n",
    "for epoch in range(epochs):\n",
    "    \n",
    "    running_loss = 0\n",
    "    \n",
    "    for images, labels in trainloader:\n",
    "        # Flatten - N*C*H*W ===> N*(C*H*W) <=> 64*784\n",
    "        images = images.view(images.shape[0], -1)\n",
    "        \n",
    "        # Clear the gradients\n",
    "        optimizer.zero_grad()\n",
    "        \n",
    "        # forward computation\n",
    "        output = model(images.to(my_device))\n",
    "        \n",
    "        loss = criterion(output, labels.to(my_device))\n",
    "        \n",
    "        # backward pass\n",
    "        loss.backward()\n",
    "        \n",
    "        # update\n",
    "        optimizer.step()\n",
    "        \n",
    "        running_loss += loss.item()\n",
    "    else:\n",
    "        print(f\"Training loss = {running_loss/len(trainloader)}\")"
   ]
  },
  {
   "cell_type": "markdown",
   "id": "516c5540",
   "metadata": {},
   "source": [
    "# Prediction / Inference"
   ]
  },
  {
   "cell_type": "code",
   "execution_count": null,
   "id": "f4ed2802",
   "metadata": {},
   "outputs": [],
   "source": [
    "images, labels = next(iter(trainloader))"
   ]
  },
  {
   "cell_type": "code",
   "execution_count": 22,
   "id": "47db033b",
   "metadata": {},
   "outputs": [
    {
     "name": "stdout",
     "output_type": "stream",
     "text": [
      "tensor([[ 1.4960, -4.6603, -0.8917,  5.5743, -3.6700,  4.3824, -2.4348, -3.8741,\n",
      "          3.2556, -0.9287]], device='cuda:0')\n"
     ]
    }
   ],
   "source": [
    "data_index = 0\n",
    "images[data_index].shape  # torch.Size([1, 28, 28])\n",
    "\n",
    "input_vector = images[data_index].view(1, 784)\n",
    "\n",
    "# Turn off gradient computation\n",
    "with torch.no_grad():\n",
    "    scores = model(input_vector.to(my_device))\n",
    "\n",
    "print(scores) # logits"
   ]
  },
  {
   "cell_type": "code",
   "execution_count": 29,
   "id": "85409d51",
   "metadata": {},
   "outputs": [
    {
     "name": "stdout",
     "output_type": "stream",
     "text": [
      "tensor([[1.1905e-02, 2.5239e-05, 1.0934e-03, 7.0295e-01, 6.7948e-05, 2.1344e-01,\n",
      "         2.3368e-04, 5.5402e-05, 6.9173e-02, 1.0537e-03]], device='cuda:0')\n",
      "tensor([[1.1905e-02, 2.5239e-05, 1.0934e-03, 7.0295e-01, 6.7948e-05, 2.1344e-01,\n",
      "         2.3368e-04, 5.5402e-05, 6.9173e-02, 1.0537e-03]], device='cuda:0')\n"
     ]
    },
    {
     "name": "stderr",
     "output_type": "stream",
     "text": [
      "C:\\Users\\ashkan\\Anaconda3\\envs\\py36torch11\\lib\\site-packages\\ipykernel_launcher.py:4: UserWarning: Implicit dimension choice for softmax has been deprecated. Change the call to include dim=X as an argument.\n",
      "  after removing the cwd from sys.path.\n"
     ]
    }
   ],
   "source": [
    "print(nn.Softmax(dim=1)(scores))\n",
    "\n",
    "import torch.nn.functional as F\n",
    "print(F.softmax(scores))"
   ]
  },
  {
   "cell_type": "code",
   "execution_count": 31,
   "id": "920609b7",
   "metadata": {},
   "outputs": [
    {
     "name": "stdout",
     "output_type": "stream",
     "text": [
      "tensor(3, device='cuda:0')\n"
     ]
    }
   ],
   "source": [
    "print(torch.argmax(nn.Softmax(dim=1)(scores)))"
   ]
  },
  {
   "cell_type": "code",
   "execution_count": 32,
   "id": "510bce63",
   "metadata": {},
   "outputs": [
    {
     "name": "stdout",
     "output_type": "stream",
     "text": [
      "torch.return_types.topk(\n",
      "values=tensor([[0.7029]], device='cuda:0'),\n",
      "indices=tensor([[3]], device='cuda:0'))\n"
     ]
    }
   ],
   "source": [
    "print(torch.topk(nn.Softmax(dim=1)(scores), 1))"
   ]
  },
  {
   "cell_type": "code",
   "execution_count": 24,
   "id": "61fa3637",
   "metadata": {},
   "outputs": [
    {
     "data": {
      "text/plain": [
       "tensor([5, 8, 5, 5, 0, 9, 3, 8, 7, 5, 4, 3, 4, 5, 1, 2, 8, 2, 3, 9, 1, 8, 1, 7,\n",
       "        5, 0, 0, 2, 0, 3, 8, 1, 3, 4, 8, 2, 7, 2, 1, 5, 0, 3, 0, 0, 6, 7, 3, 0,\n",
       "        1, 1, 7, 3, 2, 6, 8, 1, 2, 3, 8, 1, 8, 7, 5, 4])"
      ]
     },
     "execution_count": 24,
     "metadata": {},
     "output_type": "execute_result"
    }
   ],
   "source": [
    "labels"
   ]
  },
  {
   "cell_type": "code",
   "execution_count": 25,
   "id": "544a208f",
   "metadata": {},
   "outputs": [
    {
     "data": {
      "text/plain": [
       "tensor(5)"
      ]
     },
     "execution_count": 25,
     "metadata": {},
     "output_type": "execute_result"
    }
   ],
   "source": [
    "labels[0]"
   ]
  },
  {
   "cell_type": "code",
   "execution_count": null,
   "id": "04e9064a",
   "metadata": {},
   "outputs": [],
   "source": []
  }
 ],
 "metadata": {
  "kernelspec": {
   "display_name": "Python 3",
   "language": "python",
   "name": "python3"
  },
  "language_info": {
   "codemirror_mode": {
    "name": "ipython",
    "version": 3
   },
   "file_extension": ".py",
   "mimetype": "text/x-python",
   "name": "python",
   "nbconvert_exporter": "python",
   "pygments_lexer": "ipython3",
   "version": "3.6.13"
  }
 },
 "nbformat": 4,
 "nbformat_minor": 5
}
