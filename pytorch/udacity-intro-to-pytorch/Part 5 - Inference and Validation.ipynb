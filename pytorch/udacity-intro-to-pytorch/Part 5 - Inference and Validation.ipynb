{
 "cells": [
  {
   "cell_type": "code",
   "execution_count": 1,
   "metadata": {},
   "outputs": [],
   "source": [
    "import matplotlib.pyplot as plt"
   ]
  },
  {
   "cell_type": "markdown",
   "metadata": {},
   "source": [
    "# Inference and Validation\n",
    "\n",
    "Now that you have a trained network, you can use it for making predictions. This is typically called **inference**, a term borrowed from statistics. However, neural networks have a tendency to perform *too well* on the training data and aren't able to generalize to data that hasn't been seen before. This is called **overfitting** and it impairs inference performance.\n",
    "\n",
    "To test for overfitting while training, we measure the performance on data not in the training set called the **validation** set. We avoid overfitting through regularization such as dropout while monitoring the validation performance during training. In this notebook, I'll show you how to do this in PyTorch. \n"
   ]
  },
  {
   "cell_type": "code",
   "execution_count": 2,
   "metadata": {},
   "outputs": [],
   "source": [
    "import torch\n",
    "from torchvision import datasets, transforms\n",
    "\n",
    "transform = transforms.Compose([transforms.ToTensor(),\n",
    "                                transforms.Normalize((0.5,), (0.5,))])\n",
    "\n",
    "##trainset = datasets.FashionMNIST('~/.pytorch/F_MNIST_data/', download=True, train=True, transform=transform)\n",
    "##trainloader = torch.utils.data.DataLoader(trainset, batch_size=64, shuffle=True)\n",
    "\n",
    "##testset = datasets.FashionMNIST('~/.pytorch/F_MNIST_data/', download=True, train=False, transform=transform)\n",
    "##testloader = torch.utils.data.DataLoader(testset, batch_size=64, shuffle=False)"
   ]
  },
  {
   "cell_type": "code",
   "execution_count": 3,
   "metadata": {},
   "outputs": [],
   "source": [
    "trainset = datasets.FashionMNIST('~/.pytorch/F_MNIST_data/', download=True, train=True, transform=transform)\n",
    "# len(trainset) => 60000\n",
    "\n",
    "N_train = 55000\n",
    "N_valid = 5000\n",
    "\n",
    "trainset, validset = torch.utils.data.random_split(trainset, [N_train, N_valid])\n",
    "\n",
    "testset = datasets.FashionMNIST('~/.pytorch/F_MNIST_data/', download=True, train=False, transform=transform)"
   ]
  },
  {
   "cell_type": "code",
   "execution_count": 4,
   "metadata": {},
   "outputs": [],
   "source": [
    "bs = 64\n",
    "trainloader = torch.utils.data.DataLoader(trainset, batch_size=bs, shuffle=True)\n",
    "validloader = torch.utils.data.DataLoader(validset, batch_size=bs, shuffle=False)\n",
    "testloader = torch.utils.data.DataLoader(testset, batch_size=bs, shuffle=False)"
   ]
  },
  {
   "cell_type": "code",
   "execution_count": 8,
   "metadata": {},
   "outputs": [
    {
     "name": "stdout",
     "output_type": "stream",
     "text": [
      "55000 5000 10000\n",
      "860 79 157\n"
     ]
    }
   ],
   "source": [
    "print(len(trainset), len(validset), len(testset))\n",
    "print(len(trainloader), len(validloader), len(testloader))"
   ]
  },
  {
   "cell_type": "markdown",
   "metadata": {},
   "source": [
    "## When you have data augmentation, use the following:\n",
    "    \n",
    "```python\n",
    "test_transform = transforms.Compose([transforms.ToTensor(),\n",
    "                                     transforms.Normalize(DATA_MEANS, DATA_STD)\n",
    "                                     ])\n",
    "\n",
    "train_transform = transforms.Compose([transforms.RandomHorizontalFlip(),\n",
    "                                      transforms.RandomResizedCrop((32,32),scale=(0.8,1.0),ratio=(0.9,1.1)),\n",
    "                                      transforms.ToTensor(),\n",
    "                                      transforms.Normalize(DATA_MEANS, DATA_STD)\n",
    "                                     ])\n",
    "\n",
    "train_dataset = datasets.FashionMNIST(root=DATASET_PATH, train=True, transform=train_transform, download=True)\n",
    "val_dataset = datasets.FashionMNIST(root=DATASET_PATH, train=True, transform=test_transform, download=True)\n",
    "\n",
    "set_seed(42) # a function that can be used to set a seed for random number generators\n",
    "train_set, _ = torch.utils.data.random_split(train_dataset, [45000, 5000])\n",
    "\n",
    "set_seed(42)\n",
    "_, val_set = torch.utils.data.random_split(val_dataset, [45000, 5000])\n",
    "\n",
    "test_set = datasets.FashionMNIST(root=DATASET_PATH, train=False, transform=test_transform, download=True)\n",
    "\n",
    "# Data loaders\n",
    "train_loader = data.DataLoader(train_set, batch_size=128, shuffle=True, drop_last=True, pin_memory=True, num_workers=4)\n",
    "val_loader = data.DataLoader(val_set, batch_size=128, shuffle=False, drop_last=False, num_workers=4)\n",
    "test_loader = data.DataLoader(test_set, batch_size=128, shuffle=False, drop_last=False, num_workers=4)\n",
    "```"
   ]
  },
  {
   "cell_type": "markdown",
   "metadata": {},
   "source": [
    "## Building the model\n",
    "\n",
    "Copied from `Part 4 - Fashion-MNIST.ipynb`"
   ]
  },
  {
   "cell_type": "code",
   "execution_count": 9,
   "metadata": {},
   "outputs": [],
   "source": [
    "from torch import nn, optim\n",
    "import torch.nn.functional as F\n",
    "\n",
    "class Classifier(nn.Module):\n",
    "    def __init__(self):\n",
    "        super().__init__()\n",
    "        self.fc1 = nn.Linear(784, 256)\n",
    "        self.fc2 = nn.Linear(256, 128)\n",
    "        self.fc3 = nn.Linear(128, 64)\n",
    "        self.fc4 = nn.Linear(64, 10)\n",
    "        \n",
    "    def forward(self, x):\n",
    "        # make sure input tensor is flattened\n",
    "        x = x.view(x.shape[0], -1)\n",
    "        \n",
    "        x = F.relu(self.fc1(x))\n",
    "        x = F.relu(self.fc2(x))\n",
    "        x = F.relu(self.fc3(x))\n",
    "        x = F.log_softmax(self.fc4(x), dim=1)\n",
    "        \n",
    "        return x"
   ]
  },
  {
   "cell_type": "markdown",
   "metadata": {},
   "source": [
    "## Compute the model's performance (i.e., accuracy in this example)"
   ]
  },
  {
   "cell_type": "markdown",
   "metadata": {},
   "source": [
    "The goal of validation is to measure the model's performance on data that isn't part of the training set. Performance here is up to the developer to define though. Typically this is just accuracy, the percentage of classes the network predicted correctly. Other options are [precision and recall](https://en.wikipedia.org/wiki/Precision_and_recall#Definition_(classification_context)) and top-5 error rate. We'll focus on accuracy here. First I'll do a forward pass with one batch from the test set."
   ]
  },
  {
   "cell_type": "code",
   "execution_count": 10,
   "metadata": {},
   "outputs": [
    {
     "name": "stdout",
     "output_type": "stream",
     "text": [
      "torch.Size([64, 10])\n"
     ]
    }
   ],
   "source": [
    "model = Classifier()\n",
    "\n",
    "images, labels = next(iter(validloader))\n",
    "# Get the class probabilities\n",
    "ps = torch.exp(model(images))\n",
    "# Make sure the shape is appropriate, we should get 10 class probabilities for 64 examples\n",
    "print(ps.shape)"
   ]
  },
  {
   "cell_type": "markdown",
   "metadata": {},
   "source": [
    "With the probabilities, we can get the most likely class using the torch's `topk` method. \n",
    "\n",
    "`torch.topk(.)` or `tensor.topk(.)`: Returns the `k` largest elements of the given input tensor **along a given dimension**.\n",
    "\n",
    "If the highest value is the fifth element, we'll get back 4 as the index."
   ]
  },
  {
   "cell_type": "code",
   "execution_count": 11,
   "metadata": {},
   "outputs": [
    {
     "name": "stdout",
     "output_type": "stream",
     "text": [
      "tensor([4.])\n",
      "tensor([3]) \n",
      "\n",
      "\n",
      "tensor([[4., 3.],\n",
      "        [8., 7.]])\n",
      "tensor([[3, 2],\n",
      "        [0, 1]])\n"
     ]
    }
   ],
   "source": [
    "a = torch.Tensor([1,2,3,4])\n",
    "\n",
    "v,i = a.topk(k=1) # returns both values and indices\n",
    "\n",
    "print(v)\n",
    "print(i,\"\\n\\n\")\n",
    "\n",
    "a = torch.Tensor([[1,2,3,4],[8,7,6,5]])\n",
    "v,i = a.topk(k=2,dim=1)\n",
    "\n",
    "print(v)\n",
    "print(i)"
   ]
  },
  {
   "cell_type": "code",
   "execution_count": 12,
   "metadata": {},
   "outputs": [
    {
     "name": "stdout",
     "output_type": "stream",
     "text": [
      "tensor([0.0961, 0.0995, 0.0936, 0.0939, 0.1114, 0.1018, 0.0986, 0.0946, 0.1068,\n",
      "        0.1036], grad_fn=<SliceBackward>)\n",
      "tensor([4])\n",
      "tensor([0.1114], grad_fn=<SliceBackward>)\n"
     ]
    }
   ],
   "source": [
    "top_p, top_class = ps.topk(1, dim=1)\n",
    "# Look at the most likely classes for the first 10 examples\n",
    "\n",
    "print(ps[1,:])\n",
    "print(top_class[1,:])\n",
    "print(top_p[1,:])"
   ]
  },
  {
   "cell_type": "markdown",
   "metadata": {},
   "source": [
    "Now we can check if the predicted classes match the labels. This is simple to do by equating `top_class` and `labels`, but we have to be careful of the shapes. Here `top_class` is a 2D tensor with shape `(64, 1)` while `labels` is 1D with shape `(64)`. To get the equality to work out the way we want, `top_class` and `labels` must have the same shape.\n",
    "\n",
    "If we do\n",
    "\n",
    "```python\n",
    "equals = top_class == labels\n",
    "```\n",
    "\n",
    "`equals` will have shape `(64, 64)`, try it yourself. What it's doing is comparing the one element in each row of `top_class` with each element in `labels` which returns 64 True/False boolean values for each row."
   ]
  },
  {
   "cell_type": "code",
   "execution_count": 13,
   "metadata": {
    "scrolled": true
   },
   "outputs": [
    {
     "name": "stdout",
     "output_type": "stream",
     "text": [
      "torch.Size([64, 1])\n"
     ]
    }
   ],
   "source": [
    "equals = top_class == labels.view(*top_class.shape)\n",
    "\n",
    "print(equals.shape)"
   ]
  },
  {
   "cell_type": "markdown",
   "metadata": {},
   "source": [
    "Now we need to calculate the percentage of correct predictions. `equals` has binary values, either 0 or 1. This means that if we just sum up all the values and divide by the number of values, we get the percentage of correct predictions. This is the same operation as taking the mean, so we can get the accuracy with a call to `torch.mean`. If only it was that simple. If you try `torch.mean(equals)`, you'll get an error\n",
    "\n",
    "```\n",
    "RuntimeError: mean is not implemented for type torch.ByteTensor\n",
    "```\n",
    "\n",
    "This happens because `equals` has type `torch.ByteTensor` but `torch.mean` isn't implement for tensors with that type. So we'll need to convert `equals` to a float tensor. Note that when we take `torch.mean` it returns a scalar tensor, to get the actual value as a float we'll need to do `accuracy.item()`."
   ]
  },
  {
   "cell_type": "code",
   "execution_count": 14,
   "metadata": {
    "scrolled": true
   },
   "outputs": [
    {
     "name": "stdout",
     "output_type": "stream",
     "text": [
      "Accuracy: 15.625%\n"
     ]
    }
   ],
   "source": [
    "accuracy = torch.mean(equals.type(torch.FloatTensor))\n",
    "print(f'Accuracy: {accuracy.item()*100}%')"
   ]
  },
  {
   "cell_type": "markdown",
   "metadata": {},
   "source": [
    "## Train the network"
   ]
  },
  {
   "cell_type": "code",
   "execution_count": 49,
   "metadata": {},
   "outputs": [
    {
     "name": "stdout",
     "output_type": "stream",
     "text": [
      "Device: cuda\n"
     ]
    }
   ],
   "source": [
    "if torch.cuda.is_available():\n",
    "    my_device = torch.device('cuda')\n",
    "else:\n",
    "    my_device = torch.device('cpu')\n",
    "print('Device: {}'.format(my_device))"
   ]
  },
  {
   "cell_type": "code",
   "execution_count": 50,
   "metadata": {},
   "outputs": [],
   "source": [
    "model = Classifier()\n",
    "model.to(my_device)\n",
    "\n",
    "criterion = nn.NLLLoss(reduction='sum')\n",
    "optimizer = optim.Adam(model.parameters(), lr=0.003)\n",
    "\n",
    "epochs = 60 # 30"
   ]
  },
  {
   "cell_type": "code",
   "execution_count": 51,
   "metadata": {},
   "outputs": [],
   "source": [
    "def train_loop(trainloader, model, criterion, optimizer):\n",
    "    tot_train_loss = 0\n",
    "    for images, labels in trainloader:\n",
    "        \n",
    "        images = images.to(my_device)\n",
    "        labels = labels.to(my_device)\n",
    "        \n",
    "        optimizer.zero_grad()\n",
    "\n",
    "        log_ps = model(images)\n",
    "        loss = criterion(log_ps, labels)\n",
    "        tot_train_loss += loss.item()\n",
    "\n",
    "        loss.backward()\n",
    "        optimizer.step()\n",
    "    train_loss = tot_train_loss / len(trainloader.dataset)\n",
    "    \n",
    "    return train_loss\n",
    "\n",
    "def test_loop(testloader, model, criterion):\n",
    "    tot_test_loss = 0\n",
    "    test_correct = 0  # Number of correct predictions on the test set\n",
    "\n",
    "    # Turn off gradients for validation, saves memory and computations\n",
    "    with torch.no_grad():\n",
    "        for images, labels in testloader:\n",
    "            \n",
    "            images = images.to(my_device)\n",
    "            labels = labels.to(my_device)\n",
    "            \n",
    "            log_ps = model(images)\n",
    "            loss = criterion(log_ps, labels)\n",
    "            tot_test_loss += loss.item()\n",
    "\n",
    "            ps = torch.exp(log_ps)\n",
    "            top_p, top_class = ps.topk(1, dim=1)\n",
    "            equals = top_class == labels.view(*top_class.shape)\n",
    "            test_correct += equals.sum().item()\n",
    "\n",
    "    test_loss = tot_test_loss / len(testloader.dataset)\n",
    "    test_acc = test_correct / len(testloader.dataset)\n",
    "    return test_loss, test_acc"
   ]
  },
  {
   "cell_type": "code",
   "execution_count": 52,
   "metadata": {},
   "outputs": [
    {
     "name": "stdout",
     "output_type": "stream",
     "text": [
      "Epoch: 1/60..  Training Loss: 0.521..  Test Loss: 0.483..  Test Accuracy: 0.833\n",
      "Epoch: 2/60..  Training Loss: 0.397..  Test Loss: 0.386..  Test Accuracy: 0.857\n",
      "Epoch: 3/60..  Training Loss: 0.359..  Test Loss: 0.412..  Test Accuracy: 0.854\n",
      "Epoch: 4/60..  Training Loss: 0.335..  Test Loss: 0.379..  Test Accuracy: 0.865\n",
      "Epoch: 5/60..  Training Loss: 0.314..  Test Loss: 0.383..  Test Accuracy: 0.870\n",
      "Epoch: 6/60..  Training Loss: 0.302..  Test Loss: 0.361..  Test Accuracy: 0.869\n",
      "Epoch: 7/60..  Training Loss: 0.289..  Test Loss: 0.341..  Test Accuracy: 0.878\n",
      "Epoch: 8/60..  Training Loss: 0.280..  Test Loss: 0.338..  Test Accuracy: 0.886\n",
      "Epoch: 9/60..  Training Loss: 0.271..  Test Loss: 0.335..  Test Accuracy: 0.882\n",
      "Epoch: 10/60..  Training Loss: 0.264..  Test Loss: 0.377..  Test Accuracy: 0.863\n",
      "Epoch: 11/60..  Training Loss: 0.257..  Test Loss: 0.367..  Test Accuracy: 0.876\n",
      "Epoch: 12/60..  Training Loss: 0.250..  Test Loss: 0.339..  Test Accuracy: 0.886\n",
      "Epoch: 13/60..  Training Loss: 0.248..  Test Loss: 0.354..  Test Accuracy: 0.880\n",
      "Epoch: 14/60..  Training Loss: 0.240..  Test Loss: 0.346..  Test Accuracy: 0.886\n",
      "Epoch: 15/60..  Training Loss: 0.234..  Test Loss: 0.359..  Test Accuracy: 0.880\n",
      "Epoch: 16/60..  Training Loss: 0.227..  Test Loss: 0.327..  Test Accuracy: 0.891\n",
      "Epoch: 17/60..  Training Loss: 0.225..  Test Loss: 0.356..  Test Accuracy: 0.885\n",
      "Epoch: 18/60..  Training Loss: 0.218..  Test Loss: 0.382..  Test Accuracy: 0.887\n",
      "Epoch: 19/60..  Training Loss: 0.219..  Test Loss: 0.344..  Test Accuracy: 0.887\n",
      "Epoch: 20/60..  Training Loss: 0.214..  Test Loss: 0.388..  Test Accuracy: 0.879\n",
      "Epoch: 21/60..  Training Loss: 0.205..  Test Loss: 0.361..  Test Accuracy: 0.883\n",
      "Epoch: 22/60..  Training Loss: 0.201..  Test Loss: 0.416..  Test Accuracy: 0.880\n",
      "Epoch: 23/60..  Training Loss: 0.201..  Test Loss: 0.373..  Test Accuracy: 0.887\n",
      "Epoch: 24/60..  Training Loss: 0.191..  Test Loss: 0.375..  Test Accuracy: 0.885\n",
      "Epoch: 25/60..  Training Loss: 0.193..  Test Loss: 0.361..  Test Accuracy: 0.891\n",
      "Epoch: 26/60..  Training Loss: 0.190..  Test Loss: 0.429..  Test Accuracy: 0.884\n",
      "Epoch: 27/60..  Training Loss: 0.188..  Test Loss: 0.388..  Test Accuracy: 0.884\n",
      "Epoch: 28/60..  Training Loss: 0.182..  Test Loss: 0.378..  Test Accuracy: 0.886\n",
      "Epoch: 29/60..  Training Loss: 0.177..  Test Loss: 0.404..  Test Accuracy: 0.890\n",
      "Epoch: 30/60..  Training Loss: 0.181..  Test Loss: 0.402..  Test Accuracy: 0.878\n",
      "Epoch: 31/60..  Training Loss: 0.177..  Test Loss: 0.381..  Test Accuracy: 0.887\n",
      "Epoch: 32/60..  Training Loss: 0.170..  Test Loss: 0.404..  Test Accuracy: 0.889\n",
      "Epoch: 33/60..  Training Loss: 0.178..  Test Loss: 0.410..  Test Accuracy: 0.893\n",
      "Epoch: 34/60..  Training Loss: 0.167..  Test Loss: 0.479..  Test Accuracy: 0.879\n",
      "Epoch: 35/60..  Training Loss: 0.172..  Test Loss: 0.408..  Test Accuracy: 0.891\n",
      "Epoch: 36/60..  Training Loss: 0.168..  Test Loss: 0.410..  Test Accuracy: 0.885\n",
      "Epoch: 37/60..  Training Loss: 0.159..  Test Loss: 0.423..  Test Accuracy: 0.886\n",
      "Epoch: 38/60..  Training Loss: 0.161..  Test Loss: 0.410..  Test Accuracy: 0.889\n",
      "Epoch: 39/60..  Training Loss: 0.161..  Test Loss: 0.440..  Test Accuracy: 0.887\n",
      "Epoch: 40/60..  Training Loss: 0.161..  Test Loss: 0.434..  Test Accuracy: 0.882\n",
      "Epoch: 41/60..  Training Loss: 0.147..  Test Loss: 0.453..  Test Accuracy: 0.889\n",
      "Epoch: 42/60..  Training Loss: 0.153..  Test Loss: 0.486..  Test Accuracy: 0.883\n",
      "Epoch: 43/60..  Training Loss: 0.168..  Test Loss: 0.648..  Test Accuracy: 0.876\n",
      "Epoch: 44/60..  Training Loss: 0.152..  Test Loss: 0.462..  Test Accuracy: 0.892\n",
      "Epoch: 45/60..  Training Loss: 0.154..  Test Loss: 0.480..  Test Accuracy: 0.883\n",
      "Epoch: 46/60..  Training Loss: 0.142..  Test Loss: 0.455..  Test Accuracy: 0.891\n",
      "Epoch: 47/60..  Training Loss: 0.149..  Test Loss: 0.471..  Test Accuracy: 0.886\n",
      "Epoch: 48/60..  Training Loss: 0.149..  Test Loss: 0.443..  Test Accuracy: 0.897\n",
      "Epoch: 49/60..  Training Loss: 0.134..  Test Loss: 0.500..  Test Accuracy: 0.891\n",
      "Epoch: 50/60..  Training Loss: 0.143..  Test Loss: 0.517..  Test Accuracy: 0.883\n",
      "Epoch: 51/60..  Training Loss: 0.141..  Test Loss: 0.488..  Test Accuracy: 0.891\n",
      "Epoch: 52/60..  Training Loss: 0.138..  Test Loss: 0.511..  Test Accuracy: 0.893\n",
      "Epoch: 53/60..  Training Loss: 0.156..  Test Loss: 0.548..  Test Accuracy: 0.884\n",
      "Epoch: 54/60..  Training Loss: 0.131..  Test Loss: 0.510..  Test Accuracy: 0.888\n",
      "Epoch: 55/60..  Training Loss: 0.131..  Test Loss: 0.492..  Test Accuracy: 0.889\n",
      "Epoch: 56/60..  Training Loss: 0.134..  Test Loss: 0.546..  Test Accuracy: 0.889\n",
      "Epoch: 57/60..  Training Loss: 0.125..  Test Loss: 0.531..  Test Accuracy: 0.888\n",
      "Epoch: 58/60..  Training Loss: 0.132..  Test Loss: 0.531..  Test Accuracy: 0.887\n",
      "Epoch: 59/60..  Training Loss: 0.135..  Test Loss: 0.564..  Test Accuracy: 0.884\n",
      "Epoch: 60/60..  Training Loss: 0.140..  Test Loss: 0.583..  Test Accuracy: 0.885\n"
     ]
    }
   ],
   "source": [
    "train_losses, test_losses = [], []\n",
    "    \n",
    "for e in range(epochs):\n",
    "    train_loss = train_loop(trainloader, model, criterion, optimizer)\n",
    "    \n",
    "    test_loss,test_acc = test_loop(validloader, model, criterion)\n",
    "\n",
    "    # Keep track of losses at the completion of epoch\n",
    "    train_losses.append(train_loss)\n",
    "    test_losses.append(test_loss)\n",
    "\n",
    "    print(\"Epoch: {}/{}.. \".format(e+1, epochs),\n",
    "          \"Training Loss: {:.3f}.. \".format(train_loss),\n",
    "          \"Test Loss: {:.3f}.. \".format(test_loss),\n",
    "          \"Test Accuracy: {:.3f}\".format(test_acc))"
   ]
  },
  {
   "cell_type": "code",
   "execution_count": 53,
   "metadata": {},
   "outputs": [
    {
     "data": {
      "text/plain": [
       "<matplotlib.legend.Legend at 0x20f25e521d0>"
      ]
     },
     "execution_count": 53,
     "metadata": {},
     "output_type": "execute_result"
    },
    {
     "data": {
      "image/png": "[encoded data removed]",
      "text/plain": [
       "<Figure size 432x288 with 1 Axes>"
      ]
     },
     "metadata": {
      "needs_background": "light"
     },
     "output_type": "display_data"
    }
   ],
   "source": [
    "plt.plot(train_losses, label='Training loss')\n",
    "plt.plot(test_losses, label='Validation loss')\n",
    "plt.legend(frameon=False)"
   ]
  },
  {
   "cell_type": "code",
   "execution_count": 54,
   "metadata": {},
   "outputs": [
    {
     "name": "stdout",
     "output_type": "stream",
     "text": [
      "Result on the Final Test Set\n",
      "Test Loss: 0.560..  Test Accuracy: 0.885\n"
     ]
    }
   ],
   "source": [
    "test_loss,test_acc = test_loop(testloader, model, criterion)\n",
    "\n",
    "print(\"Result on the Final Test Set\")\n",
    "print(\"Test Loss: {:.3f}.. \".format(test_loss), \"Test Accuracy: {:.3f}\".format(test_acc))"
   ]
  },
  {
   "cell_type": "markdown",
   "metadata": {},
   "source": [
    "## Reduce Overfitting through Early Stopping and Dropout\n",
    "\n",
    "If we look at the training and validation losses as we train the network, we can see a phenomenon known as overfitting.\n",
    "\n",
    "<img src='assets/overfitting.png' width=450px>\n",
    "\n",
    "The network learns the training set better and better, resulting in lower training losses. However, it starts having problems generalizing to data outside the training set leading to the validation loss increasing. \n",
    "\n",
    "The ultimate goal of any deep learning model is to make predictions on new data, so we should strive to get the lowest validation loss possible. \n",
    "\n",
    "1. One option is to use the version of the model with the lowest validation loss, here the one around 8-10 training epochs. This strategy is called **early-stopping**. In practice, you'd save the model frequently as you're training then later choose the model with the lowest validation loss.\n",
    "\n",
    "2. Another method to reduce overfitting (outside of early-stopping) is **dropout**, where we randomly drop input units. This forces the network to share information between weights, increasing it's ability to generalize to new data. \n",
    "\n",
    "**Note:** Turn off dropout during inference. Use `model.eval()`. This sets the model to evaluation mode where the dropout probability is 0. You can turn dropout back on by setting the model to train mode with `model.train()`. \n",
    "\n",
    "```python\n",
    "# turn off gradients\n",
    "with torch.no_grad():\n",
    "    \n",
    "    # set model to evaluation mode\n",
    "    model.eval()\n",
    "    \n",
    "    # validation pass here\n",
    "    for images, labels in testloader:\n",
    "        ...\n",
    "\n",
    "# set model back to train mode\n",
    "model.train()\n",
    "```"
   ]
  },
  {
   "cell_type": "markdown",
   "metadata": {},
   "source": [
    "### Add dropout to the model and train it again\n",
    "See if you can get a lower validation loss."
   ]
  },
  {
   "cell_type": "code",
   "execution_count": 44,
   "metadata": {},
   "outputs": [],
   "source": [
    "class Classifier2(nn.Module):\n",
    "    def __init__(self):\n",
    "        super().__init__()\n",
    "        self.fc1 = nn.Linear(784, 256)\n",
    "        self.fc2 = nn.Linear(256, 128)\n",
    "        self.fc3 = nn.Linear(128, 64)\n",
    "        self.fc4 = nn.Linear(64, 10)\n",
    "\n",
    "        # *** Dropout module with 0.2 drop probability ***\n",
    "        self.dropout = nn.Dropout(p=0.2)\n",
    "\n",
    "    def forward(self, x):\n",
    "        # make sure input tensor is flattened\n",
    "        x = x.view(x.shape[0], -1)\n",
    "\n",
    "        # Now with dropout\n",
    "        x = self.dropout(F.relu(self.fc1(x)))\n",
    "        x = self.dropout(F.relu(self.fc2(x)))\n",
    "        x = self.dropout(F.relu(self.fc3(x)))\n",
    "\n",
    "        # output so no dropout here\n",
    "        x = F.log_softmax(self.fc4(x), dim=1)\n",
    "\n",
    "        return x"
   ]
  },
  {
   "cell_type": "code",
   "execution_count": 45,
   "metadata": {},
   "outputs": [],
   "source": [
    "def test_loop2(testloader, model, criterion):\n",
    "    tot_test_loss = 0\n",
    "    test_correct = 0  # Number of correct predictions on the test set\n",
    "    \n",
    "    # *** Turn off DROPOUT ***\n",
    "    model.eval()\n",
    "        \n",
    "    # Turn off gradients for validation, saves memory and computations\n",
    "    with torch.no_grad(): \n",
    "        for images, labels in testloader:\n",
    "            \n",
    "            images = images.to(my_device)\n",
    "            labels = labels.to(my_device)\n",
    "            \n",
    "            log_ps = model(images)\n",
    "            loss = criterion(log_ps, labels)\n",
    "            tot_test_loss += loss.item()\n",
    "\n",
    "            ps = torch.exp(log_ps)\n",
    "            top_p, top_class = ps.topk(1, dim=1)\n",
    "            equals = top_class == labels.view(*top_class.shape)\n",
    "            test_correct += equals.sum().item()\n",
    "    \n",
    "    # *** set model back to train mode ***\n",
    "    model.train()\n",
    "\n",
    "    test_loss = tot_test_loss / len(testloader.dataset)\n",
    "    test_acc = test_correct / len(testloader.dataset)\n",
    "    return test_loss, test_acc"
   ]
  },
  {
   "cell_type": "code",
   "execution_count": 46,
   "metadata": {},
   "outputs": [
    {
     "name": "stdout",
     "output_type": "stream",
     "text": [
      "Epoch: 1/90..  Training Loss: 0.612..  Test Loss: 0.463..  Test Accuracy: 0.833\n",
      "Epoch: 2/90..  Training Loss: 0.488..  Test Loss: 0.431..  Test Accuracy: 0.849\n",
      "Epoch: 3/90..  Training Loss: 0.456..  Test Loss: 0.396..  Test Accuracy: 0.856\n",
      "Epoch: 4/90..  Training Loss: 0.435..  Test Loss: 0.382..  Test Accuracy: 0.865\n",
      "Epoch: 5/90..  Training Loss: 0.425..  Test Loss: 0.385..  Test Accuracy: 0.863\n",
      "Epoch: 6/90..  Training Loss: 0.415..  Test Loss: 0.388..  Test Accuracy: 0.866\n",
      "Epoch: 7/90..  Training Loss: 0.407..  Test Loss: 0.433..  Test Accuracy: 0.853\n",
      "Epoch: 8/90..  Training Loss: 0.400..  Test Loss: 0.399..  Test Accuracy: 0.860\n",
      "Epoch: 9/90..  Training Loss: 0.397..  Test Loss: 0.359..  Test Accuracy: 0.870\n",
      "Epoch: 10/90..  Training Loss: 0.394..  Test Loss: 0.396..  Test Accuracy: 0.861\n",
      "Epoch: 11/90..  Training Loss: 0.391..  Test Loss: 0.381..  Test Accuracy: 0.868\n",
      "Epoch: 12/90..  Training Loss: 0.380..  Test Loss: 0.372..  Test Accuracy: 0.868\n",
      "Epoch: 13/90..  Training Loss: 0.381..  Test Loss: 0.358..  Test Accuracy: 0.873\n",
      "Epoch: 14/90..  Training Loss: 0.374..  Test Loss: 0.371..  Test Accuracy: 0.872\n",
      "Epoch: 15/90..  Training Loss: 0.372..  Test Loss: 0.378..  Test Accuracy: 0.872\n",
      "Epoch: 16/90..  Training Loss: 0.368..  Test Loss: 0.371..  Test Accuracy: 0.878\n",
      "Epoch: 17/90..  Training Loss: 0.366..  Test Loss: 0.379..  Test Accuracy: 0.874\n",
      "Epoch: 18/90..  Training Loss: 0.371..  Test Loss: 0.378..  Test Accuracy: 0.872\n",
      "Epoch: 19/90..  Training Loss: 0.358..  Test Loss: 0.356..  Test Accuracy: 0.869\n",
      "Epoch: 20/90..  Training Loss: 0.354..  Test Loss: 0.365..  Test Accuracy: 0.876\n",
      "Epoch: 21/90..  Training Loss: 0.356..  Test Loss: 0.375..  Test Accuracy: 0.874\n",
      "Epoch: 22/90..  Training Loss: 0.362..  Test Loss: 0.375..  Test Accuracy: 0.875\n",
      "Epoch: 23/90..  Training Loss: 0.359..  Test Loss: 0.386..  Test Accuracy: 0.878\n",
      "Epoch: 24/90..  Training Loss: 0.355..  Test Loss: 0.360..  Test Accuracy: 0.879\n",
      "Epoch: 25/90..  Training Loss: 0.349..  Test Loss: 0.361..  Test Accuracy: 0.886\n",
      "Epoch: 26/90..  Training Loss: 0.343..  Test Loss: 0.354..  Test Accuracy: 0.882\n",
      "Epoch: 27/90..  Training Loss: 0.350..  Test Loss: 0.393..  Test Accuracy: 0.868\n",
      "Epoch: 28/90..  Training Loss: 0.347..  Test Loss: 0.372..  Test Accuracy: 0.872\n",
      "Epoch: 29/90..  Training Loss: 0.343..  Test Loss: 0.357..  Test Accuracy: 0.881\n",
      "Epoch: 30/90..  Training Loss: 0.349..  Test Loss: 0.353..  Test Accuracy: 0.879\n",
      "Epoch: 31/90..  Training Loss: 0.341..  Test Loss: 0.384..  Test Accuracy: 0.866\n",
      "Epoch: 32/90..  Training Loss: 0.343..  Test Loss: 0.390..  Test Accuracy: 0.872\n",
      "Epoch: 33/90..  Training Loss: 0.340..  Test Loss: 0.367..  Test Accuracy: 0.882\n",
      "Epoch: 34/90..  Training Loss: 0.334..  Test Loss: 0.349..  Test Accuracy: 0.883\n",
      "Epoch: 35/90..  Training Loss: 0.331..  Test Loss: 0.370..  Test Accuracy: 0.883\n",
      "Epoch: 36/90..  Training Loss: 0.328..  Test Loss: 0.374..  Test Accuracy: 0.879\n",
      "Epoch: 37/90..  Training Loss: 0.339..  Test Loss: 0.390..  Test Accuracy: 0.878\n",
      "Epoch: 38/90..  Training Loss: 0.333..  Test Loss: 0.360..  Test Accuracy: 0.888\n",
      "Epoch: 39/90..  Training Loss: 0.321..  Test Loss: 0.393..  Test Accuracy: 0.880\n",
      "Epoch: 40/90..  Training Loss: 0.331..  Test Loss: 0.364..  Test Accuracy: 0.885\n",
      "Epoch: 41/90..  Training Loss: 0.328..  Test Loss: 0.366..  Test Accuracy: 0.875\n",
      "Epoch: 42/90..  Training Loss: 0.331..  Test Loss: 0.365..  Test Accuracy: 0.882\n",
      "Epoch: 43/90..  Training Loss: 0.322..  Test Loss: 0.370..  Test Accuracy: 0.878\n",
      "Epoch: 44/90..  Training Loss: 0.329..  Test Loss: 0.371..  Test Accuracy: 0.876\n",
      "Epoch: 45/90..  Training Loss: 0.327..  Test Loss: 0.382..  Test Accuracy: 0.881\n",
      "Epoch: 46/90..  Training Loss: 0.331..  Test Loss: 0.360..  Test Accuracy: 0.883\n",
      "Epoch: 47/90..  Training Loss: 0.322..  Test Loss: 0.362..  Test Accuracy: 0.880\n",
      "Epoch: 48/90..  Training Loss: 0.328..  Test Loss: 0.343..  Test Accuracy: 0.888\n",
      "Epoch: 49/90..  Training Loss: 0.318..  Test Loss: 0.402..  Test Accuracy: 0.867\n",
      "Epoch: 50/90..  Training Loss: 0.323..  Test Loss: 0.355..  Test Accuracy: 0.888\n",
      "Epoch: 51/90..  Training Loss: 0.317..  Test Loss: 0.383..  Test Accuracy: 0.881\n",
      "Epoch: 52/90..  Training Loss: 0.308..  Test Loss: 0.350..  Test Accuracy: 0.885\n",
      "Epoch: 53/90..  Training Loss: 0.331..  Test Loss: 0.346..  Test Accuracy: 0.878\n",
      "Epoch: 54/90..  Training Loss: 0.309..  Test Loss: 0.360..  Test Accuracy: 0.886\n",
      "Epoch: 55/90..  Training Loss: 0.308..  Test Loss: 0.366..  Test Accuracy: 0.883\n",
      "Epoch: 56/90..  Training Loss: 0.314..  Test Loss: 0.380..  Test Accuracy: 0.880\n",
      "Epoch: 57/90..  Training Loss: 0.321..  Test Loss: 0.370..  Test Accuracy: 0.879\n",
      "Epoch: 58/90..  Training Loss: 0.317..  Test Loss: 0.364..  Test Accuracy: 0.882\n",
      "Epoch: 59/90..  Training Loss: 0.315..  Test Loss: 0.364..  Test Accuracy: 0.881\n",
      "Epoch: 60/90..  Training Loss: 0.319..  Test Loss: 0.389..  Test Accuracy: 0.885\n",
      "Epoch: 61/90..  Training Loss: 0.309..  Test Loss: 0.360..  Test Accuracy: 0.885\n",
      "Epoch: 62/90..  Training Loss: 0.303..  Test Loss: 0.364..  Test Accuracy: 0.883\n",
      "Epoch: 63/90..  Training Loss: 0.306..  Test Loss: 0.377..  Test Accuracy: 0.884\n",
      "Epoch: 64/90..  Training Loss: 0.308..  Test Loss: 0.380..  Test Accuracy: 0.888\n",
      "Epoch: 65/90..  Training Loss: 0.308..  Test Loss: 0.407..  Test Accuracy: 0.881\n",
      "Epoch: 66/90..  Training Loss: 0.312..  Test Loss: 0.393..  Test Accuracy: 0.878\n",
      "Epoch: 67/90..  Training Loss: 0.295..  Test Loss: 0.396..  Test Accuracy: 0.883\n",
      "Epoch: 68/90..  Training Loss: 0.307..  Test Loss: 0.376..  Test Accuracy: 0.878\n",
      "Epoch: 69/90..  Training Loss: 0.308..  Test Loss: 0.388..  Test Accuracy: 0.888\n",
      "Epoch: 70/90..  Training Loss: 0.304..  Test Loss: 0.369..  Test Accuracy: 0.883\n",
      "Epoch: 71/90..  Training Loss: 0.294..  Test Loss: 0.416..  Test Accuracy: 0.888\n",
      "Epoch: 72/90..  Training Loss: 0.296..  Test Loss: 0.400..  Test Accuracy: 0.880\n",
      "Epoch: 73/90..  Training Loss: 0.308..  Test Loss: 0.367..  Test Accuracy: 0.885\n",
      "Epoch: 74/90..  Training Loss: 0.300..  Test Loss: 0.397..  Test Accuracy: 0.878\n",
      "Epoch: 75/90..  Training Loss: 0.304..  Test Loss: 0.371..  Test Accuracy: 0.886\n",
      "Epoch: 76/90..  Training Loss: 0.306..  Test Loss: 0.378..  Test Accuracy: 0.889\n",
      "Epoch: 77/90..  Training Loss: 0.295..  Test Loss: 0.355..  Test Accuracy: 0.886\n",
      "Epoch: 78/90..  Training Loss: 0.291..  Test Loss: 0.357..  Test Accuracy: 0.893\n",
      "Epoch: 79/90..  Training Loss: 0.291..  Test Loss: 0.377..  Test Accuracy: 0.886\n",
      "Epoch: 80/90..  Training Loss: 0.295..  Test Loss: 0.360..  Test Accuracy: 0.879\n",
      "Epoch: 81/90..  Training Loss: 0.317..  Test Loss: 0.378..  Test Accuracy: 0.889\n",
      "Epoch: 82/90..  Training Loss: 0.294..  Test Loss: 0.376..  Test Accuracy: 0.891\n",
      "Epoch: 83/90..  Training Loss: 0.294..  Test Loss: 0.363..  Test Accuracy: 0.889\n",
      "Epoch: 84/90..  Training Loss: 0.296..  Test Loss: 0.391..  Test Accuracy: 0.879\n",
      "Epoch: 85/90..  Training Loss: 0.293..  Test Loss: 0.371..  Test Accuracy: 0.881\n",
      "Epoch: 86/90..  Training Loss: 0.301..  Test Loss: 0.390..  Test Accuracy: 0.882\n",
      "Epoch: 87/90..  Training Loss: 0.295..  Test Loss: 0.404..  Test Accuracy: 0.882\n",
      "Epoch: 88/90..  Training Loss: 0.290..  Test Loss: 0.395..  Test Accuracy: 0.888\n",
      "Epoch: 89/90..  Training Loss: 0.295..  Test Loss: 0.359..  Test Accuracy: 0.892\n",
      "Epoch: 90/90..  Training Loss: 0.302..  Test Loss: 0.394..  Test Accuracy: 0.878\n"
     ]
    }
   ],
   "source": [
    "model2 = Classifier2()\n",
    "model2.to(my_device)\n",
    "\n",
    "criterion = nn.NLLLoss(reduction='sum')\n",
    "optimizer = optim.Adam(model2.parameters(), lr=0.003)\n",
    "\n",
    "epochs = 90\n",
    "\n",
    "train_losses, test_losses = [], []\n",
    "    \n",
    "for e in range(epochs):\n",
    "    train_loss = train_loop(trainloader, model2, criterion, optimizer)\n",
    "    \n",
    "    test_loss,test_acc = test_loop2(validloader, model2, criterion)\n",
    "\n",
    "    # Keep track of losses at the completion of epoch\n",
    "    train_losses.append(train_loss)\n",
    "    test_losses.append(test_loss)\n",
    "\n",
    "    print(\"Epoch: {}/{}.. \".format(e+1, epochs),\n",
    "          \"Training Loss: {:.3f}.. \".format(train_loss),\n",
    "          \"Test Loss: {:.3f}.. \".format(test_loss),\n",
    "          \"Test Accuracy: {:.3f}\".format(test_acc))"
   ]
  },
  {
   "cell_type": "code",
   "execution_count": 47,
   "metadata": {},
   "outputs": [
    {
     "data": {
      "text/plain": [
       "<matplotlib.legend.Legend at 0x20f365351d0>"
      ]
     },
     "execution_count": 47,
     "metadata": {},
     "output_type": "execute_result"
    },
    {
     "data": {
      "image/png": "[encoded data removed]",
      "text/plain": [
       "<Figure size 432x288 with 1 Axes>"
      ]
     },
     "metadata": {
      "needs_background": "light"
     },
     "output_type": "display_data"
    }
   ],
   "source": [
    "plt.plot(train_losses, label='Training loss')\n",
    "plt.plot(test_losses, label='Validation loss')\n",
    "plt.legend(frameon=False)"
   ]
  },
  {
   "cell_type": "code",
   "execution_count": 48,
   "metadata": {},
   "outputs": [
    {
     "name": "stdout",
     "output_type": "stream",
     "text": [
      "Result on the Final Test Set\n",
      "Test Loss: 0.428..  Test Accuracy: 0.875\n"
     ]
    }
   ],
   "source": [
    "test_loss,test_acc = test_loop2(testloader, model2, criterion)\n",
    "\n",
    "print(\"Result on the Final Test Set\")\n",
    "print(\"Test Loss: {:.3f}.. \".format(test_loss), \"Test Accuracy: {:.3f}\".format(test_acc))"
   ]
  },
  {
   "cell_type": "markdown",
   "metadata": {},
   "source": [
    "## Inference\n",
    "\n",
    "Now that the model is trained, we can use it for inference. We've done this before, but now we need to remember to set the model in inference mode with `model.eval()`. You'll also want to turn off autograd with the `torch.no_grad()` context."
   ]
  },
  {
   "cell_type": "code",
   "execution_count": 43,
   "metadata": {},
   "outputs": [
    {
     "data": {
      "image/png": "[encoded data removed]",
      "text/plain": [
       "<Figure size 432x648 with 2 Axes>"
      ]
     },
     "metadata": {
      "needs_background": "light"
     },
     "output_type": "display_data"
    }
   ],
   "source": [
    "# Import helper module (should be in the repo)\n",
    "import helper\n",
    "\n",
    "# Test out your network!\n",
    "model = model2\n",
    "model.to(my_device)\n",
    "\n",
    "dataiter = iter(testloader)\n",
    "images, labels = dataiter.next()\n",
    "\n",
    "images = images.to(my_device)\n",
    "labels = labels.to(my_device)\n",
    "\n",
    "img = images[0]\n",
    "# Convert 2D image to 1D vector\n",
    "img = img.view(1, 784)\n",
    "\n",
    "# Calculate the class probabilities (softmax) for img\n",
    "with torch.no_grad():\n",
    "    model.eval()\n",
    "    output = model.forward(img)\n",
    "\n",
    "ps = torch.exp(output)\n",
    "\n",
    "# Plot the image and probabilities\n",
    "helper.view_classify(img.view(1, 28, 28).cpu(), ps.cpu(), version='Fashion')"
   ]
  },
  {
   "cell_type": "code",
   "execution_count": null,
   "metadata": {},
   "outputs": [],
   "source": []
  }
 ],
 "metadata": {
  "kernelspec": {
   "display_name": "Python 3 (ipykernel)",
   "language": "python",
   "name": "python3"
  },
  "language_info": {
   "codemirror_mode": {
    "name": "ipython",
    "version": 3
   },
   "file_extension": ".py",
   "mimetype": "text/x-python",
   "name": "python",
   "nbconvert_exporter": "python",
   "pygments_lexer": "ipython3",
   "version": "3.8.13"
  }
 },
 "nbformat": 4,
 "nbformat_minor": 2
}
