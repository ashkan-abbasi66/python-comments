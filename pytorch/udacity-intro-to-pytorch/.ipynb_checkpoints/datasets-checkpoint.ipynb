{
 "cells": [
  {
   "cell_type": "code",
   "execution_count": 1,
   "id": "ccf0473e",
   "metadata": {},
   "outputs": [],
   "source": [
    "# Import necessary packages\n",
    "\n",
    "%matplotlib inline\n",
    "%config InlineBackend.figure_format = 'retina'\n",
    "\n",
    "import numpy as np\n",
    "import torch\n",
    "\n",
    "import helper\n",
    "\n",
    "import matplotlib.pyplot as plt"
   ]
  },
  {
   "cell_type": "markdown",
   "id": "794adb2f",
   "metadata": {},
   "source": [
    "# Datasets in PyTorch\n",
    "\n",
    "With the objective to decouple the codes of loading/preprocessing data and training on data, there are two data primitives in PyTorch:\n",
    "- [`torch.usils.data.Dataset`]():  it stores the samples and their corresponding labels.\n",
    "- `torch.utils.data.DataLoader`:  It wraps an iterable around the Dataset to enable easy access to the samples.\n",
    "\n",
    "Pytorch has lots of pre-loaded datasets: You can find them here: [Image Datasets](https://pytorch.org/vision/stable/datasets.html), [Text Datasets](https://pytorch.org/text/stable/datasets.html), and [Audio Datasets](https://pytorch.org/audio/stable/datasets.html)"
   ]
  },
  {
   "cell_type": "code",
   "execution_count": 2,
   "id": "755d7cbd",
   "metadata": {},
   "outputs": [],
   "source": [
    "from torchvision import datasets, transforms\n",
    "\n",
    "# Define a transform to normalize the data\n",
    "transform = transforms.Compose([transforms.ToTensor(),\n",
    "                              transforms.Normalize((0.5,), (0.5,)),\n",
    "                              ])\n",
    "\n",
    "# Download and load the training data\n",
    "trainset = datasets.MNIST(root = '~/.pytorch/MNIST_data/', download=True, train=True, transform=transform) # target_transform\n",
    "trainloader = torch.utils.data.DataLoader(trainset, batch_size=64, shuffle=True)"
   ]
  },
  {
   "cell_type": "markdown",
   "id": "f13af8c5",
   "metadata": {},
   "source": [
    "`~/` means the user's home directory.\n",
    "\n",
    "For example:\n",
    "\n",
    "`~/.pytorch/MNIST_data/` ==> `C:\\Users\\ashkan/.pytorch/F_MNIST_data/`<br>\n",
    "`~/.keras/datasets` ==> `C:\\Users\\ashkan\\.keras\\datasets`<br>\n",
    "`~/Anaconda3` ==> `C:\\Users\\ashkan\\Anaconda3`<br>\n",
    "\n",
    "In Windows, only PowerShell recognizes this shortcut. "
   ]
  },
  {
   "cell_type": "markdown",
   "id": "c8e34b05",
   "metadata": {},
   "source": [
    "### The content of `torch.utils.data.Dataset`'s object can be accessed by indexing\n",
    "\n",
    "All datasets are subclasses of `torch.utils.data.Dataset` i.e, they have `__getitem__` and `__len__` methods implemented. \n",
    "\n",
    "The `__getitem__` function loads and returns a sample from the dataset at the given index."
   ]
  },
  {
   "cell_type": "code",
   "execution_count": 3,
   "id": "ce98f99e",
   "metadata": {},
   "outputs": [
    {
     "name": "stdout",
     "output_type": "stream",
     "text": [
      "torch.Size([1, 28, 28])\n",
      "5\n",
      "60000\n"
     ]
    }
   ],
   "source": [
    "image, label = trainset[0]\n",
    "print(image.shape)\n",
    "print(label)\n",
    "print(len(trainset))"
   ]
  },
  {
   "cell_type": "markdown",
   "id": "6894d30f",
   "metadata": {},
   "source": [
    "### Wrap an iteratable around Dataset object\n",
    "\n",
    "`trainloader` wraps an iterator around `trainset`. So, we can make an iterator with `iter(trainloader)`. Later, we'll use this to loop through the dataset for training, like\n",
    "\n",
    "```python\n",
    "for image, label in trainloader:\n",
    "    ## do things with images and labels\n",
    "```\n",
    "\n",
    "`torchvision.datasets.MNIST` is inherited from `torch.utils.data.Dataset`.\n",
    "\n",
    "In general, subclasses of `torch.utils.data.Dataset` can be passed to a `torch.utils.data.DataLoader` which can load multiple samples in parallel using `torch.multiprocessing` workers. \n",
    "\n",
    "\n",
    "For example:\n",
    "\n",
    "```python\n",
    "imagenet_data = torchvision.datasets.ImageNet('path/to/imagenet_root/')\n",
    "data_loader = torch.utils.data.DataLoader(imagenet_data,\n",
    "                                          batch_size=4,\n",
    "                                          shuffle=True,\n",
    "                                          num_workers=args.nThreads)\n",
    "```"
   ]
  },
  {
   "cell_type": "code",
   "execution_count": 4,
   "id": "051d908c",
   "metadata": {},
   "outputs": [
    {
     "name": "stdout",
     "output_type": "stream",
     "text": [
      "<class 'torch.Tensor'>\n",
      "torch.Size([64, 1, 28, 28])\n",
      "torch.Size([64])\n"
     ]
    }
   ],
   "source": [
    "dataiter = iter(trainloader) # iter(.): returns an iterator for the given object. \n",
    "# Note: The object should be iteratable.\n",
    "#       Most built-in containers in Python like: list, tuple, string etc. are iterables.\n",
    "\n",
    "images, labels = dataiter.next()\n",
    "print(type(images))\n",
    "print(images.shape)\n",
    "print(labels.shape)"
   ]
  },
  {
   "cell_type": "markdown",
   "id": "e1938074",
   "metadata": {},
   "source": [
    "### Transforms\n",
    "\n",
    "[ToTensor](https://pytorch.org/vision/stable/transforms.html#torchvision.transforms.ToTensor) Convert a PIL Image or numpy.ndarray (H x W x C) in the range [0, 255] to tensor (torch.FloatTensor of shape (C x H x W) in the range [0.0, 1.0]) - SCALING\n",
    "\n",
    "[Normalize](https://pytorch.org/vision/stable/transforms.html#torchvision.transforms.Normalize) a tensor image with the given mean and standard deviation. This transform does not support PIL Image.\n",
    "\n",
    "`transforms.Normalize` computes the following for each channel: \n",
    "$$image = \\frac{image - \\mu}{\\sigma}$$\n",
    "\n",
    "`transforms.Normalize((0.5,), (0.5,))` ==> \n",
    "It will normalize the image in the range [-1,1]. For example, the minimum value 0 will be converted to (0-0.5)/0.5=-1, the maximum value of 1 will be converted to (1-0.5)/0.5=1. You perform it with the hope that the distribution becomes nearly standard normal distribution with mean of 0 and a variance and standard deviation of 1."
   ]
  },
  {
   "cell_type": "markdown",
   "id": "6f8ba08d",
   "metadata": {},
   "source": [
    "This is what one of the images looks like. "
   ]
  },
  {
   "cell_type": "code",
   "execution_count": 5,
   "id": "056d607d",
   "metadata": {},
   "outputs": [
    {
     "name": "stdout",
     "output_type": "stream",
     "text": [
      "(1, 28, 28)\n",
      "(28, 28)\n",
      "(1, 28, 28)\n"
     ]
    }
   ],
   "source": [
    "print(images[1].numpy().shape) # unsqueeze\n",
    "print(images[1].numpy().squeeze().shape)\n",
    "print(np.expand_dims(images[1].numpy().squeeze(), axis = 0).shape)"
   ]
  },
  {
   "cell_type": "code",
   "execution_count": 6,
   "id": "2ef01679",
   "metadata": {
    "scrolled": false
   },
   "outputs": [
    {
     "data": {
      "image/png": "[encoded data removed]",
      "text/plain": [
       "<Figure size 432x288 with 1 Axes>"
      ]
     },
     "metadata": {
      "image/png": {
       "height": 248,
       "width": 251
      },
      "needs_background": "light"
     },
     "output_type": "display_data"
    }
   ],
   "source": [
    "plt.imshow(images[1].numpy().squeeze(), cmap=plt.cm.gray); # images[1,:,:,:]"
   ]
  },
  {
   "cell_type": "markdown",
   "id": "5f94f108",
   "metadata": {},
   "source": [
    "# Custom datasets"
   ]
  },
  {
   "cell_type": "markdown",
   "id": "48ceed0b",
   "metadata": {},
   "source": [
    "```python\n",
    "class CustomImageDataset(torch.utils.nn.Dataset):\n",
    "    def __init__(self, ...):\n",
    "        ...\n",
    "    def __len__(self):\n",
    "        ...\n",
    "    def __getiterm__(self, index):\n",
    "        ...\n",
    "```\n",
    "\n",
    "Example: \n",
    "    \n",
    "- [Dataset class](https://pytorch.org/tutorials/beginner/data_loading_tutorial.html#dataset-class)"
   ]
  },
  {
   "cell_type": "markdown",
   "id": "10977f3b",
   "metadata": {},
   "source": [
    "# More Readings"
   ]
  },
  {
   "cell_type": "markdown",
   "id": "f28376e6",
   "metadata": {},
   "source": [
    "- [DATASETS & DATALOADERS](https://pytorch.org/tutorials/beginner/basics/data_tutorial.html)\n",
    "- [TRANSFORMS](https://pytorch.org/tutorials/beginner/basics/transforms_tutorial.html#transforms)"
   ]
  },
  {
   "cell_type": "code",
   "execution_count": null,
   "id": "3669afb2",
   "metadata": {},
   "outputs": [],
   "source": []
  }
 ],
 "metadata": {
  "kernelspec": {
   "display_name": "Python 3",
   "language": "python",
   "name": "python3"
  },
  "language_info": {
   "codemirror_mode": {
    "name": "ipython",
    "version": 3
   },
   "file_extension": ".py",
   "mimetype": "text/x-python",
   "name": "python",
   "nbconvert_exporter": "python",
   "pygments_lexer": "ipython3",
   "version": "3.6.13"
  }
 },
 "nbformat": 4,
 "nbformat_minor": 5
}
