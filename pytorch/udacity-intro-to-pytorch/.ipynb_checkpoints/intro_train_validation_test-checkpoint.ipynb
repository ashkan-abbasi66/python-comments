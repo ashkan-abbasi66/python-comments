{
 "cells": [
  {
   "cell_type": "markdown",
   "id": "d623552f",
   "metadata": {},
   "source": [
    "Goal: train - test - validation"
   ]
  },
  {
   "cell_type": "markdown",
   "id": "f5c12479",
   "metadata": {},
   "source": [
    "https://medium.com/@amarbudhiraja/https-medium-com-amarbudhiraja-learning-less-to-learn-better-dropout-in-deep-machine-learning-74334da4bfc5"
   ]
  },
  {
   "cell_type": "markdown",
   "id": "b7872225",
   "metadata": {},
   "source": [
    "# Prepare Datasets"
   ]
  },
  {
   "cell_type": "code",
   "execution_count": 4,
   "id": "0227960a",
   "metadata": {},
   "outputs": [],
   "source": [
    "import torch\n",
    "from torchvision import datasets, transforms\n",
    "\n",
    "transform = transforms.Compose([\n",
    "    transforms.ToTensor(),\n",
    "    transforms.Normalize((0.5), (0.5)) # RGB (0.5,0.5,0.5)\n",
    "])\n",
    "\n"
   ]
  },
  {
   "cell_type": "code",
   "execution_count": 5,
   "id": "b7644d53",
   "metadata": {},
   "outputs": [
    {
     "name": "stdout",
     "output_type": "stream",
     "text": [
      "60000\n"
     ]
    }
   ],
   "source": [
    "trainset = datasets.FashionMNIST(root='~/.pytorch/F_MNIST_data', download = True, train = True, transform = transform)\n",
    "\n",
    "print(len(trainset))"
   ]
  },
  {
   "cell_type": "code",
   "execution_count": 6,
   "id": "ba452331",
   "metadata": {},
   "outputs": [],
   "source": [
    "N_train = 55000\n",
    "N_valid = 5000\n",
    "\n",
    "trainset, validset = torch.utils.data.random_split(trainset, [N_train, N_valid])\n",
    "\n",
    "testset = datasets.FashionMNIST(root='~/.pytorch/F_MNIST_data', download = True, train = False, transform = transform)"
   ]
  },
  {
   "cell_type": "code",
   "execution_count": 8,
   "id": "2d73ddb2",
   "metadata": {},
   "outputs": [
    {
     "name": "stdout",
     "output_type": "stream",
     "text": [
      "55000\n",
      "5000\n",
      "10000\n"
     ]
    }
   ],
   "source": [
    "print(len(trainset))\n",
    "print(len(validset))\n",
    "print(len(testset))"
   ]
  },
  {
   "cell_type": "code",
   "execution_count": 9,
   "id": "18bc9de9",
   "metadata": {},
   "outputs": [],
   "source": [
    "bs = 64\n",
    "\n",
    "trainloader = torch.utils.data.DataLoader(trainset, batch_size = bs, shuffle=True)\n",
    "validloader = torch.utils.data.DataLoader(validset, batch_size = bs, shuffle=False)\n",
    "testloader = torch.utils.data.DataLoader(testset, batch_size = bs, shuffle=False)"
   ]
  },
  {
   "cell_type": "code",
   "execution_count": 10,
   "id": "44d81922",
   "metadata": {},
   "outputs": [
    {
     "name": "stdout",
     "output_type": "stream",
     "text": [
      "860\n"
     ]
    }
   ],
   "source": [
    "print(len(trainloader)) # num. of batches"
   ]
  },
  {
   "cell_type": "markdown",
   "id": "9dc5b5c9",
   "metadata": {},
   "source": [
    "# Build Model"
   ]
  },
  {
   "cell_type": "code",
   "execution_count": 11,
   "id": "ccadd5eb",
   "metadata": {},
   "outputs": [],
   "source": [
    "from torch import nn, optim\n",
    "import torch.nn.functional as F"
   ]
  },
  {
   "cell_type": "code",
   "execution_count": 12,
   "id": "63ddad81",
   "metadata": {},
   "outputs": [],
   "source": [
    "class Classifier(nn.Module):\n",
    "    def __init__(self):\n",
    "        super().__init__()\n",
    "        self.fc1 = nn.Linear(784, 256)\n",
    "        self.fc2 = nn.Linear(256, 128)\n",
    "        self.fc3 = nn.Linear(128, 64)\n",
    "        self.fc4 = nn.Linear(64, 10)\n",
    "    \n",
    "    def forward(self, x):\n",
    "        x = x.view(x.shape[0], -1)\n",
    "        \n",
    "        x = F.relu(self.fc1(x))\n",
    "        x = F.relu(self.fc2(x))\n",
    "        x = F.relu(self.fc3(x))\n",
    "        x = self.fc4(x) # logits ===> CrossEntropyLoss\n",
    "        \n",
    "        x = F.log_softmax(x, dim=1)\n",
    "        \n",
    "        return x"
   ]
  },
  {
   "cell_type": "code",
   "execution_count": 15,
   "id": "eb246471",
   "metadata": {},
   "outputs": [],
   "source": [
    "model = Classifier()"
   ]
  },
  {
   "cell_type": "code",
   "execution_count": 16,
   "id": "8ee8793a",
   "metadata": {},
   "outputs": [
    {
     "name": "stdout",
     "output_type": "stream",
     "text": [
      "cuda\n"
     ]
    }
   ],
   "source": [
    "if torch.cuda.is_available():\n",
    "    my_device = torch.device('cuda')\n",
    "else:\n",
    "    my_device = torch.device('cpu')\n",
    "print(my_device)"
   ]
  },
  {
   "cell_type": "code",
   "execution_count": 17,
   "id": "4d3769db",
   "metadata": {},
   "outputs": [
    {
     "data": {
      "text/plain": [
       "Classifier(\n",
       "  (fc1): Linear(in_features=784, out_features=256, bias=True)\n",
       "  (fc2): Linear(in_features=256, out_features=128, bias=True)\n",
       "  (fc3): Linear(in_features=128, out_features=64, bias=True)\n",
       "  (fc4): Linear(in_features=64, out_features=10, bias=True)\n",
       ")"
      ]
     },
     "execution_count": 17,
     "metadata": {},
     "output_type": "execute_result"
    }
   ],
   "source": [
    "model.to(my_device)"
   ]
  },
  {
   "cell_type": "code",
   "execution_count": 18,
   "id": "e602f40b",
   "metadata": {},
   "outputs": [],
   "source": [
    "criterion = nn.NLLLoss()"
   ]
  },
  {
   "cell_type": "code",
   "execution_count": 19,
   "id": "35f63c12",
   "metadata": {},
   "outputs": [],
   "source": [
    "optimizer = optim.Adam(model.parameters(), lr = 0.003) # for each param, it holds one learning rate. "
   ]
  },
  {
   "cell_type": "markdown",
   "id": "d7b097a6",
   "metadata": {},
   "source": [
    "# Train netwrok"
   ]
  },
  {
   "cell_type": "code",
   "execution_count": 30,
   "id": "6569c56e",
   "metadata": {},
   "outputs": [],
   "source": [
    "def train_loop(trainloader, model, criterion, optimizer):\n",
    "    \n",
    "    running_loss = 0\n",
    "    \n",
    "    for images, labels in trainloader:\n",
    "        \n",
    "        images = images.to(my_device)\n",
    "        labels = labels.to(my_device)\n",
    "        \n",
    "        optimizer.zero_grad()\n",
    "        \n",
    "        log_ps = model(images) # ps = torch.exp(log_ps)\n",
    "        \n",
    "        loss = criterion(log_ps, labels)\n",
    "        \n",
    "        running_loss +=loss.item()\n",
    "        \n",
    "        loss.backward()\n",
    "        \n",
    "        optimizer.step()\n",
    "    \n",
    "    train_loss = running_loss / len(trainloader.dataset)\n",
    "    \n",
    "    return train_loss"
   ]
  },
  {
   "cell_type": "code",
   "execution_count": 31,
   "id": "63668681",
   "metadata": {},
   "outputs": [],
   "source": [
    "def test_loop(testloader, model, criterion):\n",
    "    running_loss = 0\n",
    "    \n",
    "    test_correct = 0 # number of correct predictions\n",
    "    \n",
    "    with torch.no_grad():\n",
    "        for images, labels in testloader:\n",
    "            \n",
    "            images = images.to(my_device)\n",
    "            labels = labels.to(my_device)\n",
    "            \n",
    "            log_ps = model(images) # ps = torch.exp(log_ps)\n",
    "            \n",
    "            loss = criterion(log_ps, labels)\n",
    "            \n",
    "            running_loss +=loss.item()\n",
    "            \n",
    "            ps = torch.exp(log_ps) # probabilities for each class\n",
    "            top_p, top_class = ps.topk(1, dim=1)\n",
    "            \n",
    "            equals = top_class == labels.view(*top_class.shape) # labels ==> [64,]  64*1\n",
    "            \n",
    "            test_correct += equals.sum().item()\n",
    "    \n",
    "    test_loss = running_loss / len(testloader.dataset)\n",
    "    test_acc = test_correct / len(testloader.dataset)\n",
    "    \n",
    "    return test_loss, test_acc"
   ]
  },
  {
   "cell_type": "code",
   "execution_count": 32,
   "id": "55bac560",
   "metadata": {
    "scrolled": true
   },
   "outputs": [
    {
     "name": "stdout",
     "output_type": "stream",
     "text": [
      "Epoch: 1/10 .. Training loss: 0.006 ..  Valid loss: 0.006 ..  Valid Accuracy: 0.875 .. \n",
      "Epoch: 2/10 .. Training loss: 0.005 ..  Valid loss: 0.006 ..  Valid Accuracy: 0.869 .. \n",
      "Epoch: 3/10 .. Training loss: 0.005 ..  Valid loss: 0.006 ..  Valid Accuracy: 0.873 .. \n",
      "Epoch: 4/10 .. Training loss: 0.005 ..  Valid loss: 0.006 ..  Valid Accuracy: 0.876 .. \n",
      "Epoch: 5/10 .. Training loss: 0.005 ..  Valid loss: 0.006 ..  Valid Accuracy: 0.879 .. \n",
      "Epoch: 6/10 .. Training loss: 0.004 ..  Valid loss: 0.005 ..  Valid Accuracy: 0.885 .. \n",
      "Epoch: 7/10 .. Training loss: 0.004 ..  Valid loss: 0.006 ..  Valid Accuracy: 0.881 .. \n",
      "Epoch: 8/10 .. Training loss: 0.004 ..  Valid loss: 0.006 ..  Valid Accuracy: 0.886 .. \n",
      "Epoch: 9/10 .. Training loss: 0.004 ..  Valid loss: 0.005 ..  Valid Accuracy: 0.891 .. \n",
      "Epoch: 10/10 .. Training loss: 0.004 ..  Valid loss: 0.006 ..  Valid Accuracy: 0.885 .. \n"
     ]
    }
   ],
   "source": [
    "epochs = 10 # epochs = 60 \n",
    "\n",
    "train_losses, valid_losses = [], []\n",
    "\n",
    "for e in range(epochs):\n",
    "    train_loss = train_loop(trainloader, model, criterion, optimizer)\n",
    "    \n",
    "    # validation\n",
    "    valid_loss, valid_acc = test_loop(validloader, model, criterion)\n",
    "    \n",
    "    train_losses.append(train_loss)\n",
    "    valid_losses.append(valid_loss)\n",
    "    \n",
    "    print(\"Epoch: {}/{} ..\".format(e + 1, epochs), \n",
    "          \"Training loss: {:.3f} .. \".format(train_loss),\n",
    "          \"Valid loss: {:.3f} .. \".format(valid_loss),\n",
    "          \"Valid Accuracy: {:.3f} .. \".format(valid_acc),\n",
    "         )"
   ]
  },
  {
   "cell_type": "markdown",
   "id": "184d2e94",
   "metadata": {},
   "source": [
    "**Expected accuracy on validation set after around 60 epochs = 0.885**"
   ]
  },
  {
   "cell_type": "code",
   "execution_count": 34,
   "id": "80a91b92",
   "metadata": {},
   "outputs": [],
   "source": [
    "import matplotlib.pyplot as plt"
   ]
  },
  {
   "cell_type": "code",
   "execution_count": 35,
   "id": "a3445c67",
   "metadata": {},
   "outputs": [
    {
     "data": {
      "text/plain": [
       "[<matplotlib.lines.Line2D at 0x21538c20dc0>]"
      ]
     },
     "execution_count": 35,
     "metadata": {},
     "output_type": "execute_result"
    },
    {
     "data": {
      "image/png": "[encoded data removed]",
      "text/plain": [
       "<Figure size 432x288 with 1 Axes>"
      ]
     },
     "metadata": {
      "needs_background": "light"
     },
     "output_type": "display_data"
    }
   ],
   "source": [
    "plt.plot(train_losses, label = \"Training loss\")\n",
    "plt.plot(valid_losses, label = \"Validation loss\")\n"
   ]
  },
  {
   "cell_type": "markdown",
   "id": "c7bd109c",
   "metadata": {},
   "source": [
    "# Reduce overfitting through Early Stopping and Dropout"
   ]
  },
  {
   "cell_type": "code",
   "execution_count": null,
   "id": "8f4c5df5",
   "metadata": {},
   "outputs": [],
   "source": [
    "class Classifier_with_dropout(nn.Module):\n",
    "    def __init__(self):\n",
    "        super().__init__()\n",
    "        self.fc1 = nn.Linear(784, 256)\n",
    "        self.fc2 = nn.Linear(256, 128)\n",
    "        self.fc3 = nn.Linear(128, 64)\n",
    "        self.fc4 = nn.Linear(64, 10)\n",
    "        \n",
    "        self.dropout = nn.Dropout(p = 0.2) # hyper-parameter\n",
    "    \n",
    "    def forward(self, x):\n",
    "        x = x.view(x.shape[0], -1)\n",
    "        \n",
    "        x = F.relu(self.fc1(x))\n",
    "        x = F.relu(self.fc2(x))\n",
    "        x = F.relu(self.fc3(x))\n",
    "        x = self.fc4(x) # logits ===> CrossEntropyLoss\n",
    "        \n",
    "        x = F.log_softmax(x, dim=1)\n",
    "        \n",
    "        return x"
   ]
  }
 ],
 "metadata": {
  "kernelspec": {
   "display_name": "Python 3 (ipykernel)",
   "language": "python",
   "name": "python3"
  },
  "language_info": {
   "codemirror_mode": {
    "name": "ipython",
    "version": 3
   },
   "file_extension": ".py",
   "mimetype": "text/x-python",
   "name": "python",
   "nbconvert_exporter": "python",
   "pygments_lexer": "ipython3",
   "version": "3.8.13"
  }
 },
 "nbformat": 4,
 "nbformat_minor": 5
}
