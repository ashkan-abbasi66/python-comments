{
 "cells": [
  {
   "cell_type": "markdown",
   "id": "7fb64a36",
   "metadata": {},
   "source": [
    "# Loss functions\n",
    "\n",
    "In PyTorch, we pass the raw output of our network into the loss, not the output of the softmax function. This raw output is usually called the *logits* or *scores*. \n",
    "\n",
    "We use the logits because softmax gives you probabilities which will often be very close to zero or one but floating-point numbers can't accurately represent values near zero or one ([read more here](https://docs.python.org/3/tutorial/floatingpoint.html). It's usually best to avoid doing calculations with probabilities, typically we use log-probabilities.\n",
    "\n",
    "**Note:** In Tensorflow/Keras, we have `tf.keras.losses.CategoricalCrossentropy(from_logits=False)`. \n",
    "- When softmax is used in your model, use `from_logits=False`\n",
    "- When softmax is not applied in your model (i.e., your model outputs logits), use `from_logits=True`.\n",
    "\n",
    "The second option (`from_logits=True`), which combines the computation of softmax and loss, is more effective in terms of numerical stability. \n",
    "\n",
    "In PyTorch, `nn.CrossEntropyLoss` expects logits."
   ]
  },
  {
   "cell_type": "markdown",
   "id": "f148b4f7",
   "metadata": {},
   "source": [
    "## Example of `nn.CrossEntropyLoss`\n",
    "\n",
    "`nn.CrossEntropyLoss`: The input is expected to contain raw, unnormalized scores for each class"
   ]
  },
  {
   "cell_type": "code",
   "execution_count": 5,
   "id": "c4202147",
   "metadata": {
    "scrolled": true
   },
   "outputs": [
    {
     "name": "stdout",
     "output_type": "stream",
     "text": [
      "tensor(0.8991, grad_fn=<NllLossBackward>)\n"
     ]
    }
   ],
   "source": [
    "import torch\n",
    "from torch import nn\n",
    "\n",
    "# Assume that we have three examples. And, our network outputs 5 numbers for each example.\n",
    "output = torch.randn(3, 5, requires_grad=True) # logits\n",
    "# Assume that the labels of these examples are numeric (they are class indices)\n",
    "target = torch.tensor([1, 0, 4])\n",
    "\n",
    "print(nn.CrossEntropyLoss()(output, target)) # logits and labels"
   ]
  },
  {
   "cell_type": "code",
   "execution_count": 6,
   "id": "d8dfa9fa",
   "metadata": {
    "scrolled": true
   },
   "outputs": [
    {
     "name": "stdout",
     "output_type": "stream",
     "text": [
      "torch.float32\n",
      "torch.int64\n"
     ]
    }
   ],
   "source": [
    "print(output.dtype)\n",
    "print(target.dtype)"
   ]
  },
  {
   "cell_type": "markdown",
   "id": "acc24f5a",
   "metadata": {},
   "source": [
    "## Example of `nn.LogSoftmax`"
   ]
  },
  {
   "cell_type": "code",
   "execution_count": 7,
   "id": "1729537e",
   "metadata": {},
   "outputs": [
    {
     "name": "stdout",
     "output_type": "stream",
     "text": [
      "tensor([[-2.6232, -0.8465, -3.1938, -0.8882, -3.0773],\n",
      "        [-0.7772, -1.8745, -2.8865, -1.3734, -2.5527],\n",
      "        [-3.0232, -3.1845, -1.2186, -2.4182, -0.6439]],\n",
      "       grad_fn=<LogSoftmaxBackward>)\n",
      "tensor([[0.0726, 0.4289, 0.0410, 0.4114, 0.0461],\n",
      "        [0.4597, 0.1534, 0.0558, 0.2532, 0.0779],\n",
      "        [0.0486, 0.0414, 0.2957, 0.0891, 0.5252]], grad_fn=<ExpBackward>)\n"
     ]
    }
   ],
   "source": [
    "last_layer_outputs = torch.randn(3, 5, requires_grad=True)\n",
    "outputs = nn.LogSoftmax(dim=1)(last_layer_outputs) # m = 3 samples, each has n = 5 features\n",
    "# This is in the form of one-hot encoded outputs, but with log softmax\n",
    "print(outputs)\n",
    "# We can convert those scores into a proper one-hot encoded vectors\n",
    "print(torch.exp(outputs))"
   ]
  },
  {
   "cell_type": "code",
   "execution_count": 8,
   "id": "c562e040",
   "metadata": {
    "scrolled": false
   },
   "outputs": [
    {
     "name": "stdout",
     "output_type": "stream",
     "text": [
      "tensor(0.7559, grad_fn=<NllLossBackward>)\n",
      "Probabilities: tensor([[0.0726, 0.4289, 0.0410, 0.4114, 0.0461],\n",
      "        [0.4597, 0.1534, 0.0558, 0.2532, 0.0779],\n",
      "        [0.0486, 0.0414, 0.2957, 0.0891, 0.5252]], grad_fn=<ExpBackward>)\n"
     ]
    }
   ],
   "source": [
    "target = torch.tensor([1, 0, 4]) # target values for each sample\n",
    "\n",
    "print(nn.NLLLoss()(outputs, target)) # logSoftmax and labels\n",
    "\n",
    "# You can get the probabilities using the exponential function:\n",
    "print(\"Probabilities:\", torch.exp(outputs))"
   ]
  },
  {
   "cell_type": "markdown",
   "id": "6bb3eef1",
   "metadata": {},
   "source": [
    "Note: \n",
    "\n",
    "In fact, `nn.CrossEntropyLoss()` combines `nn.LogSoftmax()` (log(softmax(x))) and `nn.NLLLoss()` in one single class. Therefore, the output from the network that is passed into `nn.CrossEntropyLoss` needs to be the raw output of the network (called logits), not the output of the softmax function."
   ]
  },
  {
   "cell_type": "markdown",
   "id": "b48f50b9",
   "metadata": {},
   "source": [
    "## Use `nn.LogSoftmax` to define a model and train it"
   ]
  },
  {
   "cell_type": "code",
   "execution_count": 1,
   "id": "d73d5533",
   "metadata": {},
   "outputs": [],
   "source": [
    "import torch\n",
    "from torch import nn\n",
    "from torch import optim\n",
    "\n",
    "import torch.nn.functional as F\n",
    "from torchvision import datasets, transforms"
   ]
  },
  {
   "cell_type": "markdown",
   "id": "eb769837",
   "metadata": {},
   "source": [
    "### Prepare dataset"
   ]
  },
  {
   "cell_type": "code",
   "execution_count": 3,
   "id": "0100469f",
   "metadata": {},
   "outputs": [],
   "source": [
    "# Define a transform to normalize the data\n",
    "transform = transforms.Compose([transforms.ToTensor(),\n",
    "                                transforms.Normalize((0.5,), (0.5,)),\n",
    "                              ])\n",
    "# Download and load the training data\n",
    "trainset = datasets.MNIST('~/.pytorch/MNIST_data/', download=True, train=True, transform=transform)\n",
    "trainloader = torch.utils.data.DataLoader(trainset, batch_size=64, shuffle=True)"
   ]
  },
  {
   "cell_type": "code",
   "execution_count": 4,
   "id": "48643ce8",
   "metadata": {},
   "outputs": [
    {
     "name": "stdout",
     "output_type": "stream",
     "text": [
      "938\n",
      "60000\n"
     ]
    }
   ],
   "source": [
    "print(len(trainloader))\n",
    "print(len(trainloader.dataset))"
   ]
  },
  {
   "cell_type": "markdown",
   "id": "32a3f0b1",
   "metadata": {},
   "source": [
    "### Define the model"
   ]
  },
  {
   "cell_type": "code",
   "execution_count": 6,
   "id": "a65f6821",
   "metadata": {
    "scrolled": true
   },
   "outputs": [
    {
     "name": "stdout",
     "output_type": "stream",
     "text": [
      "Training loss: 1.8840012865066529\n",
      "Training loss: 0.8314543878237406\n",
      "Training loss: 0.515946289173762\n",
      "Training loss: 0.4211969321568807\n",
      "Training loss: 0.3788894084135691\n"
     ]
    }
   ],
   "source": [
    "model = nn.Sequential(nn.Linear(784, 128),\n",
    "                      nn.ReLU(),\n",
    "                      nn.Linear(128, 64),\n",
    "                      nn.ReLU(),\n",
    "                      nn.Linear(64, 10),\n",
    "                      nn.LogSoftmax(dim=1)) #### you can also use \"F.log_softmax\"\n",
    "\n",
    "criterion = nn.NLLLoss() # By default, reduction = 'mean'. \n",
    "# Hence, loss.item() contains the loss of entire mini-batch, but divided by the batch size.\n",
    "\n",
    "optimizer = optim.SGD(model.parameters(), lr=0.003)\n",
    "\n",
    "epochs = 5\n",
    "for e in range(epochs):\n",
    "    running_loss = 0\n",
    "    for images, labels in trainloader:\n",
    "        # Flatten MNIST images into a 784 long vector\n",
    "        images = images.view(images.shape[0], -1)\n",
    "    \n",
    "        optimizer.zero_grad()\n",
    "        \n",
    "        output = model(images)\n",
    "        loss = criterion(output, labels)\n",
    "        loss.backward()\n",
    "        optimizer.step()\n",
    "        \n",
    "        running_loss += loss.item()*images.shape[0]\n",
    "    else:\n",
    "        print(f\"Training loss: {running_loss/len(trainloader.dataset)}\")"
   ]
  },
  {
   "cell_type": "code",
   "execution_count": null,
   "id": "deb82c4b",
   "metadata": {},
   "outputs": [],
   "source": []
  }
 ],
 "metadata": {
  "kernelspec": {
   "display_name": "Python 3 (ipykernel)",
   "language": "python",
   "name": "python3"
  },
  "language_info": {
   "codemirror_mode": {
    "name": "ipython",
    "version": 3
   },
   "file_extension": ".py",
   "mimetype": "text/x-python",
   "name": "python",
   "nbconvert_exporter": "python",
   "pygments_lexer": "ipython3",
   "version": "3.8.13"
  }
 },
 "nbformat": 4,
 "nbformat_minor": 5
}
