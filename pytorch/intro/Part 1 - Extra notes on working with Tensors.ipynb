{
 "cells": [
  {
   "cell_type": "code",
   "execution_count": 1,
   "id": "f7e84f28-88b7-4991-a868-ab83ef885a60",
   "metadata": {},
   "outputs": [],
   "source": [
    "import torch"
   ]
  },
  {
   "cell_type": "markdown",
   "id": "9ba94db7-a9d4-4da6-acf4-b66bf1e47179",
   "metadata": {},
   "source": [
    "# Convert a vector of numbers to a matrix by repeating elements"
   ]
  },
  {
   "cell_type": "code",
   "execution_count": 2,
   "id": "d68eb5c0-b0bd-464b-9b7c-1cb2e816b097",
   "metadata": {},
   "outputs": [
    {
     "name": "stdout",
     "output_type": "stream",
     "text": [
      "tensor([0, 1, 2, 3, 4])\n"
     ]
    }
   ],
   "source": [
    "a = torch.arange(5)\n",
    "print(a)"
   ]
  },
  {
   "cell_type": "code",
   "execution_count": 3,
   "id": "8e99d8fc-c50f-4f80-9414-99c7179c71cb",
   "metadata": {},
   "outputs": [
    {
     "data": {
      "text/plain": [
       "torch.Size([5])"
      ]
     },
     "execution_count": 3,
     "metadata": {},
     "output_type": "execute_result"
    }
   ],
   "source": [
    "a.shape"
   ]
  },
  {
   "cell_type": "markdown",
   "id": "ea1fa0f7-0fd9-49c6-9c44-0b415cbcff1f",
   "metadata": {},
   "source": [
    "## The first way \n",
    "\n",
    "Let's make a 5 x 4 matrix with these elements repeated in each row."
   ]
  },
  {
   "cell_type": "code",
   "execution_count": 4,
   "id": "ab4b55c2-3d00-4b57-a164-e7d06752a0a5",
   "metadata": {},
   "outputs": [
    {
     "name": "stdout",
     "output_type": "stream",
     "text": [
      "torch.Size([5, 4])\n"
     ]
    }
   ],
   "source": [
    "t = a.view((5,1)).expand(-1, 4)\n",
    "print(t.shape)"
   ]
  },
  {
   "cell_type": "markdown",
   "id": "6f5f2ec9-754e-441f-b853-849e30e0e183",
   "metadata": {},
   "source": [
    "`expand` can expand a singleton dimension."
   ]
  },
  {
   "cell_type": "code",
   "execution_count": 5,
   "id": "9867e711-2b0e-476a-81a0-e2cb7cdbe9ff",
   "metadata": {
    "scrolled": true
   },
   "outputs": [
    {
     "name": "stdout",
     "output_type": "stream",
     "text": [
      "tensor([[0, 0, 0, 0],\n",
      "        [1, 1, 1, 1],\n",
      "        [2, 2, 2, 2],\n",
      "        [3, 3, 3, 3],\n",
      "        [4, 4, 4, 4]])\n"
     ]
    }
   ],
   "source": [
    "print(t)"
   ]
  },
  {
   "cell_type": "code",
   "execution_count": 6,
   "id": "977a2e66-5eb7-40c5-ad55-4c2d88cc552c",
   "metadata": {},
   "outputs": [
    {
     "name": "stdout",
     "output_type": "stream",
     "text": [
      "torch.Size([1, 5, 4])\n"
     ]
    }
   ],
   "source": [
    "t = t.unsqueeze(0)\n",
    "print(t.shape)"
   ]
  },
  {
   "cell_type": "markdown",
   "id": "ef25ac37-cab2-482a-8dc1-532d66fbf3e5",
   "metadata": {},
   "source": [
    "## The second way"
   ]
  },
  {
   "cell_type": "code",
   "execution_count": 7,
   "id": "7af05e4c-fdcd-471c-b026-d15c4ce5275c",
   "metadata": {},
   "outputs": [
    {
     "name": "stdout",
     "output_type": "stream",
     "text": [
      "torch.Size([5, 4])\n"
     ]
    }
   ],
   "source": [
    "r = torch.tile(a.view((5,1)), (1, 4))\n",
    "print(r.shape)"
   ]
  },
  {
   "cell_type": "code",
   "execution_count": 8,
   "id": "945ad260-b8ec-4a4d-90dc-cbb33354b350",
   "metadata": {},
   "outputs": [
    {
     "name": "stdout",
     "output_type": "stream",
     "text": [
      "tensor([[0, 0, 0, 0],\n",
      "        [1, 1, 1, 1],\n",
      "        [2, 2, 2, 2],\n",
      "        [3, 3, 3, 3],\n",
      "        [4, 4, 4, 4]])\n"
     ]
    }
   ],
   "source": [
    "print(r)"
   ]
  },
  {
   "cell_type": "code",
   "execution_count": null,
   "id": "857b87c2-b841-413e-abcb-d1dd36ebf11a",
   "metadata": {},
   "outputs": [],
   "source": []
  }
 ],
 "metadata": {
  "kernelspec": {
   "display_name": "Python 3 (ipykernel)",
   "language": "python",
   "name": "python3"
  },
  "language_info": {
   "codemirror_mode": {
    "name": "ipython",
    "version": 3
   },
   "file_extension": ".py",
   "mimetype": "text/x-python",
   "name": "python",
   "nbconvert_exporter": "python",
   "pygments_lexer": "ipython3",
   "version": "3.8.18"
  }
 },
 "nbformat": 4,
 "nbformat_minor": 5
}
