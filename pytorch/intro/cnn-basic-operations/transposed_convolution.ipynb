{
 "cells": [
  {
   "cell_type": "code",
   "execution_count": 1,
   "id": "7fcffea0",
   "metadata": {},
   "outputs": [],
   "source": [
    "import torch\n",
    "import torch.nn as nn"
   ]
  },
  {
   "cell_type": "markdown",
   "id": "c31bf12e",
   "metadata": {},
   "source": [
    "Pad the input:"
   ]
  },
  {
   "cell_type": "code",
   "execution_count": 2,
   "id": "b519fafc",
   "metadata": {
    "scrolled": false
   },
   "outputs": [],
   "source": [
    "inp = torch.ones(1, 1, 3, 3)\n",
    "\n",
    "k = (2, 2)   # Size of the convolving kernel\n",
    "s = (2, 2)   # Stride for the cross-correlation\n",
    "p = (0, 0)   # zero-padding will be added to both sides of each dimension in the input.\n",
    "tc = nn.ConvTranspose2d(1, 1, kernel_size=k, stride=s, padding=p)\n",
    "tc.weight.data.copy_(torch.ones(1, 1, 2, 2))\n",
    "tc.bias.data = torch.zeros(1)"
   ]
  },
  {
   "cell_type": "markdown",
   "id": "7d3b646b",
   "metadata": {},
   "source": [
    "Note: `dilation * (kernel_size - 1) - padding` number of zeros (Here, 1*(2-1)-0=1)<br> will be added to both sides of each dimension in the input."
   ]
  },
  {
   "cell_type": "code",
   "execution_count": 3,
   "id": "79b481cb",
   "metadata": {
    "scrolled": true
   },
   "outputs": [
    {
     "name": "stdout",
     "output_type": "stream",
     "text": [
      "tensor([[[[1., 1., 1., 1., 1., 1.],\n",
      "          [1., 1., 1., 1., 1., 1.],\n",
      "          [1., 1., 1., 1., 1., 1.],\n",
      "          [1., 1., 1., 1., 1., 1.],\n",
      "          [1., 1., 1., 1., 1., 1.],\n",
      "          [1., 1., 1., 1., 1., 1.]]]], grad_fn=<ConvolutionBackward0>)\n",
      "torch.Size([1, 1, 6, 6])\n"
     ]
    }
   ],
   "source": [
    "print(tc(inp))\n",
    "print(tc(inp).shape)"
   ]
  },
  {
   "cell_type": "code",
   "execution_count": 4,
   "id": "17390d05",
   "metadata": {},
   "outputs": [
    {
     "name": "stdout",
     "output_type": "stream",
     "text": [
      "tensor([[[[4., 4., 4.],\n",
      "          [4., 4., 4.],\n",
      "          [4., 4., 4.]]]], grad_fn=<ConvolutionBackward0>)\n",
      "torch.Size([1, 1, 3, 3])\n"
     ]
    }
   ],
   "source": [
    "c = nn.Conv2d(1, 1, kernel_size=k, stride=s, padding=p)\n",
    "c.weight.data.copy_(torch.ones(1, 1, 2, 2))\n",
    "c.bias.data = torch.zeros(1)\n",
    "\n",
    "print(c(tc(inp)))\n",
    "print(c(tc(inp)).shape)"
   ]
  },
  {
   "cell_type": "code",
   "execution_count": null,
   "id": "d7e8a40d",
   "metadata": {},
   "outputs": [],
   "source": []
  },
  {
   "cell_type": "markdown",
   "id": "f59527e3",
   "metadata": {},
   "source": [
    "We can also pad the output:"
   ]
  },
  {
   "cell_type": "code",
   "execution_count": 5,
   "id": "8f5542b4",
   "metadata": {},
   "outputs": [],
   "source": [
    "inp = torch.randn(1, 1, 2, 2)"
   ]
  },
  {
   "cell_type": "code",
   "execution_count": 6,
   "id": "78a8eb8a",
   "metadata": {},
   "outputs": [],
   "source": [
    "k = (3, 3)   # Size of the convolving kernel\n",
    "s = (2, 2)   # Stride for the cross-correlation\n",
    "op = (1, 1)  # The additional size added to one side of each dimension in the output\n",
    "tc = nn.ConvTranspose2d(1, 1, kernel_size=k, stride=s, output_padding=op)"
   ]
  },
  {
   "cell_type": "code",
   "execution_count": 7,
   "id": "708e9a78",
   "metadata": {},
   "outputs": [],
   "source": [
    "out = tc(inp)"
   ]
  },
  {
   "cell_type": "code",
   "execution_count": 8,
   "id": "b8f6d44a",
   "metadata": {
    "scrolled": true
   },
   "outputs": [
    {
     "data": {
      "text/plain": [
       "torch.Size([1, 1, 6, 6])"
      ]
     },
     "execution_count": 8,
     "metadata": {},
     "output_type": "execute_result"
    }
   ],
   "source": [
    "out.shape"
   ]
  },
  {
   "cell_type": "code",
   "execution_count": null,
   "id": "97532aea",
   "metadata": {},
   "outputs": [],
   "source": []
  }
 ],
 "metadata": {
  "kernelspec": {
   "display_name": "Python 3 (ipykernel)",
   "language": "python",
   "name": "python3"
  },
  "language_info": {
   "codemirror_mode": {
    "name": "ipython",
    "version": 3
   },
   "file_extension": ".py",
   "mimetype": "text/x-python",
   "name": "python",
   "nbconvert_exporter": "python",
   "pygments_lexer": "ipython3",
   "version": "3.8.13"
  }
 },
 "nbformat": 4,
 "nbformat_minor": 5
}
