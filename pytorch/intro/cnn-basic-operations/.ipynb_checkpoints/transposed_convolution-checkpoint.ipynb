{
 "cells": [
  {
   "cell_type": "code",
   "execution_count": 21,
   "id": "7fcffea0",
   "metadata": {},
   "outputs": [],
   "source": [
    "import torch\n",
    "import torch.nn as nn"
   ]
  },
  {
   "cell_type": "code",
   "execution_count": 22,
   "id": "8f5542b4",
   "metadata": {},
   "outputs": [],
   "source": [
    "inp = torch.randn(1, 3, 2, 2)"
   ]
  },
  {
   "cell_type": "markdown",
   "id": "f59527e3",
   "metadata": {},
   "source": [
    "Pad the output:"
   ]
  },
  {
   "cell_type": "code",
   "execution_count": 23,
   "id": "78a8eb8a",
   "metadata": {},
   "outputs": [],
   "source": [
    "k = (3, 3)   # Size of the convolving kernel\n",
    "s = (2, 2)   # Stride for the cross-correlation\n",
    "op = (1, 1)  # The additional size added to one side of each dimension in the output\n",
    "convT = nn.ConvTranspose2d(3, 1, kernel_size=k, stride=s, output_padding=op)"
   ]
  },
  {
   "cell_type": "code",
   "execution_count": 24,
   "id": "708e9a78",
   "metadata": {},
   "outputs": [],
   "source": [
    "out = convT(inp)"
   ]
  },
  {
   "cell_type": "code",
   "execution_count": 25,
   "id": "b8f6d44a",
   "metadata": {
    "scrolled": true
   },
   "outputs": [
    {
     "data": {
      "text/plain": [
       "torch.Size([1, 1, 6, 6])"
      ]
     },
     "execution_count": 25,
     "metadata": {},
     "output_type": "execute_result"
    }
   ],
   "source": [
    "out.shape"
   ]
  },
  {
   "cell_type": "markdown",
   "id": "c31bf12e",
   "metadata": {},
   "source": [
    "Pad the input:"
   ]
  },
  {
   "cell_type": "code",
   "execution_count": 37,
   "id": "79b481cb",
   "metadata": {},
   "outputs": [],
   "source": [
    "p = (1, 1) # zero-padding will be added to both sides of each dimension in the input.\n",
    "convT2 = nn.ConvTranspose2d(3, 1, kernel_size=k, stride=s, padding=p)"
   ]
  },
  {
   "cell_type": "code",
   "execution_count": 38,
   "id": "17390d05",
   "metadata": {},
   "outputs": [],
   "source": [
    "out2 = convT2(inp)"
   ]
  },
  {
   "cell_type": "code",
   "execution_count": 39,
   "id": "a73b789a",
   "metadata": {},
   "outputs": [
    {
     "data": {
      "text/plain": [
       "torch.Size([1, 1, 3, 3])"
      ]
     },
     "execution_count": 39,
     "metadata": {},
     "output_type": "execute_result"
    }
   ],
   "source": [
    "out2.shape"
   ]
  },
  {
   "cell_type": "markdown",
   "id": "4c5b269d",
   "metadata": {},
   "source": [
    "dilation * (kernel_size - 1) - padding"
   ]
  },
  {
   "cell_type": "markdown",
   "id": "1854edc6",
   "metadata": {},
   "source": [
    "1*(3-1)-1=1"
   ]
  },
  {
   "cell_type": "markdown",
   "id": "559766a7",
   "metadata": {},
   "source": [
    "The padding argument effectively adds dilation * (kernel_size - 1) - padding amount of zero padding to both sizes of the input. "
   ]
  },
  {
   "cell_type": "code",
   "execution_count": null,
   "id": "d7e8a40d",
   "metadata": {},
   "outputs": [],
   "source": []
  }
 ],
 "metadata": {
  "kernelspec": {
   "display_name": "Python 3 (ipykernel)",
   "language": "python",
   "name": "python3"
  },
  "language_info": {
   "codemirror_mode": {
    "name": "ipython",
    "version": 3
   },
   "file_extension": ".py",
   "mimetype": "text/x-python",
   "name": "python",
   "nbconvert_exporter": "python",
   "pygments_lexer": "ipython3",
   "version": "3.8.13"
  }
 },
 "nbformat": 4,
 "nbformat_minor": 5
}
