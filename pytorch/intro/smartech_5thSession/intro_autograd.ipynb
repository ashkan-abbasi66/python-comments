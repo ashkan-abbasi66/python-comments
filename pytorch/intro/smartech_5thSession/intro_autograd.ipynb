{
 "cells": [
  {
   "cell_type": "markdown",
   "id": "e62efdbc",
   "metadata": {},
   "source": [
    "# simple `autograd` example"
   ]
  },
  {
   "cell_type": "code",
   "execution_count": 1,
   "id": "01ad8e0b",
   "metadata": {},
   "outputs": [],
   "source": [
    "import torch"
   ]
  },
  {
   "cell_type": "code",
   "execution_count": 2,
   "id": "b9d7ffc7",
   "metadata": {},
   "outputs": [
    {
     "name": "stdout",
     "output_type": "stream",
     "text": [
      "tensor([1., 2., 3.])\n"
     ]
    }
   ],
   "source": [
    "y = torch.tensor([1., 2., 3.])\n",
    "# y.requires_grad_(True)\n",
    "print(y)"
   ]
  },
  {
   "cell_type": "code",
   "execution_count": 3,
   "id": "2c72948e",
   "metadata": {},
   "outputs": [
    {
     "name": "stdout",
     "output_type": "stream",
     "text": [
      "tensor([1., 2., 3.], requires_grad=True)\n"
     ]
    }
   ],
   "source": [
    "y = torch.tensor([1., 2., 3.], requires_grad=True) # \n",
    "print(y)"
   ]
  },
  {
   "cell_type": "code",
   "execution_count": 4,
   "id": "900293ee",
   "metadata": {},
   "outputs": [
    {
     "name": "stdout",
     "output_type": "stream",
     "text": [
      "tensor([2., 4., 6.], grad_fn=<MulBackward0>)\n"
     ]
    }
   ],
   "source": [
    "v = 2*y\n",
    "print(v)"
   ]
  },
  {
   "cell_type": "code",
   "execution_count": 5,
   "id": "0ad97593",
   "metadata": {},
   "outputs": [
    {
     "name": "stdout",
     "output_type": "stream",
     "text": [
      "tensor(4., grad_fn=<MeanBackward0>)\n"
     ]
    }
   ],
   "source": [
    "z = v.mean()\n",
    "print(z)"
   ]
  },
  {
   "cell_type": "code",
   "execution_count": 6,
   "id": "6ff16a97",
   "metadata": {},
   "outputs": [],
   "source": [
    "z.backward()"
   ]
  },
  {
   "cell_type": "code",
   "execution_count": 7,
   "id": "eca37ab9",
   "metadata": {},
   "outputs": [
    {
     "name": "stdout",
     "output_type": "stream",
     "text": [
      "tensor([0.6667, 0.6667, 0.6667])\n"
     ]
    }
   ],
   "source": [
    "print(y.grad)"
   ]
  },
  {
   "cell_type": "code",
   "execution_count": 8,
   "id": "71e62fc2",
   "metadata": {},
   "outputs": [
    {
     "data": {
      "text/plain": [
       "0.6666666666666666"
      ]
     },
     "execution_count": 8,
     "metadata": {},
     "output_type": "execute_result"
    }
   ],
   "source": [
    "2/3"
   ]
  },
  {
   "cell_type": "markdown",
   "id": "eb65102b",
   "metadata": {},
   "source": [
    "# prevent gradient computations"
   ]
  },
  {
   "cell_type": "code",
   "execution_count": 9,
   "id": "c1d16479",
   "metadata": {},
   "outputs": [
    {
     "name": "stdout",
     "output_type": "stream",
     "text": [
      "tensor([1., 2., 3.])\n",
      "tensor([1., 2., 3.])\n",
      "tensor([1., 2., 3.], requires_grad=True)\n",
      "tensor([2., 4., 6.])\n"
     ]
    }
   ],
   "source": [
    "y = torch.tensor([1., 2., 3.], requires_grad=False)\n",
    "print(y)\n",
    "\n",
    "x = torch.tensor([1., 2., 3.])\n",
    "x.requires_grad_(False)\n",
    "print(x)\n",
    "\n",
    "u = torch.tensor([1., 2., 3.])\n",
    "u.requires_grad_(True)\n",
    "print(u)\n",
    "\n",
    "with torch.no_grad():\n",
    "    z = 2*u\n",
    "    print(z)"
   ]
  },
  {
   "cell_type": "code",
   "execution_count": 10,
   "id": "fe470679",
   "metadata": {},
   "outputs": [
    {
     "name": "stdout",
     "output_type": "stream",
     "text": [
      "tensor([1., 2., 3.])\n"
     ]
    }
   ],
   "source": [
    "v = torch.tensor([1., 2., 3.], requires_grad=True)\n",
    "w = v.detach() # return a copy with requires_grad = False\n",
    "print(w)"
   ]
  },
  {
   "cell_type": "markdown",
   "id": "21a6df50",
   "metadata": {},
   "source": [
    "# By default, PyTorch accumulates the gradients"
   ]
  },
  {
   "cell_type": "code",
   "execution_count": 11,
   "id": "a6dea9f3",
   "metadata": {},
   "outputs": [
    {
     "name": "stdout",
     "output_type": "stream",
     "text": [
      "tensor([0.3333, 0.3333, 0.3333])\n",
      "tensor([0.3333, 0.3333, 0.3333])\n",
      "tensor([0.3333, 0.3333, 0.3333])\n",
      "tensor([0.3333, 0.3333, 0.3333])\n",
      "tensor([0.3333, 0.3333, 0.3333])\n"
     ]
    }
   ],
   "source": [
    "y = torch.tensor([1., 2., 3.], requires_grad=True)\n",
    "\n",
    "for i in range(5):\n",
    "    \n",
    "    model_output = y.mean()\n",
    "    \n",
    "    model_output.backward()\n",
    "    \n",
    "    print(y.grad)\n",
    "    \n",
    "    y.grad.zero_()\n",
    "#     y.grad.data = torch.tensor([0., 0., 0.])"
   ]
  },
  {
   "cell_type": "code",
   "execution_count": 12,
   "id": "db5c0a70",
   "metadata": {},
   "outputs": [
    {
     "data": {
      "text/plain": [
       "0.3333333333333333"
      ]
     },
     "execution_count": 12,
     "metadata": {},
     "output_type": "execute_result"
    }
   ],
   "source": [
    "1/3"
   ]
  },
  {
   "cell_type": "markdown",
   "id": "05f44256",
   "metadata": {},
   "source": [
    "# Linear Regression from Scratch"
   ]
  },
  {
   "cell_type": "markdown",
   "id": "a7baa798",
   "metadata": {},
   "source": [
    "## generate data"
   ]
  },
  {
   "cell_type": "code",
   "execution_count": 13,
   "id": "9eac126e",
   "metadata": {},
   "outputs": [
    {
     "data": {
      "text/plain": [
       "[<matplotlib.lines.Line2D at 0x230dfc43240>]"
      ]
     },
     "execution_count": 13,
     "metadata": {},
     "output_type": "execute_result"
    },
    {
     "data": {
      "image/png": "[encoded data removed]",
      "text/plain": [
       "<Figure size 432x288 with 1 Axes>"
      ]
     },
     "metadata": {
      "needs_background": "light"
     },
     "output_type": "display_data"
    }
   ],
   "source": [
    "import numpy as np\n",
    "import matplotlib.pyplot as plt\n",
    "\n",
    "# Training data ==> (Xs, ys)\n",
    "N_data = 100\n",
    "Xs = np.random.rand(N_data, 1) # uniform distribution over [0, 1]\n",
    "# print(Xs)\n",
    "\n",
    "a = np.random.rand(1)\n",
    "b = np.random.rand(1)\n",
    "ys = Xs*a + b + np.random.randn(N_data, 1)*0.002 # y = ax + b\n",
    "\n",
    "plt.scatter(Xs, ys)\n",
    "\n",
    "# Underlying (clean) data\n",
    "X_ = np.linspace(Xs.min(), Xs.max())\n",
    "y_ = X_*a + b\n",
    "plt.plot(X_, y_, color='g')"
   ]
  },
  {
   "cell_type": "code",
   "execution_count": 14,
   "id": "b87146ed",
   "metadata": {},
   "outputs": [],
   "source": [
    "import torch\n",
    "\n",
    "x = torch.from_numpy(Xs).float()  # numpy array to PyTorch tensor\n",
    "y = torch.from_numpy(ys).float()\n",
    "\n",
    "# initialization\n",
    "w1 = torch.rand(1, requires_grad=True)\n",
    "w2 = torch.rand(1, requires_grad=True)"
   ]
  },
  {
   "cell_type": "code",
   "execution_count": 15,
   "id": "94a4f056",
   "metadata": {},
   "outputs": [
    {
     "name": "stdout",
     "output_type": "stream",
     "text": [
      "epoch=0 - loss=0.3106815218925476\n",
      "epoch=100 - loss=0.010054857470095158\n",
      "epoch=200 - loss=0.006209827493876219\n",
      "epoch=300 - loss=0.004675295669585466\n",
      "epoch=400 - loss=0.00352652370929718\n",
      "epoch=500 - loss=0.0026603322476148605\n",
      "epoch=600 - loss=0.0020071708131581545\n",
      "epoch=700 - loss=0.0015146444784477353\n",
      "epoch=800 - loss=0.0011432536412030458\n",
      "epoch=900 - loss=0.0008632022654637694\n"
     ]
    }
   ],
   "source": [
    "learning_rate = 0.01\n",
    "epochs = 1000\n",
    "\n",
    "for epoch in range(epochs):\n",
    "    \n",
    "    # forward pass\n",
    "    y_pred = x*w1 + w2\n",
    "    \n",
    "    # compute loss \n",
    "    loss = (y_pred - y).pow(2).mean() # mean squared error\n",
    "    \n",
    "    loss.backward()\n",
    "    \n",
    "    if epoch % 100 == 0:\n",
    "        print(f\"epoch={epoch} - loss={loss.data}\")\n",
    "    \n",
    "    # update parameters\n",
    "    w1.data = w1.data - learning_rate*w1.grad.data\n",
    "    w2.data = w2.data - learning_rate*w2.grad.data\n",
    "    \n",
    "    w1.grad.data.zero_()\n",
    "    w2.grad.data.zero_()"
   ]
  },
  {
   "cell_type": "code",
   "execution_count": 16,
   "id": "80f25315",
   "metadata": {},
   "outputs": [
    {
     "data": {
      "text/plain": [
       "<matplotlib.collections.PathCollection at 0x230e7a852b0>"
      ]
     },
     "execution_count": 16,
     "metadata": {},
     "output_type": "execute_result"
    },
    {
     "data": {
      "image/png": "[encoded data removed]",
      "text/plain": [
       "<Figure size 432x288 with 1 Axes>"
      ]
     },
     "metadata": {
      "needs_background": "light"
     },
     "output_type": "display_data"
    }
   ],
   "source": [
    "# y_hat = X_*w1.detach().numpy() + w2.detach().numpy()\n",
    "y_hat = Xs*w1.detach().numpy() + w2.detach().numpy()\n",
    "\n",
    "\n",
    "plt.plot(X_, y_, color='g')\n",
    "plt.scatter(Xs, y_hat, color = 'b')"
   ]
  },
  {
   "cell_type": "code",
   "execution_count": null,
   "id": "4997645f",
   "metadata": {},
   "outputs": [],
   "source": []
  }
 ],
 "metadata": {
  "kernelspec": {
   "display_name": "Python 3",
   "language": "python",
   "name": "python3"
  },
  "language_info": {
   "codemirror_mode": {
    "name": "ipython",
    "version": 3
   },
   "file_extension": ".py",
   "mimetype": "text/x-python",
   "name": "python",
   "nbconvert_exporter": "python",
   "pygments_lexer": "ipython3",
   "version": "3.6.13"
  }
 },
 "nbformat": 4,
 "nbformat_minor": 5
}
