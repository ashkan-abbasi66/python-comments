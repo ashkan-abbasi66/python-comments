{
 "cells": [
  {
   "cell_type": "code",
   "execution_count": 2,
   "id": "aebda328",
   "metadata": {},
   "outputs": [],
   "source": [
    "import torch\n",
    "from d2l import torch as d2l"
   ]
  },
  {
   "cell_type": "code",
   "execution_count": 3,
   "id": "462df5ed",
   "metadata": {},
   "outputs": [
    {
     "name": "stdout",
     "output_type": "stream",
     "text": [
      "def train_ch13(net, train_iter, test_iter, loss, trainer, num_epochs,\n",
      "               devices=d2l.try_all_gpus()):\n",
      "    \"\"\"Train a model with mutiple GPUs (defined in Chapter 13).\n",
      "\n",
      "    Defined in :numref:`sec_image_augmentation`\"\"\"\n",
      "    timer, num_batches = d2l.Timer(), len(train_iter)\n",
      "    animator = d2l.Animator(xlabel='epoch', xlim=[1, num_epochs], ylim=[0, 1],\n",
      "                            legend=['train loss', 'train acc', 'test acc'])\n",
      "    net = nn.DataParallel(net, device_ids=devices).to(devices[0])\n",
      "    for epoch in range(num_epochs):\n",
      "        # Sum of training loss, sum of training accuracy, no. of examples,\n",
      "        # no. of predictions\n",
      "        metric = d2l.Accumulator(4)\n",
      "        for i, (features, labels) in enumerate(train_iter):\n",
      "            timer.start()\n",
      "            l, acc = train_batch_ch13(\n",
      "                net, features, labels, loss, trainer, devices)\n",
      "            metric.add(l, acc, labels.shape[0], labels.numel())\n",
      "            timer.stop()\n",
      "            if (i + 1) % (num_batches // 5) == 0 or i == num_batches - 1:\n",
      "                animator.add(epoch + (i + 1) / num_batches,\n",
      "                             (metric[0] / metric[2], metric[1] / metric[3],\n",
      "                              None))\n",
      "        test_acc = d2l.evaluate_accuracy_gpu(net, test_iter)\n",
      "        animator.add(epoch + 1, (None, None, test_acc))\n",
      "    print(f'loss {metric[0] / metric[2]:.3f}, train acc '\n",
      "          f'{metric[1] / metric[3]:.3f}, test acc {test_acc:.3f}')\n",
      "    print(f'{metric[2] * num_epochs / timer.sum():.1f} examples/sec on '\n",
      "          f'{str(devices)}')\n",
      "\n"
     ]
    }
   ],
   "source": [
    "import inspect\n",
    "lines = inspect.getsource(d2l.train_ch13)\n",
    "print(lines)"
   ]
  },
  {
   "cell_type": "code",
   "execution_count": 4,
   "id": "8670f161",
   "metadata": {},
   "outputs": [
    {
     "name": "stdout",
     "output_type": "stream",
     "text": [
      "def train_batch_ch13(net, X, y, loss, trainer, devices):\n",
      "    \"\"\"Train for a minibatch with mutiple GPUs (defined in Chapter 13).\n",
      "\n",
      "    Defined in :numref:`sec_image_augmentation`\"\"\"\n",
      "    if isinstance(X, list):\n",
      "        # Required for BERT fine-tuning (to be covered later)\n",
      "        X = [x.to(devices[0]) for x in X]\n",
      "    else:\n",
      "        X = X.to(devices[0])\n",
      "    y = y.to(devices[0])\n",
      "    net.train()\n",
      "    trainer.zero_grad()\n",
      "    pred = net(X)\n",
      "    l = loss(pred, y)\n",
      "    l.sum().backward()\n",
      "    trainer.step()\n",
      "    train_loss_sum = l.sum()\n",
      "    train_acc_sum = d2l.accuracy(pred, y)\n",
      "    return train_loss_sum, train_acc_sum\n",
      "\n"
     ]
    }
   ],
   "source": [
    "lines = inspect.getsource(d2l.train_batch_ch13)\n",
    "print(lines)"
   ]
  },
  {
   "cell_type": "code",
   "execution_count": 5,
   "id": "6cba0b03",
   "metadata": {},
   "outputs": [
    {
     "name": "stdout",
     "output_type": "stream",
     "text": [
      "def accuracy(y_hat, y):\n",
      "    \"\"\"Compute the number of correct predictions.\n",
      "\n",
      "    Defined in :numref:`sec_softmax_scratch`\"\"\"\n",
      "    if len(y_hat.shape) > 1 and y_hat.shape[1] > 1:\n",
      "        y_hat = d2l.argmax(y_hat, axis=1)\n",
      "    cmp = d2l.astype(y_hat, y.dtype) == y\n",
      "    return float(d2l.reduce_sum(d2l.astype(cmp, y.dtype)))\n",
      "\n"
     ]
    }
   ],
   "source": [
    "lines = inspect.getsource(d2l.accuracy)\n",
    "print(lines)"
   ]
  },
  {
   "cell_type": "code",
   "execution_count": 4,
   "id": "6e256ac6",
   "metadata": {},
   "outputs": [],
   "source": [
    "import inspect\n",
    "from d2l import torch as d2l"
   ]
  },
  {
   "cell_type": "code",
   "execution_count": 5,
   "id": "166e6c7d",
   "metadata": {},
   "outputs": [
    {
     "name": "stdout",
     "output_type": "stream",
     "text": [
      "argmax = lambda x, *args, **kwargs: x.argmax(*args, **kwargs)\n",
      "\n"
     ]
    }
   ],
   "source": [
    "lines = inspect.getsource(d2l.argmax)\n",
    "print(lines)"
   ]
  },
  {
   "cell_type": "code",
   "execution_count": 7,
   "id": "a12c917f",
   "metadata": {},
   "outputs": [
    {
     "name": "stdout",
     "output_type": "stream",
     "text": [
      "def evaluate_accuracy_gpu(net, data_iter, device=None):\n",
      "    \"\"\"Compute the accuracy for a model on a dataset using a GPU.\n",
      "\n",
      "    Defined in :numref:`sec_lenet`\"\"\"\n",
      "    if isinstance(net, nn.Module):\n",
      "        net.eval()  # Set the model to evaluation mode\n",
      "        if not device:\n",
      "            device = next(iter(net.parameters())).device\n",
      "    # No. of correct predictions, no. of predictions\n",
      "    metric = d2l.Accumulator(2)\n",
      "\n",
      "    with torch.no_grad():\n",
      "        for X, y in data_iter:\n",
      "            if isinstance(X, list):\n",
      "                # Required for BERT Fine-tuning (to be covered later)\n",
      "                X = [x.to(device) for x in X]\n",
      "            else:\n",
      "                X = X.to(device)\n",
      "            y = y.to(device)\n",
      "            metric.add(d2l.accuracy(net(X), y), d2l.size(y))\n",
      "    return metric[0] / metric[1]\n",
      "\n"
     ]
    }
   ],
   "source": [
    "lines = inspect.getsource(d2l.evaluate_accuracy_gpu)\n",
    "print(lines)"
   ]
  },
  {
   "cell_type": "code",
   "execution_count": null,
   "id": "c8a4ac35",
   "metadata": {},
   "outputs": [],
   "source": []
  }
 ],
 "metadata": {
  "kernelspec": {
   "display_name": "Python 3 (ipykernel)",
   "language": "python",
   "name": "python3"
  },
  "language_info": {
   "codemirror_mode": {
    "name": "ipython",
    "version": 3
   },
   "file_extension": ".py",
   "mimetype": "text/x-python",
   "name": "python",
   "nbconvert_exporter": "python",
   "pygments_lexer": "ipython3",
   "version": "3.8.13"
  }
 },
 "nbformat": 4,
 "nbformat_minor": 5
}
